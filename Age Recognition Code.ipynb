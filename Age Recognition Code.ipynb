{
 "cells": [
  {
   "cell_type": "code",
   "execution_count": 1,
   "id": "017692c4",
   "metadata": {
    "execution": {
     "iopub.execute_input": "2024-04-05T18:23:33.639283Z",
     "iopub.status.busy": "2024-04-05T18:23:33.638781Z",
     "iopub.status.idle": "2024-04-05T18:23:52.897220Z",
     "shell.execute_reply": "2024-04-05T18:23:52.895683Z",
     "shell.execute_reply.started": "2024-04-05T18:23:33.639248Z"
    },
    "papermill": {
     "duration": 15.677937,
     "end_time": "2024-04-05T03:45:38.722287",
     "exception": false,
     "start_time": "2024-04-05T03:45:23.044350",
     "status": "completed"
    },
    "tags": []
   },
   "outputs": [
    {
     "name": "stderr",
     "output_type": "stream",
     "text": [
      "2024-04-05 18:23:36.091479: E external/local_xla/xla/stream_executor/cuda/cuda_dnn.cc:9261] Unable to register cuDNN factory: Attempting to register factory for plugin cuDNN when one has already been registered\n",
      "2024-04-05 18:23:36.091637: E external/local_xla/xla/stream_executor/cuda/cuda_fft.cc:607] Unable to register cuFFT factory: Attempting to register factory for plugin cuFFT when one has already been registered\n",
      "2024-04-05 18:23:36.271425: E external/local_xla/xla/stream_executor/cuda/cuda_blas.cc:1515] Unable to register cuBLAS factory: Attempting to register factory for plugin cuBLAS when one has already been registered\n"
     ]
    }
   ],
   "source": [
    "import os\n",
    "import tensorflow as tf\n",
    "import pandas as pd\n",
    "import numpy as np\n",
    "import seaborn as sns\n",
    "import matplotlib.pyplot as plt\n",
    "import cv2\n",
    "from tensorflow.keras.preprocessing.image import ImageDataGenerator\n",
    "from tensorflow.keras.preprocessing import image\n",
    "from sklearn.model_selection import train_test_split\n",
    "from keras import regularizers\n",
    "\n",
    "\n",
    "from keras.optimizers import Adam\n",
    "from sklearn.metrics import classification_report, confusion_matrix,ConfusionMatrixDisplay\n",
    "from keras.callbacks import ModelCheckpoint,EarlyStopping\n",
    "from tensorflow.keras.utils import load_img\n",
    "\n",
    "from tqdm.notebook import tqdm\n",
    "from keras.models import Model\n",
    "from sklearn.utils.class_weight import compute_class_weight\n",
    "from PIL import Image"
   ]
  },
  {
   "cell_type": "markdown",
   "id": "f8416aac",
   "metadata": {
    "papermill": {
     "duration": 0.019369,
     "end_time": "2024-04-05T03:45:38.761012",
     "exception": false,
     "start_time": "2024-04-05T03:45:38.741643",
     "status": "completed"
    },
    "tags": []
   },
   "source": [
    "# Age Classification Convolutional Neural Network\n",
    "\n",
    "## Overview\n",
    "We will build two neural networks to classify age, gender.\n",
    "\n",
    "### Age Classification\n",
    "The first neural network will classify age into the following bins:\n",
    "\n",
    "- <span style=\"color:blue\">Age 1-2</span>\n",
    "- <span style=\"color:green\">Age 3-9</span>\n",
    "- <span style=\"color:orange\">Age 10-20</span>\n",
    "- <span style=\"color:red\">Age 21-27</span>\n",
    "- <span style=\"color:\">Age 28-45</span>\n",
    "- <span style=\"color:purple\">Age 46-65</span>\n",
    "- <span style=\"color:yellow\">Age +66</span>\n",
    "\n",
    "\n"
   ]
  },
  {
   "cell_type": "markdown",
   "id": "4a71fe67",
   "metadata": {
    "papermill": {
     "duration": 0.018764,
     "end_time": "2024-04-05T03:45:38.798307",
     "exception": false,
     "start_time": "2024-04-05T03:45:38.779543",
     "status": "completed"
    },
    "tags": []
   },
   "source": [
    "# Data Import\n",
    "\n",
    "## Dataset Selection\n",
    "We will use the augmented open-source dataset called <span style=\"color:blue\">\"UTKFace\"</span>. This dataset comprises over <span style=\"color:green\">200,000 images</span> of individuals ranging from <span style=\"color:orange\">1 to 100 years</span> of age.\n"
   ]
  },
  {
   "cell_type": "code",
   "execution_count": 2,
   "id": "476a86b3",
   "metadata": {
    "execution": {
     "iopub.execute_input": "2024-04-05T18:23:52.901033Z",
     "iopub.status.busy": "2024-04-05T18:23:52.899343Z",
     "iopub.status.idle": "2024-04-05T18:23:52.911065Z",
     "shell.execute_reply": "2024-04-05T18:23:52.907272Z",
     "shell.execute_reply.started": "2024-04-05T18:23:52.900972Z"
    },
    "papermill": {
     "duration": 0.027031,
     "end_time": "2024-04-05T03:45:38.883682",
     "exception": false,
     "start_time": "2024-04-05T03:45:38.856651",
     "status": "completed"
    },
    "tags": []
   },
   "outputs": [],
   "source": [
    "BASE_DIR_train =\"/kaggle/input/augmented-age-dataset/augmented_age_dataset/content/combined_faces_train_augmented/\"\n",
    "\n",
    "BASE_DIR_test =\"/kaggle/input/age-test-dataset/content/combined_faces/\"\n",
    "\n"
   ]
  },
  {
   "cell_type": "code",
   "execution_count": 3,
   "id": "03c19338",
   "metadata": {
    "execution": {
     "iopub.execute_input": "2024-04-05T18:23:52.913152Z",
     "iopub.status.busy": "2024-04-05T18:23:52.912747Z",
     "iopub.status.idle": "2024-04-05T18:23:52.929512Z",
     "shell.execute_reply": "2024-04-05T18:23:52.928256Z",
     "shell.execute_reply.started": "2024-04-05T18:23:52.913122Z"
    },
    "papermill": {
     "duration": 0.025889,
     "end_time": "2024-04-05T03:45:38.927859",
     "exception": false,
     "start_time": "2024-04-05T03:45:38.901970",
     "status": "completed"
    },
    "tags": []
   },
   "outputs": [],
   "source": [
    "age_classes=['1-2','3-9','10-20','21-27','28-45','46-65','+66']\n",
    "\n"
   ]
  },
  {
   "cell_type": "code",
   "execution_count": null,
   "id": "9d490a15",
   "metadata": {
    "papermill": {
     "duration": 0.019184,
     "end_time": "2024-04-05T03:45:38.965791",
     "exception": false,
     "start_time": "2024-04-05T03:45:38.946607",
     "status": "completed"
    },
    "tags": []
   },
   "outputs": [],
   "source": []
  },
  {
   "cell_type": "code",
   "execution_count": 4,
   "id": "450014bd",
   "metadata": {
    "execution": {
     "iopub.execute_input": "2024-04-05T18:23:52.933990Z",
     "iopub.status.busy": "2024-04-05T18:23:52.932069Z",
     "iopub.status.idle": "2024-04-05T18:24:04.418723Z",
     "shell.execute_reply": "2024-04-05T18:24:04.416902Z",
     "shell.execute_reply.started": "2024-04-05T18:23:52.933940Z"
    },
    "papermill": {
     "duration": 3.196211,
     "end_time": "2024-04-05T03:45:42.180639",
     "exception": false,
     "start_time": "2024-04-05T03:45:38.984428",
     "status": "completed"
    },
    "tags": []
   },
   "outputs": [
    {
     "data": {
      "application/vnd.jupyter.widget-view+json": {
       "model_id": "a8b110ca3130471e8418f2618e1273a5",
       "version_major": 2,
       "version_minor": 0
      },
      "text/plain": [
       "  0%|          | 0/234400 [00:00<?, ?it/s]"
      ]
     },
     "metadata": {},
     "output_type": "display_data"
    }
   ],
   "source": [
    "image_paths_train = []\n",
    "age_labels_train = []\n",
    "\n",
    "for filename in tqdm(os.listdir(BASE_DIR_train)):\n",
    "    image_path = os.path.join(BASE_DIR_train, filename)\n",
    "    temp = filename.split('_')\n",
    "    age = int(temp[0])\n",
    "    image_paths_train.append(image_path)\n",
    "    age_labels_train.append(age)\n"
   ]
  },
  {
   "cell_type": "code",
   "execution_count": 5,
   "id": "e2911538",
   "metadata": {
    "execution": {
     "iopub.execute_input": "2024-04-05T18:24:04.421451Z",
     "iopub.status.busy": "2024-04-05T18:24:04.420577Z",
     "iopub.status.idle": "2024-04-05T18:24:05.030794Z",
     "shell.execute_reply": "2024-04-05T18:24:05.029574Z",
     "shell.execute_reply.started": "2024-04-05T18:24:04.421416Z"
    },
    "papermill": {
     "duration": 0.844764,
     "end_time": "2024-04-05T03:45:43.044378",
     "exception": false,
     "start_time": "2024-04-05T03:45:42.199614",
     "status": "completed"
    },
    "tags": []
   },
   "outputs": [
    {
     "data": {
      "application/vnd.jupyter.widget-view+json": {
       "model_id": "b685a93afccf42b7aed2c50c3f48826d",
       "version_major": 2,
       "version_minor": 0
      },
      "text/plain": [
       "  0%|          | 0/33486 [00:00<?, ?it/s]"
      ]
     },
     "metadata": {},
     "output_type": "display_data"
    }
   ],
   "source": [
    "image_paths_test = []\n",
    "age_labels_test = []\n",
    "\n",
    "for filename in tqdm(os.listdir(BASE_DIR_test)):\n",
    "    image_path = os.path.join(BASE_DIR_test, filename)\n",
    "    temp = filename.split('_')\n",
    "    age = int(temp[0])\n",
    "    image_paths_test.append(image_path)\n",
    "    age_labels_test.append(age)\n"
   ]
  },
  {
   "cell_type": "code",
   "execution_count": 6,
   "id": "5daaa2ce",
   "metadata": {
    "execution": {
     "iopub.execute_input": "2024-04-05T18:24:05.032921Z",
     "iopub.status.busy": "2024-04-05T18:24:05.032495Z",
     "iopub.status.idle": "2024-04-05T18:24:05.277684Z",
     "shell.execute_reply": "2024-04-05T18:24:05.276612Z",
     "shell.execute_reply.started": "2024-04-05T18:24:05.032888Z"
    },
    "papermill": {
     "duration": 0.193377,
     "end_time": "2024-04-05T03:45:43.256982",
     "exception": false,
     "start_time": "2024-04-05T03:45:43.063605",
     "status": "completed"
    },
    "tags": []
   },
   "outputs": [
    {
     "data": {
      "text/html": [
       "<div>\n",
       "<style scoped>\n",
       "    .dataframe tbody tr th:only-of-type {\n",
       "        vertical-align: middle;\n",
       "    }\n",
       "\n",
       "    .dataframe tbody tr th {\n",
       "        vertical-align: top;\n",
       "    }\n",
       "\n",
       "    .dataframe thead th {\n",
       "        text-align: right;\n",
       "    }\n",
       "</style>\n",
       "<table border=\"1\" class=\"dataframe\">\n",
       "  <thead>\n",
       "    <tr style=\"text-align: right;\">\n",
       "      <th></th>\n",
       "      <th>image</th>\n",
       "      <th>age</th>\n",
       "    </tr>\n",
       "  </thead>\n",
       "  <tbody>\n",
       "    <tr>\n",
       "      <th>0</th>\n",
       "      <td>/kaggle/input/augmented-age-dataset/augmented_...</td>\n",
       "      <td>8</td>\n",
       "    </tr>\n",
       "    <tr>\n",
       "      <th>1</th>\n",
       "      <td>/kaggle/input/augmented-age-dataset/augmented_...</td>\n",
       "      <td>17</td>\n",
       "    </tr>\n",
       "    <tr>\n",
       "      <th>2</th>\n",
       "      <td>/kaggle/input/augmented-age-dataset/augmented_...</td>\n",
       "      <td>31</td>\n",
       "    </tr>\n",
       "    <tr>\n",
       "      <th>3</th>\n",
       "      <td>/kaggle/input/augmented-age-dataset/augmented_...</td>\n",
       "      <td>78</td>\n",
       "    </tr>\n",
       "    <tr>\n",
       "      <th>4</th>\n",
       "      <td>/kaggle/input/augmented-age-dataset/augmented_...</td>\n",
       "      <td>90</td>\n",
       "    </tr>\n",
       "  </tbody>\n",
       "</table>\n",
       "</div>"
      ],
      "text/plain": [
       "                                               image  age\n",
       "0  /kaggle/input/augmented-age-dataset/augmented_...    8\n",
       "1  /kaggle/input/augmented-age-dataset/augmented_...   17\n",
       "2  /kaggle/input/augmented-age-dataset/augmented_...   31\n",
       "3  /kaggle/input/augmented-age-dataset/augmented_...   78\n",
       "4  /kaggle/input/augmented-age-dataset/augmented_...   90"
      ]
     },
     "execution_count": 6,
     "metadata": {},
     "output_type": "execute_result"
    }
   ],
   "source": [
    "df_age_train = pd.DataFrame()\n",
    "df_age_train['image'], df_age_train['age'] = image_paths_train, age_labels_train\n",
    "df_age_train.head()"
   ]
  },
  {
   "cell_type": "code",
   "execution_count": 7,
   "id": "2ffabc55",
   "metadata": {
    "execution": {
     "iopub.execute_input": "2024-04-05T18:24:05.280238Z",
     "iopub.status.busy": "2024-04-05T18:24:05.279134Z",
     "iopub.status.idle": "2024-04-05T18:24:05.320724Z",
     "shell.execute_reply": "2024-04-05T18:24:05.319113Z",
     "shell.execute_reply.started": "2024-04-05T18:24:05.280198Z"
    },
    "papermill": {
     "duration": 0.050654,
     "end_time": "2024-04-05T03:45:43.327883",
     "exception": false,
     "start_time": "2024-04-05T03:45:43.277229",
     "status": "completed"
    },
    "tags": []
   },
   "outputs": [
    {
     "data": {
      "text/html": [
       "<div>\n",
       "<style scoped>\n",
       "    .dataframe tbody tr th:only-of-type {\n",
       "        vertical-align: middle;\n",
       "    }\n",
       "\n",
       "    .dataframe tbody tr th {\n",
       "        vertical-align: top;\n",
       "    }\n",
       "\n",
       "    .dataframe thead th {\n",
       "        text-align: right;\n",
       "    }\n",
       "</style>\n",
       "<table border=\"1\" class=\"dataframe\">\n",
       "  <thead>\n",
       "    <tr style=\"text-align: right;\">\n",
       "      <th></th>\n",
       "      <th>image</th>\n",
       "      <th>age</th>\n",
       "    </tr>\n",
       "  </thead>\n",
       "  <tbody>\n",
       "    <tr>\n",
       "      <th>0</th>\n",
       "      <td>/kaggle/input/age-test-dataset/content/combine...</td>\n",
       "      <td>8</td>\n",
       "    </tr>\n",
       "    <tr>\n",
       "      <th>1</th>\n",
       "      <td>/kaggle/input/age-test-dataset/content/combine...</td>\n",
       "      <td>30</td>\n",
       "    </tr>\n",
       "    <tr>\n",
       "      <th>2</th>\n",
       "      <td>/kaggle/input/age-test-dataset/content/combine...</td>\n",
       "      <td>20</td>\n",
       "    </tr>\n",
       "    <tr>\n",
       "      <th>3</th>\n",
       "      <td>/kaggle/input/age-test-dataset/content/combine...</td>\n",
       "      <td>3</td>\n",
       "    </tr>\n",
       "    <tr>\n",
       "      <th>4</th>\n",
       "      <td>/kaggle/input/age-test-dataset/content/combine...</td>\n",
       "      <td>23</td>\n",
       "    </tr>\n",
       "  </tbody>\n",
       "</table>\n",
       "</div>"
      ],
      "text/plain": [
       "                                               image  age\n",
       "0  /kaggle/input/age-test-dataset/content/combine...    8\n",
       "1  /kaggle/input/age-test-dataset/content/combine...   30\n",
       "2  /kaggle/input/age-test-dataset/content/combine...   20\n",
       "3  /kaggle/input/age-test-dataset/content/combine...    3\n",
       "4  /kaggle/input/age-test-dataset/content/combine...   23"
      ]
     },
     "execution_count": 7,
     "metadata": {},
     "output_type": "execute_result"
    }
   ],
   "source": [
    "df_age_test = pd.DataFrame()\n",
    "df_age_test['image'], df_age_test['age'] = image_paths_test, age_labels_test\n",
    "df_age_test.head()"
   ]
  },
  {
   "cell_type": "markdown",
   "id": "5b55696e",
   "metadata": {
    "papermill": {
     "duration": 0.018873,
     "end_time": "2024-04-05T03:45:43.366424",
     "exception": false,
     "start_time": "2024-04-05T03:45:43.347551",
     "status": "completed"
    },
    "tags": []
   },
   "source": [
    "# Age Binning\n",
    "We will transform the ages into <span style=\"color:blue\">bins</span> for better classification\n",
    ".\n",
    "\n",
    "## Data Validation\n",
    "\n",
    "### Results\n",
    "The results were successful. We managed to import our data and store it into our variables.\n",
    "riables.\r\n"
   ]
  },
  {
   "cell_type": "code",
   "execution_count": null,
   "id": "0f1e72a5",
   "metadata": {
    "papermill": {
     "duration": 0.019125,
     "end_time": "2024-04-05T03:45:43.404609",
     "exception": false,
     "start_time": "2024-04-05T03:45:43.385484",
     "status": "completed"
    },
    "tags": []
   },
   "outputs": [],
   "source": []
  },
  {
   "cell_type": "code",
   "execution_count": 8,
   "id": "3a6de6cc",
   "metadata": {
    "execution": {
     "iopub.execute_input": "2024-04-05T18:24:05.322901Z",
     "iopub.status.busy": "2024-04-05T18:24:05.322334Z",
     "iopub.status.idle": "2024-04-05T18:24:05.610744Z",
     "shell.execute_reply": "2024-04-05T18:24:05.609514Z",
     "shell.execute_reply.started": "2024-04-05T18:24:05.322869Z"
    },
    "papermill": {
     "duration": 0.486209,
     "end_time": "2024-04-05T03:45:43.909621",
     "exception": false,
     "start_time": "2024-04-05T03:45:43.423412",
     "status": "completed"
    },
    "tags": []
   },
   "outputs": [
    {
     "data": {
      "image/png": "[encoded data removed]",
      "text/plain": [
       "<Figure size 640x480 with 1 Axes>"
      ]
     },
     "metadata": {},
     "output_type": "display_data"
    }
   ],
   "source": [
    "img = Image.open(df_age_train['image'][0])\n",
    "plt.axis('off')\n",
    "plt.imshow(img);"
   ]
  },
  {
   "cell_type": "code",
   "execution_count": 9,
   "id": "d86d4095",
   "metadata": {
    "execution": {
     "iopub.execute_input": "2024-04-05T18:24:05.613104Z",
     "iopub.status.busy": "2024-04-05T18:24:05.612580Z",
     "iopub.status.idle": "2024-04-05T18:24:05.638000Z",
     "shell.execute_reply": "2024-04-05T18:24:05.636714Z",
     "shell.execute_reply.started": "2024-04-05T18:24:05.613061Z"
    },
    "papermill": {
     "duration": 0.048006,
     "end_time": "2024-04-05T03:45:43.979375",
     "exception": false,
     "start_time": "2024-04-05T03:45:43.931369",
     "status": "completed"
    },
    "tags": []
   },
   "outputs": [
    {
     "data": {
      "text/plain": [
       "(200, 200, 3)"
      ]
     },
     "execution_count": 9,
     "metadata": {},
     "output_type": "execute_result"
    }
   ],
   "source": [
    "img=cv2.imread(df_age_train['image'][0])\n",
    "img.shape"
   ]
  },
  {
   "cell_type": "code",
   "execution_count": 10,
   "id": "e15968ad",
   "metadata": {
    "execution": {
     "iopub.execute_input": "2024-04-05T18:24:05.643547Z",
     "iopub.status.busy": "2024-04-05T18:24:05.642913Z",
     "iopub.status.idle": "2024-04-05T18:24:05.651375Z",
     "shell.execute_reply": "2024-04-05T18:24:05.650265Z",
     "shell.execute_reply.started": "2024-04-05T18:24:05.643513Z"
    },
    "papermill": {
     "duration": 0.029353,
     "end_time": "2024-04-05T03:45:44.030162",
     "exception": false,
     "start_time": "2024-04-05T03:45:44.000809",
     "status": "completed"
    },
    "tags": []
   },
   "outputs": [],
   "source": [
    "def age_bins(age):\n",
    "\n",
    "    if 1 <= age <= 2:\n",
    "        return '1-2'\n",
    "    elif 3 <= age <= 9:\n",
    "        return '3-9'\n",
    "    elif 10 <= age <= 20:\n",
    "        return '10-20'\n",
    "    elif 21 <= age <= 27:\n",
    "        return '21-27'\n",
    "    elif 28 <= age <= 45:\n",
    "        return '28-45'\n",
    "    elif 46 <= age <= 65:\n",
    "        return '46-65'\n",
    "    else:\n",
    "        return '+66'"
   ]
  },
  {
   "cell_type": "code",
   "execution_count": 11,
   "id": "7c8c8f9e",
   "metadata": {
    "execution": {
     "iopub.execute_input": "2024-04-05T18:24:05.653002Z",
     "iopub.status.busy": "2024-04-05T18:24:05.652620Z",
     "iopub.status.idle": "2024-04-05T18:24:05.670244Z",
     "shell.execute_reply": "2024-04-05T18:24:05.669237Z",
     "shell.execute_reply.started": "2024-04-05T18:24:05.652973Z"
    },
    "papermill": {
     "duration": 0.030493,
     "end_time": "2024-04-05T03:45:44.081968",
     "exception": false,
     "start_time": "2024-04-05T03:45:44.051475",
     "status": "completed"
    },
    "tags": []
   },
   "outputs": [],
   "source": [
    "def age_bins_encoded(age):\n",
    "\n",
    "    if 1 <= age <= 2:\n",
    "        return 0\n",
    "    elif 3 <= age <= 9:\n",
    "        return 1\n",
    "    elif 10 <= age <= 20:\n",
    "        return 2\n",
    "    elif 21 <= age <= 27:\n",
    "        return 3\n",
    "    elif 28 <= age <= 45:\n",
    "        return 4\n",
    "    elif 46 <= age <= 65:\n",
    "        return 5\n",
    "    else:\n",
    "        return 6\n"
   ]
  },
  {
   "cell_type": "code",
   "execution_count": 12,
   "id": "ec3246f4",
   "metadata": {
    "execution": {
     "iopub.execute_input": "2024-04-05T18:24:05.672041Z",
     "iopub.status.busy": "2024-04-05T18:24:05.671435Z",
     "iopub.status.idle": "2024-04-05T18:24:05.858615Z",
     "shell.execute_reply": "2024-04-05T18:24:05.857403Z",
     "shell.execute_reply.started": "2024-04-05T18:24:05.672009Z"
    },
    "papermill": {
     "duration": 0.17879,
     "end_time": "2024-04-05T03:45:44.282310",
     "exception": false,
     "start_time": "2024-04-05T03:45:44.103520",
     "status": "completed"
    },
    "tags": []
   },
   "outputs": [],
   "source": [
    "df_age_train['age_bins']=df_age_train['age'].apply(age_bins)\n",
    "df_age_test['age_bins']=df_age_test['age'].apply(age_bins)"
   ]
  },
  {
   "cell_type": "code",
   "execution_count": 13,
   "id": "abda035c",
   "metadata": {
    "execution": {
     "iopub.execute_input": "2024-04-05T18:24:05.860707Z",
     "iopub.status.busy": "2024-04-05T18:24:05.860278Z",
     "iopub.status.idle": "2024-04-05T18:24:06.168658Z",
     "shell.execute_reply": "2024-04-05T18:24:06.167330Z",
     "shell.execute_reply.started": "2024-04-05T18:24:05.860671Z"
    },
    "papermill": {
     "duration": 0.282974,
     "end_time": "2024-04-05T03:45:44.587374",
     "exception": false,
     "start_time": "2024-04-05T03:45:44.304400",
     "status": "completed"
    },
    "tags": []
   },
   "outputs": [],
   "source": [
    "df_age_train['age_enc']=df_age_train['age'].apply(age_bins_encoded)\n",
    "df_age_test['age_enc']=df_age_test['age'].apply(age_bins_encoded)"
   ]
  },
  {
   "cell_type": "code",
   "execution_count": null,
   "id": "b26cb046",
   "metadata": {
    "papermill": {
     "duration": 0.020932,
     "end_time": "2024-04-05T03:45:44.630039",
     "exception": false,
     "start_time": "2024-04-05T03:45:44.609107",
     "status": "completed"
    },
    "tags": []
   },
   "outputs": [],
   "source": []
  },
  {
   "cell_type": "code",
   "execution_count": 14,
   "id": "efb1f834",
   "metadata": {
    "execution": {
     "iopub.execute_input": "2024-04-05T18:24:06.170711Z",
     "iopub.status.busy": "2024-04-05T18:24:06.170309Z",
     "iopub.status.idle": "2024-04-05T18:24:06.191151Z",
     "shell.execute_reply": "2024-04-05T18:24:06.190167Z",
     "shell.execute_reply.started": "2024-04-05T18:24:06.170681Z"
    },
    "papermill": {
     "duration": 0.040808,
     "end_time": "2024-04-05T03:45:44.731316",
     "exception": false,
     "start_time": "2024-04-05T03:45:44.690508",
     "status": "completed"
    },
    "tags": []
   },
   "outputs": [
    {
     "data": {
      "text/html": [
       "<div>\n",
       "<style scoped>\n",
       "    .dataframe tbody tr th:only-of-type {\n",
       "        vertical-align: middle;\n",
       "    }\n",
       "\n",
       "    .dataframe tbody tr th {\n",
       "        vertical-align: top;\n",
       "    }\n",
       "\n",
       "    .dataframe thead th {\n",
       "        text-align: right;\n",
       "    }\n",
       "</style>\n",
       "<table border=\"1\" class=\"dataframe\">\n",
       "  <thead>\n",
       "    <tr style=\"text-align: right;\">\n",
       "      <th></th>\n",
       "      <th>image</th>\n",
       "      <th>age</th>\n",
       "      <th>age_bins</th>\n",
       "      <th>age_enc</th>\n",
       "    </tr>\n",
       "  </thead>\n",
       "  <tbody>\n",
       "    <tr>\n",
       "      <th>0</th>\n",
       "      <td>/kaggle/input/augmented-age-dataset/augmented_...</td>\n",
       "      <td>8</td>\n",
       "      <td>3-9</td>\n",
       "      <td>1</td>\n",
       "    </tr>\n",
       "    <tr>\n",
       "      <th>1</th>\n",
       "      <td>/kaggle/input/augmented-age-dataset/augmented_...</td>\n",
       "      <td>17</td>\n",
       "      <td>10-20</td>\n",
       "      <td>2</td>\n",
       "    </tr>\n",
       "    <tr>\n",
       "      <th>2</th>\n",
       "      <td>/kaggle/input/augmented-age-dataset/augmented_...</td>\n",
       "      <td>31</td>\n",
       "      <td>28-45</td>\n",
       "      <td>4</td>\n",
       "    </tr>\n",
       "    <tr>\n",
       "      <th>3</th>\n",
       "      <td>/kaggle/input/augmented-age-dataset/augmented_...</td>\n",
       "      <td>78</td>\n",
       "      <td>+66</td>\n",
       "      <td>6</td>\n",
       "    </tr>\n",
       "    <tr>\n",
       "      <th>4</th>\n",
       "      <td>/kaggle/input/augmented-age-dataset/augmented_...</td>\n",
       "      <td>90</td>\n",
       "      <td>+66</td>\n",
       "      <td>6</td>\n",
       "    </tr>\n",
       "    <tr>\n",
       "      <th>...</th>\n",
       "      <td>...</td>\n",
       "      <td>...</td>\n",
       "      <td>...</td>\n",
       "      <td>...</td>\n",
       "    </tr>\n",
       "    <tr>\n",
       "      <th>234395</th>\n",
       "      <td>/kaggle/input/augmented-age-dataset/augmented_...</td>\n",
       "      <td>85</td>\n",
       "      <td>+66</td>\n",
       "      <td>6</td>\n",
       "    </tr>\n",
       "    <tr>\n",
       "      <th>234396</th>\n",
       "      <td>/kaggle/input/augmented-age-dataset/augmented_...</td>\n",
       "      <td>63</td>\n",
       "      <td>46-65</td>\n",
       "      <td>5</td>\n",
       "    </tr>\n",
       "    <tr>\n",
       "      <th>234397</th>\n",
       "      <td>/kaggle/input/augmented-age-dataset/augmented_...</td>\n",
       "      <td>59</td>\n",
       "      <td>46-65</td>\n",
       "      <td>5</td>\n",
       "    </tr>\n",
       "    <tr>\n",
       "      <th>234398</th>\n",
       "      <td>/kaggle/input/augmented-age-dataset/augmented_...</td>\n",
       "      <td>1</td>\n",
       "      <td>1-2</td>\n",
       "      <td>0</td>\n",
       "    </tr>\n",
       "    <tr>\n",
       "      <th>234399</th>\n",
       "      <td>/kaggle/input/augmented-age-dataset/augmented_...</td>\n",
       "      <td>2</td>\n",
       "      <td>1-2</td>\n",
       "      <td>0</td>\n",
       "    </tr>\n",
       "  </tbody>\n",
       "</table>\n",
       "<p>234400 rows × 4 columns</p>\n",
       "</div>"
      ],
      "text/plain": [
       "                                                    image  age age_bins  \\\n",
       "0       /kaggle/input/augmented-age-dataset/augmented_...    8      3-9   \n",
       "1       /kaggle/input/augmented-age-dataset/augmented_...   17    10-20   \n",
       "2       /kaggle/input/augmented-age-dataset/augmented_...   31    28-45   \n",
       "3       /kaggle/input/augmented-age-dataset/augmented_...   78      +66   \n",
       "4       /kaggle/input/augmented-age-dataset/augmented_...   90      +66   \n",
       "...                                                   ...  ...      ...   \n",
       "234395  /kaggle/input/augmented-age-dataset/augmented_...   85      +66   \n",
       "234396  /kaggle/input/augmented-age-dataset/augmented_...   63    46-65   \n",
       "234397  /kaggle/input/augmented-age-dataset/augmented_...   59    46-65   \n",
       "234398  /kaggle/input/augmented-age-dataset/augmented_...    1      1-2   \n",
       "234399  /kaggle/input/augmented-age-dataset/augmented_...    2      1-2   \n",
       "\n",
       "        age_enc  \n",
       "0             1  \n",
       "1             2  \n",
       "2             4  \n",
       "3             6  \n",
       "4             6  \n",
       "...         ...  \n",
       "234395        6  \n",
       "234396        5  \n",
       "234397        5  \n",
       "234398        0  \n",
       "234399        0  \n",
       "\n",
       "[234400 rows x 4 columns]"
      ]
     },
     "execution_count": 14,
     "metadata": {},
     "output_type": "execute_result"
    }
   ],
   "source": [
    "df_age_train"
   ]
  },
  {
   "cell_type": "code",
   "execution_count": 15,
   "id": "a8163851",
   "metadata": {
    "execution": {
     "iopub.execute_input": "2024-04-05T18:24:06.192972Z",
     "iopub.status.busy": "2024-04-05T18:24:06.192446Z",
     "iopub.status.idle": "2024-04-05T18:24:06.211469Z",
     "shell.execute_reply": "2024-04-05T18:24:06.209887Z",
     "shell.execute_reply.started": "2024-04-05T18:24:06.192943Z"
    },
    "papermill": {
     "duration": 0.036367,
     "end_time": "2024-04-05T03:45:44.789599",
     "exception": false,
     "start_time": "2024-04-05T03:45:44.753232",
     "status": "completed"
    },
    "tags": []
   },
   "outputs": [
    {
     "data": {
      "text/html": [
       "<div>\n",
       "<style scoped>\n",
       "    .dataframe tbody tr th:only-of-type {\n",
       "        vertical-align: middle;\n",
       "    }\n",
       "\n",
       "    .dataframe tbody tr th {\n",
       "        vertical-align: top;\n",
       "    }\n",
       "\n",
       "    .dataframe thead th {\n",
       "        text-align: right;\n",
       "    }\n",
       "</style>\n",
       "<table border=\"1\" class=\"dataframe\">\n",
       "  <thead>\n",
       "    <tr style=\"text-align: right;\">\n",
       "      <th></th>\n",
       "      <th>image</th>\n",
       "      <th>age</th>\n",
       "      <th>age_bins</th>\n",
       "      <th>age_enc</th>\n",
       "    </tr>\n",
       "  </thead>\n",
       "  <tbody>\n",
       "    <tr>\n",
       "      <th>0</th>\n",
       "      <td>/kaggle/input/age-test-dataset/content/combine...</td>\n",
       "      <td>8</td>\n",
       "      <td>3-9</td>\n",
       "      <td>1</td>\n",
       "    </tr>\n",
       "    <tr>\n",
       "      <th>1</th>\n",
       "      <td>/kaggle/input/age-test-dataset/content/combine...</td>\n",
       "      <td>30</td>\n",
       "      <td>28-45</td>\n",
       "      <td>4</td>\n",
       "    </tr>\n",
       "    <tr>\n",
       "      <th>2</th>\n",
       "      <td>/kaggle/input/age-test-dataset/content/combine...</td>\n",
       "      <td>20</td>\n",
       "      <td>10-20</td>\n",
       "      <td>2</td>\n",
       "    </tr>\n",
       "    <tr>\n",
       "      <th>3</th>\n",
       "      <td>/kaggle/input/age-test-dataset/content/combine...</td>\n",
       "      <td>3</td>\n",
       "      <td>3-9</td>\n",
       "      <td>1</td>\n",
       "    </tr>\n",
       "    <tr>\n",
       "      <th>4</th>\n",
       "      <td>/kaggle/input/age-test-dataset/content/combine...</td>\n",
       "      <td>23</td>\n",
       "      <td>21-27</td>\n",
       "      <td>3</td>\n",
       "    </tr>\n",
       "    <tr>\n",
       "      <th>...</th>\n",
       "      <td>...</td>\n",
       "      <td>...</td>\n",
       "      <td>...</td>\n",
       "      <td>...</td>\n",
       "    </tr>\n",
       "    <tr>\n",
       "      <th>33481</th>\n",
       "      <td>/kaggle/input/age-test-dataset/content/combine...</td>\n",
       "      <td>37</td>\n",
       "      <td>28-45</td>\n",
       "      <td>4</td>\n",
       "    </tr>\n",
       "    <tr>\n",
       "      <th>33482</th>\n",
       "      <td>/kaggle/input/age-test-dataset/content/combine...</td>\n",
       "      <td>27</td>\n",
       "      <td>21-27</td>\n",
       "      <td>3</td>\n",
       "    </tr>\n",
       "    <tr>\n",
       "      <th>33483</th>\n",
       "      <td>/kaggle/input/age-test-dataset/content/combine...</td>\n",
       "      <td>35</td>\n",
       "      <td>28-45</td>\n",
       "      <td>4</td>\n",
       "    </tr>\n",
       "    <tr>\n",
       "      <th>33484</th>\n",
       "      <td>/kaggle/input/age-test-dataset/content/combine...</td>\n",
       "      <td>7</td>\n",
       "      <td>3-9</td>\n",
       "      <td>1</td>\n",
       "    </tr>\n",
       "    <tr>\n",
       "      <th>33485</th>\n",
       "      <td>/kaggle/input/age-test-dataset/content/combine...</td>\n",
       "      <td>10</td>\n",
       "      <td>10-20</td>\n",
       "      <td>2</td>\n",
       "    </tr>\n",
       "  </tbody>\n",
       "</table>\n",
       "<p>33486 rows × 4 columns</p>\n",
       "</div>"
      ],
      "text/plain": [
       "                                                   image  age age_bins  \\\n",
       "0      /kaggle/input/age-test-dataset/content/combine...    8      3-9   \n",
       "1      /kaggle/input/age-test-dataset/content/combine...   30    28-45   \n",
       "2      /kaggle/input/age-test-dataset/content/combine...   20    10-20   \n",
       "3      /kaggle/input/age-test-dataset/content/combine...    3      3-9   \n",
       "4      /kaggle/input/age-test-dataset/content/combine...   23    21-27   \n",
       "...                                                  ...  ...      ...   \n",
       "33481  /kaggle/input/age-test-dataset/content/combine...   37    28-45   \n",
       "33482  /kaggle/input/age-test-dataset/content/combine...   27    21-27   \n",
       "33483  /kaggle/input/age-test-dataset/content/combine...   35    28-45   \n",
       "33484  /kaggle/input/age-test-dataset/content/combine...    7      3-9   \n",
       "33485  /kaggle/input/age-test-dataset/content/combine...   10    10-20   \n",
       "\n",
       "       age_enc  \n",
       "0            1  \n",
       "1            4  \n",
       "2            2  \n",
       "3            1  \n",
       "4            3  \n",
       "...        ...  \n",
       "33481        4  \n",
       "33482        3  \n",
       "33483        4  \n",
       "33484        1  \n",
       "33485        2  \n",
       "\n",
       "[33486 rows x 4 columns]"
      ]
     },
     "execution_count": 15,
     "metadata": {},
     "output_type": "execute_result"
    }
   ],
   "source": [
    "df_age_test"
   ]
  },
  {
   "cell_type": "markdown",
   "id": "d2b82432",
   "metadata": {
    "papermill": {
     "duration": 0.021868,
     "end_time": "2024-04-05T03:45:44.835667",
     "exception": false,
     "start_time": "2024-04-05T03:45:44.813799",
     "status": "completed"
    },
    "tags": []
   },
   "source": []
  },
  {
   "cell_type": "markdown",
   "id": "83318b22",
   "metadata": {
    "papermill": {
     "duration": 0.021911,
     "end_time": "2024-04-05T03:45:44.879916",
     "exception": false,
     "start_time": "2024-04-05T03:45:44.858005",
     "status": "completed"
    },
    "tags": []
   },
   "source": [
    "# Data Visualization\n",
    "\n",
    "### File Information Extraction\n",
    "To kickstart our data visualization process, we'll import the filenames into a dataframe.Extracting the details encapsulated within the filenames, including <span style=\"color:blue\">name</span>, <span style=\"color:green\">age</span>.\n",
    "\n"
   ]
  },
  {
   "cell_type": "markdown",
   "id": "e6c7ca9d",
   "metadata": {
    "papermill": {
     "duration": 0.022476,
     "end_time": "2024-04-05T03:45:44.924563",
     "exception": false,
     "start_time": "2024-04-05T03:45:44.902087",
     "status": "completed"
    },
    "tags": []
   },
   "source": [
    "\r\n"
   ]
  },
  {
   "cell_type": "code",
   "execution_count": null,
   "id": "436305b1",
   "metadata": {
    "papermill": {
     "duration": 0.02195,
     "end_time": "2024-04-05T03:45:44.969010",
     "exception": false,
     "start_time": "2024-04-05T03:45:44.947060",
     "status": "completed"
    },
    "tags": []
   },
   "outputs": [],
   "source": []
  },
  {
   "cell_type": "markdown",
   "id": "fd9b8b43",
   "metadata": {
    "papermill": {
     "duration": 0.021436,
     "end_time": "2024-04-05T03:45:45.012851",
     "exception": false,
     "start_time": "2024-04-05T03:45:44.991415",
     "status": "completed"
    },
    "tags": []
   },
   "source": [
    "\n",
    "\n",
    "### Age Distribution (Training Dataset)\n",
    "\n",
    "- **28-45:** <span style=\"color:green\">65,490 instances</span>\n",
    "- **21-27:** <span style=\"color:blue\">46,840 instances</span>\n",
    "- **46-65:** <span style=\"color:red\">39,190 instances</span>\n",
    "- **1-2:** <span style=\"color:orange\">22,340 instances</span>\n",
    "- **10-20:** <span style=\"color:purple\">21,950 instances</span>\n",
    "- **3-9:** <span style=\"color:green\">19,710 instances</span>\n",
    "- **+66:** <span style=\"color:pink\">18,880 instances</span>\n",
    "\n",
    "The dataset showcases a diverse age distribution. The largest representation is observed in the age range of 28-45, followed by 21-27 and 46-65. Notably, there's a substantial presence of individuals aged 1-2 and 10-20, indicating a significant representation of younger age groups. The dataset also includes a considerable number of instances in the 3-9 age range. Additionally, there's a noticeable representation of individuals aged 66 and above.\n",
    "\n",
    "Overall, the dataset demonstrates diversity in age representation, encompassing a wide range of age groups. However, the predominance of younger age groups may impact model performance and generalization, particularly in age-related predictions or analyses.\n",
    "\n",
    "\n",
    "### Age Distribution (Test Dataset)\n",
    "\n",
    "- **28-45:** <span style=\"color:green\">9,356 instances</span>\n",
    "- **21-27:** <span style=\"color:blue\">6,691 instances</span>\n",
    "- **46-65:** <span style=\"color:red\">5,598 instances</span>\n",
    "- **1-2:** <span style=\"color:orange\">3,192 instances</span>\n",
    "- **10-20:** <span style=\"color:purple\">3,136 instances</span>\n",
    "- **3-9:** <span style=\"color:green\">2,816 instances</span>\n",
    "- **+66:** <span style=\"color:pink\">2,697 instances</span>\n",
    "\n",
    "The test dataset exhibits a similar age distribution pattern to the training dataset, with the highest representation in the 28-45 and 21-27 age groups. However, the test dataset contains substantially fewer instances across all age bins compared to the training dataset. This difference in data volume and distribution between the training and test datasets may impact model evaluation and generalization.\n",
    "\n",
    "The skew towards younger age groups, particularly 28-45 and 21-27, in both datasets may influence model performance and generalization. It's crucial to consider this distribution during model evaluation to ensure robust performance across all age categories.\n",
    "\n"
   ]
  },
  {
   "cell_type": "code",
   "execution_count": 16,
   "id": "943cf6ec",
   "metadata": {
    "execution": {
     "iopub.execute_input": "2024-04-05T18:24:06.214897Z",
     "iopub.status.busy": "2024-04-05T18:24:06.213090Z",
     "iopub.status.idle": "2024-04-05T18:24:06.263630Z",
     "shell.execute_reply": "2024-04-05T18:24:06.262140Z",
     "shell.execute_reply.started": "2024-04-05T18:24:06.214850Z"
    },
    "papermill": {
     "duration": 0.066769,
     "end_time": "2024-04-05T03:45:45.101698",
     "exception": false,
     "start_time": "2024-04-05T03:45:45.034929",
     "status": "completed"
    },
    "tags": []
   },
   "outputs": [
    {
     "data": {
      "text/plain": [
       "age_bins\n",
       "28-45    65490\n",
       "21-27    46840\n",
       "46-65    39190\n",
       "1-2      22340\n",
       "10-20    21950\n",
       "3-9      19710\n",
       "+66      18880\n",
       "Name: count, dtype: int64"
      ]
     },
     "execution_count": 16,
     "metadata": {},
     "output_type": "execute_result"
    }
   ],
   "source": [
    "df_age_train['age_bins'].value_counts()"
   ]
  },
  {
   "cell_type": "code",
   "execution_count": 17,
   "id": "705839c2",
   "metadata": {
    "execution": {
     "iopub.execute_input": "2024-04-05T18:24:06.265694Z",
     "iopub.status.busy": "2024-04-05T18:24:06.265197Z",
     "iopub.status.idle": "2024-04-05T18:24:06.285334Z",
     "shell.execute_reply": "2024-04-05T18:24:06.283937Z",
     "shell.execute_reply.started": "2024-04-05T18:24:06.265652Z"
    }
   },
   "outputs": [
    {
     "data": {
      "text/plain": [
       "age_bins\n",
       "28-45    9356\n",
       "21-27    6691\n",
       "46-65    5598\n",
       "1-2      3192\n",
       "10-20    3136\n",
       "3-9      2816\n",
       "+66      2697\n",
       "Name: count, dtype: int64"
      ]
     },
     "execution_count": 17,
     "metadata": {},
     "output_type": "execute_result"
    }
   ],
   "source": [
    "df_age_test['age_bins'].value_counts()"
   ]
  },
  {
   "cell_type": "code",
   "execution_count": 21,
   "id": "5ad5cfa5",
   "metadata": {
    "execution": {
     "iopub.execute_input": "2024-04-05T18:32:06.800637Z",
     "iopub.status.busy": "2024-04-05T18:32:06.799943Z",
     "iopub.status.idle": "2024-04-05T18:32:08.354623Z",
     "shell.execute_reply": "2024-04-05T18:32:08.353172Z",
     "shell.execute_reply.started": "2024-04-05T18:32:06.800585Z"
    },
    "papermill": {
     "duration": 1.386087,
     "end_time": "2024-04-05T03:45:46.510057",
     "exception": false,
     "start_time": "2024-04-05T03:45:45.123970",
     "status": "completed"
    },
    "tags": []
   },
   "outputs": [
    {
     "data": {
      "image/png": "[encoded data removed]",
      "text/plain": [
       "<Figure size 640x480 with 1 Axes>"
      ]
     },
     "metadata": {},
     "output_type": "display_data"
    },
    {
     "data": {
      "text/plain": [
       "(None,)"
      ]
     },
     "execution_count": 21,
     "metadata": {},
     "output_type": "execute_result"
    }
   ],
   "source": [
    "import warnings\n",
    "warnings.filterwarnings(\"ignore\")\n",
    "\n",
    "sns.histplot(x=df_age_train['age_bins'], hue='age_bins', data=df_age_train)\n",
    "plt.title('Age Distribution Histogram (Training Dataset)')\n",
    "plt.xlabel('Age Categories')\n",
    "plt.show(),"
   ]
  },
  {
   "cell_type": "code",
   "execution_count": 20,
   "id": "fb61ba6d",
   "metadata": {
    "execution": {
     "iopub.execute_input": "2024-04-05T18:31:56.449166Z",
     "iopub.status.busy": "2024-04-05T18:31:56.447994Z",
     "iopub.status.idle": "2024-04-05T18:31:57.069006Z",
     "shell.execute_reply": "2024-04-05T18:31:57.068097Z",
     "shell.execute_reply.started": "2024-04-05T18:31:56.449126Z"
    },
    "papermill": {
     "duration": 0.022667,
     "end_time": "2024-04-05T03:45:46.556123",
     "exception": false,
     "start_time": "2024-04-05T03:45:46.533456",
     "status": "completed"
    },
    "tags": []
   },
   "outputs": [
    {
     "data": {
      "image/png": "[encoded data removed]",
      "text/plain": [
       "<Figure size 640x480 with 1 Axes>"
      ]
     },
     "metadata": {},
     "output_type": "display_data"
    },
    {
     "data": {
      "text/plain": [
       "(None,)"
      ]
     },
     "execution_count": 20,
     "metadata": {},
     "output_type": "execute_result"
    }
   ],
   "source": [
    "sns.histplot(x=df_age_test['age_bins'], hue='age_bins', data=df_age_test)\n",
    "plt.title('Age Distribution Histogram (Test Dataset)')\n",
    "plt.xlabel('Age Categories')\n",
    "plt.show(),"
   ]
  },
  {
   "cell_type": "markdown",
   "id": "13755b85",
   "metadata": {
    "papermill": {
     "duration": 0.023104,
     "end_time": "2024-04-05T03:45:46.602035",
     "exception": false,
     "start_time": "2024-04-05T03:45:46.578931",
     "status": "completed"
    },
    "tags": []
   },
   "source": [
    "## Data Preparation and Dataframe Creation\n",
    "\n",
    "### Loading and Preprocessing\n",
    "- **train_image_list**: <span style=\"color:blue\">Training</span> image file paths.\n",
    "- **train_labels_list**: <span style=\"color:blue\">Training</span> age labels.\n",
    "- **test_image_list**: <span style=\"color:orange\">Test</span> image file paths.\n",
    "- **test_labels_list**: <span style=\"color:orange\">Test</span> age labels.\n",
    "- **train_image_list_tf**: <span style=\"color:blue\">Training</span> image file paths (TensorFlow constant).\n",
    "- **train_labels_list_tf**: <span style=\"color:blue\">Training</span> age labels (TensorFlow constant).\n",
    "- **test_image_list_tf**: <span style=\"color:orange\">Test</span> image file paths (TensorFlow constant).\n",
    "- **test_labels_list_tf**: <span style=\"color:orange\">Test</span> age labels (TensorFlow constant).\n",
    "- **num_classes**: <span style=\"color:green\">Number</span> of age categories (7).\n",
    "\n",
    "### Parsing Function\n",
    "- **_parse_function(filename, label)**: Parses images and labels.\n",
    "    - Reads image files.\n",
    "    - Decodes JPEG images.\n",
    "    - Converts labels to one-hot encoded vectors.\n"
   ]
  },
  {
   "cell_type": "code",
   "execution_count": 18,
   "id": "55f7a2d3",
   "metadata": {
    "execution": {
     "iopub.execute_input": "2024-04-05T03:45:46.650314Z",
     "iopub.status.busy": "2024-04-05T03:45:46.649965Z",
     "iopub.status.idle": "2024-04-05T03:45:46.767502Z",
     "shell.execute_reply": "2024-04-05T03:45:46.766497Z"
    },
    "papermill": {
     "duration": 0.144546,
     "end_time": "2024-04-05T03:45:46.769728",
     "exception": false,
     "start_time": "2024-04-05T03:45:46.625182",
     "status": "completed"
    },
    "tags": []
   },
   "outputs": [],
   "source": [
    "train_image_list = list(df_age_train['image'])\n",
    "train_labels_list = list(df_age_train['age_enc'])\n",
    "\n",
    "test_image_list = list(df_age_test['image'])\n",
    "test_labels_list = list(df_age_test['age_enc'])"
   ]
  },
  {
   "cell_type": "code",
   "execution_count": 19,
   "id": "8927423b",
   "metadata": {
    "execution": {
     "iopub.execute_input": "2024-04-05T03:45:46.821159Z",
     "iopub.status.busy": "2024-04-05T03:45:46.820827Z",
     "iopub.status.idle": "2024-04-05T03:45:47.703669Z",
     "shell.execute_reply": "2024-04-05T03:45:47.702896Z"
    },
    "papermill": {
     "duration": 0.911222,
     "end_time": "2024-04-05T03:45:47.705931",
     "exception": false,
     "start_time": "2024-04-05T03:45:46.794709",
     "status": "completed"
    },
    "tags": []
   },
   "outputs": [],
   "source": [
    "train_image_list_tf = tf.constant(train_image_list)\n",
    "train_labels_list_tf = tf.constant(train_labels_list)\n",
    "\n",
    "test_image_list_tf = tf.constant(test_image_list)\n",
    "test_labels_list_tf = tf.constant(test_labels_list)"
   ]
  },
  {
   "cell_type": "code",
   "execution_count": 20,
   "id": "b66ba476",
   "metadata": {
    "execution": {
     "iopub.execute_input": "2024-04-05T03:45:47.754480Z",
     "iopub.status.busy": "2024-04-05T03:45:47.753703Z",
     "iopub.status.idle": "2024-04-05T03:45:47.759214Z",
     "shell.execute_reply": "2024-04-05T03:45:47.758417Z"
    },
    "papermill": {
     "duration": 0.031338,
     "end_time": "2024-04-05T03:45:47.761031",
     "exception": false,
     "start_time": "2024-04-05T03:45:47.729693",
     "status": "completed"
    },
    "tags": []
   },
   "outputs": [],
   "source": [
    "num_classes = 7\n",
    "def _parse_function(filename, label):\n",
    "    image_string = tf.io.read_file(filename)\n",
    "    image_decoded = tf.io.decode_jpeg(image_string, channels=1)  \n",
    "    \n",
    "    image_resized = tf.image.resize(image_decoded, [200,200])\n",
    "    \n",
    "    image_normalized = image_resized / 255.0\n",
    "\n",
    "    \n",
    "    label = tf.one_hot(label, num_classes)\n",
    "\n",
    "    return image_normalized, label"
   ]
  },
  {
   "cell_type": "code",
   "execution_count": 21,
   "id": "78d3a3f0",
   "metadata": {
    "execution": {
     "iopub.execute_input": "2024-04-05T03:45:47.809203Z",
     "iopub.status.busy": "2024-04-05T03:45:47.808536Z",
     "iopub.status.idle": "2024-04-05T03:45:47.937685Z",
     "shell.execute_reply": "2024-04-05T03:45:47.936792Z"
    },
    "papermill": {
     "duration": 0.155398,
     "end_time": "2024-04-05T03:45:47.940213",
     "exception": false,
     "start_time": "2024-04-05T03:45:47.784815",
     "status": "completed"
    },
    "tags": []
   },
   "outputs": [],
   "source": [
    "\n",
    "train_image_dataset = tf.data.Dataset.from_tensor_slices((train_image_list_tf, train_labels_list_tf))\n",
    "train_image_dataset = train_image_dataset.map(_parse_function)\n",
    "train_image_dataset = train_image_dataset.batch(312) \n",
    "\n",
    "\n",
    "test_image_dataset = tf.data.Dataset.from_tensor_slices((test_image_list_tf, test_labels_list_tf))\n",
    "test_image_dataset = test_image_dataset.map(_parse_function)\n",
    "test_image_dataset = test_image_dataset.batch(312) "
   ]
  },
  {
   "cell_type": "code",
   "execution_count": 22,
   "id": "898771d6",
   "metadata": {
    "execution": {
     "iopub.execute_input": "2024-04-05T03:45:47.987990Z",
     "iopub.status.busy": "2024-04-05T03:45:47.987694Z",
     "iopub.status.idle": "2024-04-05T03:45:47.991557Z",
     "shell.execute_reply": "2024-04-05T03:45:47.990702Z"
    },
    "papermill": {
     "duration": 0.029467,
     "end_time": "2024-04-05T03:45:47.993445",
     "exception": false,
     "start_time": "2024-04-05T03:45:47.963978",
     "status": "completed"
    },
    "tags": []
   },
   "outputs": [],
   "source": []
  },
  {
   "cell_type": "code",
   "execution_count": 23,
   "id": "306ab603",
   "metadata": {
    "execution": {
     "iopub.execute_input": "2024-04-05T03:45:48.040486Z",
     "iopub.status.busy": "2024-04-05T03:45:48.040194Z",
     "iopub.status.idle": "2024-04-05T03:45:48.045875Z",
     "shell.execute_reply": "2024-04-05T03:45:48.045009Z"
    },
    "papermill": {
     "duration": 0.032125,
     "end_time": "2024-04-05T03:45:48.048300",
     "exception": false,
     "start_time": "2024-04-05T03:45:48.016175",
     "status": "completed"
    },
    "tags": []
   },
   "outputs": [
    {
     "data": {
      "text/plain": [
       "<_BatchDataset element_spec=(TensorSpec(shape=(None, 200, 200, 1), dtype=tf.float32, name=None), TensorSpec(shape=(None, 7), dtype=tf.float32, name=None))>"
      ]
     },
     "execution_count": 23,
     "metadata": {},
     "output_type": "execute_result"
    }
   ],
   "source": [
    "train_image_dataset"
   ]
  },
  {
   "cell_type": "code",
   "execution_count": null,
   "id": "efd04dc0",
   "metadata": {
    "papermill": {
     "duration": 0.025376,
     "end_time": "2024-04-05T03:45:48.103741",
     "exception": false,
     "start_time": "2024-04-05T03:45:48.078365",
     "status": "completed"
    },
    "tags": []
   },
   "outputs": [],
   "source": []
  },
  {
   "cell_type": "code",
   "execution_count": null,
   "id": "8dfc1318",
   "metadata": {
    "papermill": {
     "duration": 0.033263,
     "end_time": "2024-04-05T03:45:48.270907",
     "exception": false,
     "start_time": "2024-04-05T03:45:48.237644",
     "status": "completed"
    },
    "tags": []
   },
   "outputs": [],
   "source": []
  },
  {
   "cell_type": "markdown",
   "id": "5f5f72e5",
   "metadata": {
    "papermill": {
     "duration": 0.026681,
     "end_time": "2024-04-05T03:45:48.325242",
     "exception": false,
     "start_time": "2024-04-05T03:45:48.298561",
     "status": "completed"
    },
    "tags": []
   },
   "source": [
    "# Age Classification Model\n",
    "\n",
    "## Model Architecture\n",
    "\n",
    "The age classification model is a Convolutional Neural Network (CNN) with several convolutional layers followed by max-pooling layers for feature extraction. Batch normalization is applied after each convolutional layer for normalization and faster training. Dropout regularization is also used to prevent overfitting.\n",
    "\n",
    "After the convolutional layers, a Global Average Pooling layer is added to reduce the spatial dimensions of the feature maps. Two dense layers with ReLU activation functions are then applied for further feature processing.\n",
    "\n",
    "The output layer employs a <span style=\"color:orange\">softmax activation function</span> to predict the probability distribution across the age categories.\n",
    "\n",
    "Model Summary:\n",
    "- Input Shape: (Image Height, Image Width, 3)\n",
    "- Convolutional Layers: <span style=\"color:blue\">64, 128, 256, and 512 filters</span> with a kernel size of (3, 3)\n",
    "- Max Pooling Layers: Applied after each convolutional layer\n",
    "- Dropout Layer: Applied with a dropout rate of <span style=\"color:green\">0.3</span> after the last convolutional layer\n",
    "- Global Average Pooling Layer\n",
    "- Dense Layers: <span style=\"color:blue\">256 and 128 units</span> with ReLU activation function\n",
    "- Batch Normalization: Applied after dense layers\n",
    "- Output Layer: Dense layer with <span style=\"color:blue\">7 units</span> and softmax activation function for age classification\n",
    "\n",
    "The model architecture effectively extracts features from input images and classifies them into different age categories.\n",
    "\n",
    "\n",
    "## Compilation\n",
    "The model is compiled using the <span style=\"color:blue\">Adam</span> with a learning rate of <span style=\"color:green\">0.001</span>. <span style=\"color:orange\">Categorical cross-entropy loss</span> is utilized as the loss function, which is suitable for multi-class classification tasks.\n",
    "\n",
    "## Model Training\n",
    "Training is conducted using a batch size of <span style=\"color:green\">312</span> over <span style=\"color:green\">30</span> epochs. <span style=\"color:orange\">Early stopping</span> with a patience of <span style=\"color:green\">5</span> is employed to prevent overfitting, and the best model weights are restored. The training and validation data are evaluated for accuracy metrics.\n",
    "\n",
    "## Results\n",
    "\n",
    "The age classification model was trained over 30 epochs, yielding the following insights:\n",
    "\n",
    "- **Initial Epoch:**\n",
    "  - The model commenced with an accuracy of <span style=\"color:orange\">51.07%</span> and a loss of <span style=\"color:orange\">1.1936</span>, indicating modest performance.\n",
    "\n",
    "- **Progressive Improvement:**\n",
    "  - Subsequent epochs demonstrated consistent enhancements in both accuracy and loss metrics, reflecting improved model learning.\n",
    "\n",
    "- **Final Epoch:**\n",
    "  - By the 30th epoch, the model achieved a notable accuracy of <span style=\"color:green\">96.28%</span> with a reduced loss of <span style=\"color:green\">0.1024</span>.\n",
    "\n",
    "- **Validation Performance:**\n",
    "  - The validation metrics exhibited fluctuations throughout training, with accuracy ranging from <span style=\"color:green\">43.32%</span> to <span style=\"color:green\">81.57%</span>, and loss varying between <span style=\"color:green\">0.7069</span> and <span style=\"color:green\">2.2826</span>.\n",
    "\n",
    "These observations suggest progressive improvement in model performance over the training epochs, culminating in satisfactory accuracy and loss metrics by the final epoch. However, fluctuations in validation performance indicate potential challenges in generalization to unseen data.\n"
   ]
  },
  {
   "cell_type": "code",
   "execution_count": null,
   "id": "f7055c2c",
   "metadata": {
    "papermill": {
     "duration": 0.025627,
     "end_time": "2024-04-05T03:45:48.377834",
     "exception": false,
     "start_time": "2024-04-05T03:45:48.352207",
     "status": "completed"
    },
    "tags": []
   },
   "outputs": [],
   "source": []
  },
  {
   "cell_type": "code",
   "execution_count": 24,
   "id": "78731513",
   "metadata": {
    "_kg_hide-input": false,
    "_kg_hide-output": true,
    "execution": {
     "iopub.execute_input": "2024-04-05T03:45:48.426160Z",
     "iopub.status.busy": "2024-04-05T03:45:48.425820Z",
     "iopub.status.idle": "2024-04-05T03:45:48.729200Z",
     "shell.execute_reply": "2024-04-05T03:45:48.728338Z"
    },
    "papermill": {
     "duration": 0.329553,
     "end_time": "2024-04-05T03:45:48.731065",
     "exception": false,
     "start_time": "2024-04-05T03:45:48.401512",
     "status": "completed"
    },
    "tags": []
   },
   "outputs": [
    {
     "data": {
      "text/html": [
       "<pre style=\"white-space:pre;overflow-x:auto;line-height:normal;font-family:Menlo,'DejaVu Sans Mono',consolas,'Courier New',monospace\"><span style=\"font-weight: bold\">Model: \"sequential\"</span>\n",
       "</pre>\n"
      ],
      "text/plain": [
       "\u001b[1mModel: \"sequential\"\u001b[0m\n"
      ]
     },
     "metadata": {},
     "output_type": "display_data"
    },
    {
     "data": {
      "text/html": [
       "<pre style=\"white-space:pre;overflow-x:auto;line-height:normal;font-family:Menlo,'DejaVu Sans Mono',consolas,'Courier New',monospace\">┏━━━━━━━━━━━━━━━━━━━━━━━━━━━━━━━━━┳━━━━━━━━━━━━━━━━━━━━━━━━┳━━━━━━━━━━━━━━━┓\n",
       "┃<span style=\"font-weight: bold\"> Layer (type)                    </span>┃<span style=\"font-weight: bold\"> Output Shape           </span>┃<span style=\"font-weight: bold\">       Param # </span>┃\n",
       "┡━━━━━━━━━━━━━━━━━━━━━━━━━━━━━━━━━╇━━━━━━━━━━━━━━━━━━━━━━━━╇━━━━━━━━━━━━━━━┩\n",
       "│ conv2d (<span style=\"color: #0087ff; text-decoration-color: #0087ff\">Conv2D</span>)                 │ (<span style=\"color: #00d7ff; text-decoration-color: #00d7ff\">None</span>, <span style=\"color: #00af00; text-decoration-color: #00af00\">198</span>, <span style=\"color: #00af00; text-decoration-color: #00af00\">198</span>, <span style=\"color: #00af00; text-decoration-color: #00af00\">64</span>)   │           <span style=\"color: #00af00; text-decoration-color: #00af00\">640</span> │\n",
       "├─────────────────────────────────┼────────────────────────┼───────────────┤\n",
       "│ batch_normalization             │ (<span style=\"color: #00d7ff; text-decoration-color: #00d7ff\">None</span>, <span style=\"color: #00af00; text-decoration-color: #00af00\">198</span>, <span style=\"color: #00af00; text-decoration-color: #00af00\">198</span>, <span style=\"color: #00af00; text-decoration-color: #00af00\">64</span>)   │           <span style=\"color: #00af00; text-decoration-color: #00af00\">256</span> │\n",
       "│ (<span style=\"color: #0087ff; text-decoration-color: #0087ff\">BatchNormalization</span>)            │                        │               │\n",
       "├─────────────────────────────────┼────────────────────────┼───────────────┤\n",
       "│ max_pooling2d (<span style=\"color: #0087ff; text-decoration-color: #0087ff\">MaxPooling2D</span>)    │ (<span style=\"color: #00d7ff; text-decoration-color: #00d7ff\">None</span>, <span style=\"color: #00af00; text-decoration-color: #00af00\">99</span>, <span style=\"color: #00af00; text-decoration-color: #00af00\">99</span>, <span style=\"color: #00af00; text-decoration-color: #00af00\">64</span>)     │             <span style=\"color: #00af00; text-decoration-color: #00af00\">0</span> │\n",
       "├─────────────────────────────────┼────────────────────────┼───────────────┤\n",
       "│ conv2d_1 (<span style=\"color: #0087ff; text-decoration-color: #0087ff\">Conv2D</span>)               │ (<span style=\"color: #00d7ff; text-decoration-color: #00d7ff\">None</span>, <span style=\"color: #00af00; text-decoration-color: #00af00\">97</span>, <span style=\"color: #00af00; text-decoration-color: #00af00\">97</span>, <span style=\"color: #00af00; text-decoration-color: #00af00\">128</span>)    │        <span style=\"color: #00af00; text-decoration-color: #00af00\">73,856</span> │\n",
       "├─────────────────────────────────┼────────────────────────┼───────────────┤\n",
       "│ batch_normalization_1           │ (<span style=\"color: #00d7ff; text-decoration-color: #00d7ff\">None</span>, <span style=\"color: #00af00; text-decoration-color: #00af00\">97</span>, <span style=\"color: #00af00; text-decoration-color: #00af00\">97</span>, <span style=\"color: #00af00; text-decoration-color: #00af00\">128</span>)    │           <span style=\"color: #00af00; text-decoration-color: #00af00\">512</span> │\n",
       "│ (<span style=\"color: #0087ff; text-decoration-color: #0087ff\">BatchNormalization</span>)            │                        │               │\n",
       "├─────────────────────────────────┼────────────────────────┼───────────────┤\n",
       "│ max_pooling2d_1 (<span style=\"color: #0087ff; text-decoration-color: #0087ff\">MaxPooling2D</span>)  │ (<span style=\"color: #00d7ff; text-decoration-color: #00d7ff\">None</span>, <span style=\"color: #00af00; text-decoration-color: #00af00\">48</span>, <span style=\"color: #00af00; text-decoration-color: #00af00\">48</span>, <span style=\"color: #00af00; text-decoration-color: #00af00\">128</span>)    │             <span style=\"color: #00af00; text-decoration-color: #00af00\">0</span> │\n",
       "├─────────────────────────────────┼────────────────────────┼───────────────┤\n",
       "│ conv2d_2 (<span style=\"color: #0087ff; text-decoration-color: #0087ff\">Conv2D</span>)               │ (<span style=\"color: #00d7ff; text-decoration-color: #00d7ff\">None</span>, <span style=\"color: #00af00; text-decoration-color: #00af00\">46</span>, <span style=\"color: #00af00; text-decoration-color: #00af00\">46</span>, <span style=\"color: #00af00; text-decoration-color: #00af00\">256</span>)    │       <span style=\"color: #00af00; text-decoration-color: #00af00\">295,168</span> │\n",
       "├─────────────────────────────────┼────────────────────────┼───────────────┤\n",
       "│ batch_normalization_2           │ (<span style=\"color: #00d7ff; text-decoration-color: #00d7ff\">None</span>, <span style=\"color: #00af00; text-decoration-color: #00af00\">46</span>, <span style=\"color: #00af00; text-decoration-color: #00af00\">46</span>, <span style=\"color: #00af00; text-decoration-color: #00af00\">256</span>)    │         <span style=\"color: #00af00; text-decoration-color: #00af00\">1,024</span> │\n",
       "│ (<span style=\"color: #0087ff; text-decoration-color: #0087ff\">BatchNormalization</span>)            │                        │               │\n",
       "├─────────────────────────────────┼────────────────────────┼───────────────┤\n",
       "│ max_pooling2d_2 (<span style=\"color: #0087ff; text-decoration-color: #0087ff\">MaxPooling2D</span>)  │ (<span style=\"color: #00d7ff; text-decoration-color: #00d7ff\">None</span>, <span style=\"color: #00af00; text-decoration-color: #00af00\">23</span>, <span style=\"color: #00af00; text-decoration-color: #00af00\">23</span>, <span style=\"color: #00af00; text-decoration-color: #00af00\">256</span>)    │             <span style=\"color: #00af00; text-decoration-color: #00af00\">0</span> │\n",
       "├─────────────────────────────────┼────────────────────────┼───────────────┤\n",
       "│ conv2d_3 (<span style=\"color: #0087ff; text-decoration-color: #0087ff\">Conv2D</span>)               │ (<span style=\"color: #00d7ff; text-decoration-color: #00d7ff\">None</span>, <span style=\"color: #00af00; text-decoration-color: #00af00\">21</span>, <span style=\"color: #00af00; text-decoration-color: #00af00\">21</span>, <span style=\"color: #00af00; text-decoration-color: #00af00\">512</span>)    │     <span style=\"color: #00af00; text-decoration-color: #00af00\">1,180,160</span> │\n",
       "├─────────────────────────────────┼────────────────────────┼───────────────┤\n",
       "│ batch_normalization_3           │ (<span style=\"color: #00d7ff; text-decoration-color: #00d7ff\">None</span>, <span style=\"color: #00af00; text-decoration-color: #00af00\">21</span>, <span style=\"color: #00af00; text-decoration-color: #00af00\">21</span>, <span style=\"color: #00af00; text-decoration-color: #00af00\">512</span>)    │         <span style=\"color: #00af00; text-decoration-color: #00af00\">2,048</span> │\n",
       "│ (<span style=\"color: #0087ff; text-decoration-color: #0087ff\">BatchNormalization</span>)            │                        │               │\n",
       "├─────────────────────────────────┼────────────────────────┼───────────────┤\n",
       "│ max_pooling2d_3 (<span style=\"color: #0087ff; text-decoration-color: #0087ff\">MaxPooling2D</span>)  │ (<span style=\"color: #00d7ff; text-decoration-color: #00d7ff\">None</span>, <span style=\"color: #00af00; text-decoration-color: #00af00\">10</span>, <span style=\"color: #00af00; text-decoration-color: #00af00\">10</span>, <span style=\"color: #00af00; text-decoration-color: #00af00\">512</span>)    │             <span style=\"color: #00af00; text-decoration-color: #00af00\">0</span> │\n",
       "├─────────────────────────────────┼────────────────────────┼───────────────┤\n",
       "│ dropout (<span style=\"color: #0087ff; text-decoration-color: #0087ff\">Dropout</span>)               │ (<span style=\"color: #00d7ff; text-decoration-color: #00d7ff\">None</span>, <span style=\"color: #00af00; text-decoration-color: #00af00\">10</span>, <span style=\"color: #00af00; text-decoration-color: #00af00\">10</span>, <span style=\"color: #00af00; text-decoration-color: #00af00\">512</span>)    │             <span style=\"color: #00af00; text-decoration-color: #00af00\">0</span> │\n",
       "├─────────────────────────────────┼────────────────────────┼───────────────┤\n",
       "│ global_average_pooling2d        │ (<span style=\"color: #00d7ff; text-decoration-color: #00d7ff\">None</span>, <span style=\"color: #00af00; text-decoration-color: #00af00\">512</span>)            │             <span style=\"color: #00af00; text-decoration-color: #00af00\">0</span> │\n",
       "│ (<span style=\"color: #0087ff; text-decoration-color: #0087ff\">GlobalAveragePooling2D</span>)        │                        │               │\n",
       "├─────────────────────────────────┼────────────────────────┼───────────────┤\n",
       "│ dense (<span style=\"color: #0087ff; text-decoration-color: #0087ff\">Dense</span>)                   │ (<span style=\"color: #00d7ff; text-decoration-color: #00d7ff\">None</span>, <span style=\"color: #00af00; text-decoration-color: #00af00\">256</span>)            │       <span style=\"color: #00af00; text-decoration-color: #00af00\">131,328</span> │\n",
       "├─────────────────────────────────┼────────────────────────┼───────────────┤\n",
       "│ dense_1 (<span style=\"color: #0087ff; text-decoration-color: #0087ff\">Dense</span>)                 │ (<span style=\"color: #00d7ff; text-decoration-color: #00d7ff\">None</span>, <span style=\"color: #00af00; text-decoration-color: #00af00\">128</span>)            │        <span style=\"color: #00af00; text-decoration-color: #00af00\">32,896</span> │\n",
       "├─────────────────────────────────┼────────────────────────┼───────────────┤\n",
       "│ batch_normalization_4           │ (<span style=\"color: #00d7ff; text-decoration-color: #00d7ff\">None</span>, <span style=\"color: #00af00; text-decoration-color: #00af00\">128</span>)            │           <span style=\"color: #00af00; text-decoration-color: #00af00\">512</span> │\n",
       "│ (<span style=\"color: #0087ff; text-decoration-color: #0087ff\">BatchNormalization</span>)            │                        │               │\n",
       "├─────────────────────────────────┼────────────────────────┼───────────────┤\n",
       "│ dense_2 (<span style=\"color: #0087ff; text-decoration-color: #0087ff\">Dense</span>)                 │ (<span style=\"color: #00d7ff; text-decoration-color: #00d7ff\">None</span>, <span style=\"color: #00af00; text-decoration-color: #00af00\">7</span>)              │           <span style=\"color: #00af00; text-decoration-color: #00af00\">903</span> │\n",
       "└─────────────────────────────────┴────────────────────────┴───────────────┘\n",
       "</pre>\n"
      ],
      "text/plain": [
       "┏━━━━━━━━━━━━━━━━━━━━━━━━━━━━━━━━━┳━━━━━━━━━━━━━━━━━━━━━━━━┳━━━━━━━━━━━━━━━┓\n",
       "┃\u001b[1m \u001b[0m\u001b[1mLayer (type)                   \u001b[0m\u001b[1m \u001b[0m┃\u001b[1m \u001b[0m\u001b[1mOutput Shape          \u001b[0m\u001b[1m \u001b[0m┃\u001b[1m \u001b[0m\u001b[1m      Param #\u001b[0m\u001b[1m \u001b[0m┃\n",
       "┡━━━━━━━━━━━━━━━━━━━━━━━━━━━━━━━━━╇━━━━━━━━━━━━━━━━━━━━━━━━╇━━━━━━━━━━━━━━━┩\n",
       "│ conv2d (\u001b[38;5;33mConv2D\u001b[0m)                 │ (\u001b[38;5;45mNone\u001b[0m, \u001b[38;5;34m198\u001b[0m, \u001b[38;5;34m198\u001b[0m, \u001b[38;5;34m64\u001b[0m)   │           \u001b[38;5;34m640\u001b[0m │\n",
       "├─────────────────────────────────┼────────────────────────┼───────────────┤\n",
       "│ batch_normalization             │ (\u001b[38;5;45mNone\u001b[0m, \u001b[38;5;34m198\u001b[0m, \u001b[38;5;34m198\u001b[0m, \u001b[38;5;34m64\u001b[0m)   │           \u001b[38;5;34m256\u001b[0m │\n",
       "│ (\u001b[38;5;33mBatchNormalization\u001b[0m)            │                        │               │\n",
       "├─────────────────────────────────┼────────────────────────┼───────────────┤\n",
       "│ max_pooling2d (\u001b[38;5;33mMaxPooling2D\u001b[0m)    │ (\u001b[38;5;45mNone\u001b[0m, \u001b[38;5;34m99\u001b[0m, \u001b[38;5;34m99\u001b[0m, \u001b[38;5;34m64\u001b[0m)     │             \u001b[38;5;34m0\u001b[0m │\n",
       "├─────────────────────────────────┼────────────────────────┼───────────────┤\n",
       "│ conv2d_1 (\u001b[38;5;33mConv2D\u001b[0m)               │ (\u001b[38;5;45mNone\u001b[0m, \u001b[38;5;34m97\u001b[0m, \u001b[38;5;34m97\u001b[0m, \u001b[38;5;34m128\u001b[0m)    │        \u001b[38;5;34m73,856\u001b[0m │\n",
       "├─────────────────────────────────┼────────────────────────┼───────────────┤\n",
       "│ batch_normalization_1           │ (\u001b[38;5;45mNone\u001b[0m, \u001b[38;5;34m97\u001b[0m, \u001b[38;5;34m97\u001b[0m, \u001b[38;5;34m128\u001b[0m)    │           \u001b[38;5;34m512\u001b[0m │\n",
       "│ (\u001b[38;5;33mBatchNormalization\u001b[0m)            │                        │               │\n",
       "├─────────────────────────────────┼────────────────────────┼───────────────┤\n",
       "│ max_pooling2d_1 (\u001b[38;5;33mMaxPooling2D\u001b[0m)  │ (\u001b[38;5;45mNone\u001b[0m, \u001b[38;5;34m48\u001b[0m, \u001b[38;5;34m48\u001b[0m, \u001b[38;5;34m128\u001b[0m)    │             \u001b[38;5;34m0\u001b[0m │\n",
       "├─────────────────────────────────┼────────────────────────┼───────────────┤\n",
       "│ conv2d_2 (\u001b[38;5;33mConv2D\u001b[0m)               │ (\u001b[38;5;45mNone\u001b[0m, \u001b[38;5;34m46\u001b[0m, \u001b[38;5;34m46\u001b[0m, \u001b[38;5;34m256\u001b[0m)    │       \u001b[38;5;34m295,168\u001b[0m │\n",
       "├─────────────────────────────────┼────────────────────────┼───────────────┤\n",
       "│ batch_normalization_2           │ (\u001b[38;5;45mNone\u001b[0m, \u001b[38;5;34m46\u001b[0m, \u001b[38;5;34m46\u001b[0m, \u001b[38;5;34m256\u001b[0m)    │         \u001b[38;5;34m1,024\u001b[0m │\n",
       "│ (\u001b[38;5;33mBatchNormalization\u001b[0m)            │                        │               │\n",
       "├─────────────────────────────────┼────────────────────────┼───────────────┤\n",
       "│ max_pooling2d_2 (\u001b[38;5;33mMaxPooling2D\u001b[0m)  │ (\u001b[38;5;45mNone\u001b[0m, \u001b[38;5;34m23\u001b[0m, \u001b[38;5;34m23\u001b[0m, \u001b[38;5;34m256\u001b[0m)    │             \u001b[38;5;34m0\u001b[0m │\n",
       "├─────────────────────────────────┼────────────────────────┼───────────────┤\n",
       "│ conv2d_3 (\u001b[38;5;33mConv2D\u001b[0m)               │ (\u001b[38;5;45mNone\u001b[0m, \u001b[38;5;34m21\u001b[0m, \u001b[38;5;34m21\u001b[0m, \u001b[38;5;34m512\u001b[0m)    │     \u001b[38;5;34m1,180,160\u001b[0m │\n",
       "├─────────────────────────────────┼────────────────────────┼───────────────┤\n",
       "│ batch_normalization_3           │ (\u001b[38;5;45mNone\u001b[0m, \u001b[38;5;34m21\u001b[0m, \u001b[38;5;34m21\u001b[0m, \u001b[38;5;34m512\u001b[0m)    │         \u001b[38;5;34m2,048\u001b[0m │\n",
       "│ (\u001b[38;5;33mBatchNormalization\u001b[0m)            │                        │               │\n",
       "├─────────────────────────────────┼────────────────────────┼───────────────┤\n",
       "│ max_pooling2d_3 (\u001b[38;5;33mMaxPooling2D\u001b[0m)  │ (\u001b[38;5;45mNone\u001b[0m, \u001b[38;5;34m10\u001b[0m, \u001b[38;5;34m10\u001b[0m, \u001b[38;5;34m512\u001b[0m)    │             \u001b[38;5;34m0\u001b[0m │\n",
       "├─────────────────────────────────┼────────────────────────┼───────────────┤\n",
       "│ dropout (\u001b[38;5;33mDropout\u001b[0m)               │ (\u001b[38;5;45mNone\u001b[0m, \u001b[38;5;34m10\u001b[0m, \u001b[38;5;34m10\u001b[0m, \u001b[38;5;34m512\u001b[0m)    │             \u001b[38;5;34m0\u001b[0m │\n",
       "├─────────────────────────────────┼────────────────────────┼───────────────┤\n",
       "│ global_average_pooling2d        │ (\u001b[38;5;45mNone\u001b[0m, \u001b[38;5;34m512\u001b[0m)            │             \u001b[38;5;34m0\u001b[0m │\n",
       "│ (\u001b[38;5;33mGlobalAveragePooling2D\u001b[0m)        │                        │               │\n",
       "├─────────────────────────────────┼────────────────────────┼───────────────┤\n",
       "│ dense (\u001b[38;5;33mDense\u001b[0m)                   │ (\u001b[38;5;45mNone\u001b[0m, \u001b[38;5;34m256\u001b[0m)            │       \u001b[38;5;34m131,328\u001b[0m │\n",
       "├─────────────────────────────────┼────────────────────────┼───────────────┤\n",
       "│ dense_1 (\u001b[38;5;33mDense\u001b[0m)                 │ (\u001b[38;5;45mNone\u001b[0m, \u001b[38;5;34m128\u001b[0m)            │        \u001b[38;5;34m32,896\u001b[0m │\n",
       "├─────────────────────────────────┼────────────────────────┼───────────────┤\n",
       "│ batch_normalization_4           │ (\u001b[38;5;45mNone\u001b[0m, \u001b[38;5;34m128\u001b[0m)            │           \u001b[38;5;34m512\u001b[0m │\n",
       "│ (\u001b[38;5;33mBatchNormalization\u001b[0m)            │                        │               │\n",
       "├─────────────────────────────────┼────────────────────────┼───────────────┤\n",
       "│ dense_2 (\u001b[38;5;33mDense\u001b[0m)                 │ (\u001b[38;5;45mNone\u001b[0m, \u001b[38;5;34m7\u001b[0m)              │           \u001b[38;5;34m903\u001b[0m │\n",
       "└─────────────────────────────────┴────────────────────────┴───────────────┘\n"
      ]
     },
     "metadata": {},
     "output_type": "display_data"
    },
    {
     "data": {
      "text/html": [
       "<pre style=\"white-space:pre;overflow-x:auto;line-height:normal;font-family:Menlo,'DejaVu Sans Mono',consolas,'Courier New',monospace\"><span style=\"font-weight: bold\"> Total params: </span><span style=\"color: #00af00; text-decoration-color: #00af00\">1,719,303</span> (6.56 MB)\n",
       "</pre>\n"
      ],
      "text/plain": [
       "\u001b[1m Total params: \u001b[0m\u001b[38;5;34m1,719,303\u001b[0m (6.56 MB)\n"
      ]
     },
     "metadata": {},
     "output_type": "display_data"
    },
    {
     "data": {
      "text/html": [
       "<pre style=\"white-space:pre;overflow-x:auto;line-height:normal;font-family:Menlo,'DejaVu Sans Mono',consolas,'Courier New',monospace\"><span style=\"font-weight: bold\"> Trainable params: </span><span style=\"color: #00af00; text-decoration-color: #00af00\">1,717,127</span> (6.55 MB)\n",
       "</pre>\n"
      ],
      "text/plain": [
       "\u001b[1m Trainable params: \u001b[0m\u001b[38;5;34m1,717,127\u001b[0m (6.55 MB)\n"
      ]
     },
     "metadata": {},
     "output_type": "display_data"
    },
    {
     "data": {
      "text/html": [
       "<pre style=\"white-space:pre;overflow-x:auto;line-height:normal;font-family:Menlo,'DejaVu Sans Mono',consolas,'Courier New',monospace\"><span style=\"font-weight: bold\"> Non-trainable params: </span><span style=\"color: #00af00; text-decoration-color: #00af00\">2,176</span> (8.50 KB)\n",
       "</pre>\n"
      ],
      "text/plain": [
       "\u001b[1m Non-trainable params: \u001b[0m\u001b[38;5;34m2,176\u001b[0m (8.50 KB)\n"
      ]
     },
     "metadata": {},
     "output_type": "display_data"
    }
   ],
   "source": [
    "from tensorflow.keras.models import Sequential\n",
    "from tensorflow.keras import layers\n",
    "\n",
    "\n",
    "model = tf.keras.models.Sequential()\n",
    "\n",
    "\n",
    "model.add(layers.Conv2D(64, (3, 3), activation='relu', input_shape=(200,200,1)))\n",
    "model.add(layers.BatchNormalization())\n",
    "model.add(layers.MaxPooling2D((2, 2)))\n",
    "\n",
    "model.add(layers.Conv2D(128, (3, 3), activation='relu'))\n",
    "model.add(layers.BatchNormalization())\n",
    "model.add(layers.MaxPooling2D((2, 2)))\n",
    "\n",
    "model.add(layers.Conv2D(256, (3, 3), activation='relu'))\n",
    "model.add(layers.BatchNormalization())\n",
    "model.add(layers.MaxPooling2D((2, 2)))\n",
    "\n",
    "model.add(layers.Conv2D(512, (3, 3), activation='relu'))\n",
    "model.add(layers.BatchNormalization())\n",
    "model.add(layers.MaxPooling2D((2, 2)))\n",
    "model.add(layers.Dropout(0.3))\n",
    "\n",
    "\n",
    "model.add(layers.GlobalAveragePooling2D())\n",
    "\n",
    "model.add(layers.Dense(256, activation='relu'))\n",
    "model.add(layers.Dense(128, activation='relu'))\n",
    "model.add(layers.BatchNormalization())\n",
    "\n",
    "\n",
    "model.add(layers.Dense(7, activation='softmax'))  \n",
    "\n",
    "\n",
    "model.summary()"
   ]
  },
  {
   "cell_type": "code",
   "execution_count": null,
   "id": "1a7986e9",
   "metadata": {
    "papermill": {
     "duration": 0.024124,
     "end_time": "2024-04-05T03:45:48.779706",
     "exception": false,
     "start_time": "2024-04-05T03:45:48.755582",
     "status": "completed"
    },
    "tags": []
   },
   "outputs": [],
   "source": []
  },
  {
   "cell_type": "code",
   "execution_count": 25,
   "id": "a0273ddc",
   "metadata": {
    "execution": {
     "iopub.execute_input": "2024-04-05T03:45:48.829555Z",
     "iopub.status.busy": "2024-04-05T03:45:48.828729Z",
     "iopub.status.idle": "2024-04-05T03:45:48.842186Z",
     "shell.execute_reply": "2024-04-05T03:45:48.841331Z"
    },
    "papermill": {
     "duration": 0.040328,
     "end_time": "2024-04-05T03:45:48.844128",
     "exception": false,
     "start_time": "2024-04-05T03:45:48.803800",
     "status": "completed"
    },
    "tags": []
   },
   "outputs": [],
   "source": [
    "\n",
    "\n",
    "early_stopping_callback = EarlyStopping(monitor = 'val_loss', patience = 10, mode = 'min', restore_best_weights = True)\n",
    "\n",
    "\n",
    "#Callbacks\n",
    "callbacks_list=[early_stopping_callback]\n",
    "\n",
    "model.compile(optimizer=\"adam\", loss=['categorical_crossentropy'], metrics=['accuracy'])\n",
    "\n",
    "\n",
    "                "
   ]
  },
  {
   "cell_type": "code",
   "execution_count": null,
   "id": "fcfee173",
   "metadata": {
    "papermill": {
     "duration": 0.023728,
     "end_time": "2024-04-05T03:45:48.892127",
     "exception": false,
     "start_time": "2024-04-05T03:45:48.868399",
     "status": "completed"
    },
    "tags": []
   },
   "outputs": [],
   "source": []
  },
  {
   "cell_type": "code",
   "execution_count": 26,
   "id": "3b9b3268",
   "metadata": {
    "execution": {
     "iopub.execute_input": "2024-04-05T03:45:48.943998Z",
     "iopub.status.busy": "2024-04-05T03:45:48.943115Z",
     "iopub.status.idle": "2024-04-05T07:16:57.981453Z",
     "shell.execute_reply": "2024-04-05T07:16:57.980446Z"
    },
    "papermill": {
     "duration": 12669.067293,
     "end_time": "2024-04-05T07:16:57.983777",
     "exception": false,
     "start_time": "2024-04-05T03:45:48.916484",
     "status": "completed"
    },
    "tags": []
   },
   "outputs": [
    {
     "name": "stdout",
     "output_type": "stream",
     "text": [
      "Epoch 1/30\n"
     ]
    },
    {
     "name": "stderr",
     "output_type": "stream",
     "text": [
      "WARNING: All log messages before absl::InitializeLog() is called are written to STDERR\n",
      "\n",
      "I0000 00:00:1712288876.308812      76 device_compiler.h:186] Compiled cluster using XLA!  This line is logged at most once for the lifetime of the process.\n"
     ]
    },
    {
     "name": "stdout",
     "output_type": "stream",
     "text": [
      "752/752 - 980s - 1s/step - accuracy: 0.5107 - loss: 1.1936 - val_accuracy: 0.5321 - val_loss: 1.0949\n",
      "\n",
      "Epoch 2/30\n",
      "\n",
      "752/752 - 726s - 965ms/step - accuracy: 0.6260 - loss: 0.8829 - val_accuracy: 0.4664 - val_loss: 1.3574\n",
      "\n",
      "Epoch 3/30\n",
      "\n",
      "752/752 - 740s - 984ms/step - accuracy: 0.6760 - loss: 0.7605 - val_accuracy: 0.5428 - val_loss: 1.1374\n",
      "\n",
      "Epoch 4/30\n",
      "\n",
      "752/752 - 721s - 959ms/step - accuracy: 0.7227 - loss: 0.6581 - val_accuracy: 0.6563 - val_loss: 0.8299\n",
      "\n",
      "Epoch 5/30\n",
      "\n",
      "752/752 - 740s - 984ms/step - accuracy: 0.7683 - loss: 0.5565 - val_accuracy: 0.6399 - val_loss: 0.9548\n",
      "\n",
      "Epoch 6/30\n",
      "\n",
      "752/752 - 717s - 954ms/step - accuracy: 0.8093 - loss: 0.4638 - val_accuracy: 0.4332 - val_loss: 2.2826\n",
      "\n",
      "Epoch 7/30\n",
      "\n",
      "752/752 - 744s - 989ms/step - accuracy: 0.8457 - loss: 0.3818 - val_accuracy: 0.7464 - val_loss: 0.7069\n",
      "\n",
      "Epoch 8/30\n",
      "\n",
      "752/752 - 739s - 982ms/step - accuracy: 0.8746 - loss: 0.3164 - val_accuracy: 0.7131 - val_loss: 0.8325\n",
      "\n",
      "Epoch 9/30\n",
      "\n",
      "752/752 - 715s - 951ms/step - accuracy: 0.8967 - loss: 0.2625 - val_accuracy: 0.6792 - val_loss: 1.1384\n",
      "\n",
      "Epoch 10/30\n",
      "\n",
      "752/752 - 742s - 986ms/step - accuracy: 0.9152 - loss: 0.2197 - val_accuracy: 0.6792 - val_loss: 1.1889\n",
      "\n",
      "Epoch 11/30\n",
      "\n",
      "752/752 - 749s - 995ms/step - accuracy: 0.9272 - loss: 0.1880 - val_accuracy: 0.7729 - val_loss: 0.8073\n",
      "\n",
      "Epoch 12/30\n",
      "\n",
      "752/752 - 734s - 977ms/step - accuracy: 0.9391 - loss: 0.1617 - val_accuracy: 0.6991 - val_loss: 1.2778\n",
      "\n",
      "Epoch 13/30\n",
      "\n",
      "752/752 - 742s - 986ms/step - accuracy: 0.9450 - loss: 0.1467 - val_accuracy: 0.6553 - val_loss: 1.5268\n",
      "\n",
      "Epoch 14/30\n",
      "\n",
      "752/752 - 713s - 948ms/step - accuracy: 0.9522 - loss: 0.1281 - val_accuracy: 0.8157 - val_loss: 0.7236\n",
      "\n",
      "Epoch 15/30\n",
      "\n",
      "752/752 - 713s - 948ms/step - accuracy: 0.9564 - loss: 0.1191 - val_accuracy: 0.7517 - val_loss: 1.0321\n",
      "\n",
      "Epoch 16/30\n",
      "\n",
      "752/752 - 713s - 948ms/step - accuracy: 0.9599 - loss: 0.1099 - val_accuracy: 0.8088 - val_loss: 0.7829\n",
      "\n",
      "Epoch 17/30\n",
      "\n",
      "752/752 - 742s - 987ms/step - accuracy: 0.9628 - loss: 0.1024 - val_accuracy: 0.7804 - val_loss: 0.9922\n"
     ]
    }
   ],
   "source": [
    "\n",
    "history=model.fit(\n",
    "    train_image_dataset,\n",
    "    batch_size=312,    \n",
    "    epochs=30,\n",
    "    callbacks=callbacks_list,\n",
    "    validation_data=test_image_dataset,\n",
    "    verbose=2,\n",
    "    shuffle=False\n",
    "\n",
    "\n",
    ")\n"
   ]
  },
  {
   "cell_type": "markdown",
   "id": "ccab3818",
   "metadata": {
    "papermill": {
     "duration": 0.026879,
     "end_time": "2024-04-05T07:16:58.037648",
     "exception": false,
     "start_time": "2024-04-05T07:16:58.010769",
     "status": "completed"
    },
    "tags": []
   },
   "source": [
    "# Results Visualization"
   ]
  },
  {
   "cell_type": "code",
   "execution_count": null,
   "id": "c79b710f",
   "metadata": {
    "papermill": {
     "duration": 0.027283,
     "end_time": "2024-04-05T07:16:58.091551",
     "exception": false,
     "start_time": "2024-04-05T07:16:58.064268",
     "status": "completed"
    },
    "tags": []
   },
   "outputs": [],
   "source": []
  },
  {
   "cell_type": "code",
   "execution_count": 27,
   "id": "29dba8ce",
   "metadata": {
    "execution": {
     "iopub.execute_input": "2024-04-05T07:16:58.146329Z",
     "iopub.status.busy": "2024-04-05T07:16:58.146011Z",
     "iopub.status.idle": "2024-04-05T07:16:58.150008Z",
     "shell.execute_reply": "2024-04-05T07:16:58.149127Z"
    },
    "papermill": {
     "duration": 0.033883,
     "end_time": "2024-04-05T07:16:58.152087",
     "exception": false,
     "start_time": "2024-04-05T07:16:58.118204",
     "status": "completed"
    },
    "tags": []
   },
   "outputs": [],
   "source": [
    "y_predict = model.predict(test_image_dataset)\n"
   ]
  },
  {
   "cell_type": "code",
   "execution_count": null,
   "id": "a72959b9",
   "metadata": {
    "papermill": {
     "duration": 0.02606,
     "end_time": "2024-04-05T07:16:58.204593",
     "exception": false,
     "start_time": "2024-04-05T07:16:58.178533",
     "status": "completed"
    },
    "tags": []
   },
   "outputs": [],
   "source": []
  },
  {
   "cell_type": "code",
   "execution_count": 28,
   "id": "618722e1",
   "metadata": {
    "execution": {
     "iopub.execute_input": "2024-04-05T07:16:58.259109Z",
     "iopub.status.busy": "2024-04-05T07:16:58.258521Z",
     "iopub.status.idle": "2024-04-05T07:16:58.262445Z",
     "shell.execute_reply": "2024-04-05T07:16:58.261582Z"
    },
    "papermill": {
     "duration": 0.033469,
     "end_time": "2024-04-05T07:16:58.264314",
     "exception": false,
     "start_time": "2024-04-05T07:16:58.230845",
     "status": "completed"
    },
    "tags": []
   },
   "outputs": [],
   "source": [
    "def argmax_fun(array):\n",
    "   array_1=[]\n",
    "   for i in array:\n",
    "       if i == array.max():\n",
    "            i=1\n",
    "       else:\n",
    "            i=0\n",
    "       array_1.append(i)\n",
    "   return array_1"
   ]
  },
  {
   "cell_type": "code",
   "execution_count": 29,
   "id": "cb3acd86",
   "metadata": {
    "execution": {
     "iopub.execute_input": "2024-04-05T07:16:58.320032Z",
     "iopub.status.busy": "2024-04-05T07:16:58.319241Z",
     "iopub.status.idle": "2024-04-05T07:16:58.323160Z",
     "shell.execute_reply": "2024-04-05T07:16:58.322350Z"
    },
    "papermill": {
     "duration": 0.033802,
     "end_time": "2024-04-05T07:16:58.325040",
     "exception": false,
     "start_time": "2024-04-05T07:16:58.291238",
     "status": "completed"
    },
    "tags": []
   },
   "outputs": [],
   "source": [
    "y_predict_argmax= y_predict.copy()\n",
    "for i in range(len(y_predict)):\n",
    "    y_predict_argmax[i]= argmax_fun(y_predict[i])"
   ]
  },
  {
   "cell_type": "code",
   "execution_count": 30,
   "id": "dc871741",
   "metadata": {
    "execution": {
     "iopub.execute_input": "2024-04-05T07:16:58.379176Z",
     "iopub.status.busy": "2024-04-05T07:16:58.378916Z",
     "iopub.status.idle": "2024-04-05T07:16:58.382512Z",
     "shell.execute_reply": "2024-04-05T07:16:58.381691Z"
    },
    "papermill": {
     "duration": 0.032492,
     "end_time": "2024-04-05T07:16:58.384354",
     "exception": false,
     "start_time": "2024-04-05T07:16:58.351862",
     "status": "completed"
    },
    "tags": []
   },
   "outputs": [],
   "source": [
    "y_predict_argmax"
   ]
  },
  {
   "cell_type": "code",
   "execution_count": 31,
   "id": "7b2b414d",
   "metadata": {
    "execution": {
     "iopub.execute_input": "2024-04-05T07:16:58.440541Z",
     "iopub.status.busy": "2024-04-05T07:16:58.440236Z",
     "iopub.status.idle": "2024-04-05T07:16:58.443876Z",
     "shell.execute_reply": "2024-04-05T07:16:58.442990Z"
    },
    "papermill": {
     "duration": 0.034624,
     "end_time": "2024-04-05T07:16:58.445885",
     "exception": false,
     "start_time": "2024-04-05T07:16:58.411261",
     "status": "completed"
    },
    "tags": []
   },
   "outputs": [],
   "source": [
    "y_val_list=[]\n",
    "for i in y_age_val:\n",
    "    y_val_list.append(i.argmax())"
   ]
  },
  {
   "cell_type": "code",
   "execution_count": 32,
   "id": "cc848735",
   "metadata": {
    "execution": {
     "iopub.execute_input": "2024-04-05T07:16:58.503235Z",
     "iopub.status.busy": "2024-04-05T07:16:58.502961Z",
     "iopub.status.idle": "2024-04-05T07:16:58.506746Z",
     "shell.execute_reply": "2024-04-05T07:16:58.505932Z"
    },
    "papermill": {
     "duration": 0.033841,
     "end_time": "2024-04-05T07:16:58.508734",
     "exception": false,
     "start_time": "2024-04-05T07:16:58.474893",
     "status": "completed"
    },
    "tags": []
   },
   "outputs": [],
   "source": [
    "cm_age = tf.math.confusion_matrix(labels=list(df_age_test['age_enc']), predictions=y_predict_argmax_list, num_classes=4)\n",
    "conf_matrix_result = cm_age.numpy()\n",
    "cm_age= sns.heatmap(cm_age, annot=True, fmt=\".1f\")\n",
    "tick_positions = np.arange(4) + 0.5\n",
    "cm_age.set_yticks(tick_positions, age_classes)\n",
    "\n",
    "cm_age.set_xticks(tick_positions, age_classes)\n",
    "\n"
   ]
  },
  {
   "cell_type": "markdown",
   "id": "120d0c12",
   "metadata": {
    "papermill": {
     "duration": 0.026508,
     "end_time": "2024-04-05T07:16:58.562918",
     "exception": false,
     "start_time": "2024-04-05T07:16:58.536410",
     "status": "completed"
    },
    "tags": []
   },
   "source": [
    "## Interpretation of Confusion Matrix\n",
    "\n",
    "The confusion matrix provides a visual representation of the model's performance in classifying age categories. Here's an interpretation based on the results:\n",
    "\n",
    "- **<span style=\"color:green\">High Correct Classifications (True Positives)</span>**: The diagonal elements of the confusion matrix indicate the number of instances correctly classified for each age category. For example, the model correctly classified 7013 instances as belonging to the first age category (20-27 years old).\n",
    "\n",
    "- **<span style=\"color:red\">Misclassifications (False Positives)</span>**: Off-diagonal elements represent instances that were incorrectly classified as belonging to a different age category. For instance, there were 68 instances classified as belonging to the second age category (20-27 years old) but actually belonged to the first category.\n",
    "\n",
    "- **<span style=\"color:blue\">Results</span>**: By examining the distribution of correct and incorrect classifications across age categories, we can identify any notable patterns or trends. For example, people aged between 20 and 27 have a high chance of being labeled as a person between the age of 28 and 45. \n",
    "\n"
   ]
  },
  {
   "cell_type": "code",
   "execution_count": 33,
   "id": "747b7069",
   "metadata": {
    "execution": {
     "iopub.execute_input": "2024-04-05T07:16:58.617608Z",
     "iopub.status.busy": "2024-04-05T07:16:58.617018Z",
     "iopub.status.idle": "2024-04-05T07:16:58.620617Z",
     "shell.execute_reply": "2024-04-05T07:16:58.619753Z"
    },
    "papermill": {
     "duration": 0.033012,
     "end_time": "2024-04-05T07:16:58.622474",
     "exception": false,
     "start_time": "2024-04-05T07:16:58.589462",
     "status": "completed"
    },
    "tags": []
   },
   "outputs": [],
   "source": [
    "conf_matrix_result\n"
   ]
  },
  {
   "cell_type": "markdown",
   "id": "006ac149",
   "metadata": {
    "papermill": {
     "duration": 0.026396,
     "end_time": "2024-04-05T07:16:58.675575",
     "exception": false,
     "start_time": "2024-04-05T07:16:58.649179",
     "status": "completed"
    },
    "tags": []
   },
   "source": [
    "### Interpretation of Training and Validation Metrics\n",
    "\n",
    "#### Loss Plot:\n",
    "- The training loss starts at a value of <span style=\"color:orange\">1.1936</span> in the first epoch and steadily decreases with each epoch.\n",
    "- Validation loss fluctuates initially but stabilizes around <span style=\"color:green\">0.8299</span> in the fourth epoch.\n",
    "- Both training and validation loss show a decreasing trend over epochs, indicating effective learning and generalization.\n",
    "\n",
    "#### Accuracy Plot:\n",
    "- The training accuracy begins at <span style=\"color:orange\">51.07%</span> in the first epoch and shows a consistent improvement, reaching <span style=\"color:green\">84.57%</span> in the seventh epoch.\n",
    "- Validation accuracy fluctuates but demonstrates an increasing trend, peaking at <span style=\"color:green\">77.29%</span> in the eleventh epoch.\n",
    "- Both training and validation accuracies show signs of convergence to stable values, suggesting the model's ability to accurately classify age categories.\n"
   ]
  },
  {
   "cell_type": "code",
   "execution_count": 34,
   "id": "348ccb12",
   "metadata": {
    "execution": {
     "iopub.execute_input": "2024-04-05T07:16:58.731355Z",
     "iopub.status.busy": "2024-04-05T07:16:58.731068Z",
     "iopub.status.idle": "2024-04-05T07:16:58.734824Z",
     "shell.execute_reply": "2024-04-05T07:16:58.734060Z"
    },
    "papermill": {
     "duration": 0.034541,
     "end_time": "2024-04-05T07:16:58.736629",
     "exception": false,
     "start_time": "2024-04-05T07:16:58.702088",
     "status": "completed"
    },
    "tags": []
   },
   "outputs": [],
   "source": [
    "epochs = range(len(history.history[\"loss\"]))\n",
    "plt.plot(epochs, history.history[\"loss\"], 'blue', label = \"loss\")\n",
    "plt.plot(epochs, history.history[\"val_loss\"], 'red', label =\"val_loss\")\n",
    "plt.title(\"Total Loss and Total Validation Loss\")\n",
    "plt.legend()"
   ]
  },
  {
   "cell_type": "code",
   "execution_count": 35,
   "id": "c45b67c4",
   "metadata": {
    "execution": {
     "iopub.execute_input": "2024-04-05T07:16:58.791264Z",
     "iopub.status.busy": "2024-04-05T07:16:58.790815Z",
     "iopub.status.idle": "2024-04-05T07:16:58.794591Z",
     "shell.execute_reply": "2024-04-05T07:16:58.793738Z"
    },
    "papermill": {
     "duration": 0.033357,
     "end_time": "2024-04-05T07:16:58.796484",
     "exception": false,
     "start_time": "2024-04-05T07:16:58.763127",
     "status": "completed"
    },
    "tags": []
   },
   "outputs": [],
   "source": [
    "epochs = range(len(history.history[\"loss\"]))\n",
    "plt.plot(epochs, history.history[\"accuracy\"], 'blue', label = \"accuracy\")\n",
    "plt.plot(epochs, history.history[\"val_accuracy\"], 'red', label =\"val_accuracy\")\n",
    "plt.title(\"Total Accuracy and Total Validation Accuracy\")\n",
    "plt.legend()"
   ]
  },
  {
   "cell_type": "code",
   "execution_count": null,
   "id": "9e962119",
   "metadata": {
    "papermill": {
     "duration": 0.027961,
     "end_time": "2024-04-05T07:16:58.851702",
     "exception": false,
     "start_time": "2024-04-05T07:16:58.823741",
     "status": "completed"
    },
    "tags": []
   },
   "outputs": [],
   "source": []
  },
  {
   "cell_type": "code",
   "execution_count": 36,
   "id": "1ac271b0",
   "metadata": {
    "execution": {
     "iopub.execute_input": "2024-04-05T07:16:58.907529Z",
     "iopub.status.busy": "2024-04-05T07:16:58.906959Z",
     "iopub.status.idle": "2024-04-05T07:16:59.003971Z",
     "shell.execute_reply": "2024-04-05T07:16:59.003053Z"
    },
    "papermill": {
     "duration": 0.127134,
     "end_time": "2024-04-05T07:16:59.006265",
     "exception": false,
     "start_time": "2024-04-05T07:16:58.879131",
     "status": "completed"
    },
    "tags": []
   },
   "outputs": [],
   "source": [
    "model.save('age_model_aug.h5')\n"
   ]
  },
  {
   "cell_type": "code",
   "execution_count": null,
   "id": "6d701a3c",
   "metadata": {
    "papermill": {
     "duration": 0.027279,
     "end_time": "2024-04-05T07:16:59.061517",
     "exception": false,
     "start_time": "2024-04-05T07:16:59.034238",
     "status": "completed"
    },
    "tags": []
   },
   "outputs": [],
   "source": []
  },
  {
   "cell_type": "code",
   "execution_count": null,
   "id": "647419f6",
   "metadata": {
    "papermill": {
     "duration": 0.026963,
     "end_time": "2024-04-05T07:16:59.117225",
     "exception": false,
     "start_time": "2024-04-05T07:16:59.090262",
     "status": "completed"
    },
    "tags": []
   },
   "outputs": [],
   "source": []
  }
 ],
 "metadata": {
  "kaggle": {
   "accelerator": "none",
   "dataSources": [
    {
     "datasetId": 4704750,
     "sourceId": 7993938,
     "sourceType": "datasetVersion"
    },
    {
     "datasetId": 4706334,
     "sourceId": 7993976,
     "sourceType": "datasetVersion"
    }
   ],
   "dockerImageVersionId": 30673,
   "isGpuEnabled": false,
   "isInternetEnabled": true,
   "language": "python",
   "sourceType": "notebook"
  },
  "kernelspec": {
   "display_name": "Python 3 (ipykernel)",
   "language": "python",
   "name": "python3"
  },
  "language_info": {
   "codemirror_mode": {
    "name": "ipython",
    "version": 3
   },
   "file_extension": ".py",
   "mimetype": "text/x-python",
   "name": "python",
   "nbconvert_exporter": "python",
   "pygments_lexer": "ipython3",
   "version": "3.12.2"
  },
  "papermill": {
   "default_parameters": {},
   "duration": 12701.857354,
   "end_time": "2024-04-05T07:17:01.852994",
   "environment_variables": {},
   "exception": null,
   "input_path": "__notebook__.ipynb",
   "output_path": "__notebook__.ipynb",
   "parameters": {},
   "start_time": "2024-04-05T03:45:19.995640",
   "version": "2.5.0"
  },
  "widgets": {
   "application/vnd.jupyter.widget-state+json": {
    "state": {
     "20c86832368f4dc0bb0efbdfff265453": {
      "model_module": "@jupyter-widgets/controls",
      "model_module_version": "1.5.0",
      "model_name": "DescriptionStyleModel",
      "state": {
       "_model_module": "@jupyter-widgets/controls",
       "_model_module_version": "1.5.0",
       "_model_name": "DescriptionStyleModel",
       "_view_count": null,
       "_view_module": "@jupyter-widgets/base",
       "_view_module_version": "1.2.0",
       "_view_name": "StyleView",
       "description_width": ""
      }
     },
     "3a2d7dc1e3cc44b7b5fbd4db43c17a8d": {
      "model_module": "@jupyter-widgets/base",
      "model_module_version": "1.2.0",
      "model_name": "LayoutModel",
      "state": {
       "_model_module": "@jupyter-widgets/base",
       "_model_module_version": "1.2.0",
       "_model_name": "LayoutModel",
       "_view_count": null,
       "_view_module": "@jupyter-widgets/base",
       "_view_module_version": "1.2.0",
       "_view_name": "LayoutView",
       "align_content": null,
       "align_items": null,
       "align_self": null,
       "border": null,
       "bottom": null,
       "display": null,
       "flex": null,
       "flex_flow": null,
       "grid_area": null,
       "grid_auto_columns": null,
       "grid_auto_flow": null,
       "grid_auto_rows": null,
       "grid_column": null,
       "grid_gap": null,
       "grid_row": null,
       "grid_template_areas": null,
       "grid_template_columns": null,
       "grid_template_rows": null,
       "height": null,
       "justify_content": null,
       "justify_items": null,
       "left": null,
       "margin": null,
       "max_height": null,
       "max_width": null,
       "min_height": null,
       "min_width": null,
       "object_fit": null,
       "object_position": null,
       "order": null,
       "overflow": null,
       "overflow_x": null,
       "overflow_y": null,
       "padding": null,
       "right": null,
       "top": null,
       "visibility": null,
       "width": null
      }
     },
     "468d6b80367f41c3a227f698b19bf257": {
      "model_module": "@jupyter-widgets/controls",
      "model_module_version": "1.5.0",
      "model_name": "HTMLModel",
      "state": {
       "_dom_classes": [],
       "_model_module": "@jupyter-widgets/controls",
       "_model_module_version": "1.5.0",
       "_model_name": "HTMLModel",
       "_view_count": null,
       "_view_module": "@jupyter-widgets/controls",
       "_view_module_version": "1.5.0",
       "_view_name": "HTMLView",
       "description": "",
       "description_tooltip": null,
       "layout": "IPY_MODEL_f7f423d856d74cc9a1f04691e7b9621e",
       "placeholder": "​",
       "style": "IPY_MODEL_bc252c651e754b05bae1080229d6e3f9",
       "value": "100%"
      }
     },
     "4a7911701e944950b8eef4e88389b43e": {
      "model_module": "@jupyter-widgets/controls",
      "model_module_version": "1.5.0",
      "model_name": "HTMLModel",
      "state": {
       "_dom_classes": [],
       "_model_module": "@jupyter-widgets/controls",
       "_model_module_version": "1.5.0",
       "_model_name": "HTMLModel",
       "_view_count": null,
       "_view_module": "@jupyter-widgets/controls",
       "_view_module_version": "1.5.0",
       "_view_name": "HTMLView",
       "description": "",
       "description_tooltip": null,
       "layout": "IPY_MODEL_3a2d7dc1e3cc44b7b5fbd4db43c17a8d",
       "placeholder": "​",
       "style": "IPY_MODEL_54805922d6f44bb09366e8fa50009f53",
       "value": "100%"
      }
     },
     "4bc664c6fac142559c4a31de2f16fad9": {
      "model_module": "@jupyter-widgets/controls",
      "model_module_version": "1.5.0",
      "model_name": "HTMLModel",
      "state": {
       "_dom_classes": [],
       "_model_module": "@jupyter-widgets/controls",
       "_model_module_version": "1.5.0",
       "_model_name": "HTMLModel",
       "_view_count": null,
       "_view_module": "@jupyter-widgets/controls",
       "_view_module_version": "1.5.0",
       "_view_name": "HTMLView",
       "description": "",
       "description_tooltip": null,
       "layout": "IPY_MODEL_6187d4036d7a4853a087e4af3c8207e5",
       "placeholder": "​",
       "style": "IPY_MODEL_20c86832368f4dc0bb0efbdfff265453",
       "value": " 234400/234400 [00:00&lt;00:00, 286868.55it/s]"
      }
     },
     "54805922d6f44bb09366e8fa50009f53": {
      "model_module": "@jupyter-widgets/controls",
      "model_module_version": "1.5.0",
      "model_name": "DescriptionStyleModel",
      "state": {
       "_model_module": "@jupyter-widgets/controls",
       "_model_module_version": "1.5.0",
       "_model_name": "DescriptionStyleModel",
       "_view_count": null,
       "_view_module": "@jupyter-widgets/base",
       "_view_module_version": "1.2.0",
       "_view_name": "StyleView",
       "description_width": ""
      }
     },
     "5e67af1788d74eff93e1afedf36eaefc": {
      "model_module": "@jupyter-widgets/controls",
      "model_module_version": "1.5.0",
      "model_name": "ProgressStyleModel",
      "state": {
       "_model_module": "@jupyter-widgets/controls",
       "_model_module_version": "1.5.0",
       "_model_name": "ProgressStyleModel",
       "_view_count": null,
       "_view_module": "@jupyter-widgets/base",
       "_view_module_version": "1.2.0",
       "_view_name": "StyleView",
       "bar_color": null,
       "description_width": ""
      }
     },
     "6187d4036d7a4853a087e4af3c8207e5": {
      "model_module": "@jupyter-widgets/base",
      "model_module_version": "1.2.0",
      "model_name": "LayoutModel",
      "state": {
       "_model_module": "@jupyter-widgets/base",
       "_model_module_version": "1.2.0",
       "_model_name": "LayoutModel",
       "_view_count": null,
       "_view_module": "@jupyter-widgets/base",
       "_view_module_version": "1.2.0",
       "_view_name": "LayoutView",
       "align_content": null,
       "align_items": null,
       "align_self": null,
       "border": null,
       "bottom": null,
       "display": null,
       "flex": null,
       "flex_flow": null,
       "grid_area": null,
       "grid_auto_columns": null,
       "grid_auto_flow": null,
       "grid_auto_rows": null,
       "grid_column": null,
       "grid_gap": null,
       "grid_row": null,
       "grid_template_areas": null,
       "grid_template_columns": null,
       "grid_template_rows": null,
       "height": null,
       "justify_content": null,
       "justify_items": null,
       "left": null,
       "margin": null,
       "max_height": null,
       "max_width": null,
       "min_height": null,
       "min_width": null,
       "object_fit": null,
       "object_position": null,
       "order": null,
       "overflow": null,
       "overflow_x": null,
       "overflow_y": null,
       "padding": null,
       "right": null,
       "top": null,
       "visibility": null,
       "width": null
      }
     },
     "67f83302a0624b629770916975917498": {
      "model_module": "@jupyter-widgets/controls",
      "model_module_version": "1.5.0",
      "model_name": "DescriptionStyleModel",
      "state": {
       "_model_module": "@jupyter-widgets/controls",
       "_model_module_version": "1.5.0",
       "_model_name": "DescriptionStyleModel",
       "_view_count": null,
       "_view_module": "@jupyter-widgets/base",
       "_view_module_version": "1.2.0",
       "_view_name": "StyleView",
       "description_width": ""
      }
     },
     "79cfb0aa7942491d836991d13a17d04f": {
      "model_module": "@jupyter-widgets/base",
      "model_module_version": "1.2.0",
      "model_name": "LayoutModel",
      "state": {
       "_model_module": "@jupyter-widgets/base",
       "_model_module_version": "1.2.0",
       "_model_name": "LayoutModel",
       "_view_count": null,
       "_view_module": "@jupyter-widgets/base",
       "_view_module_version": "1.2.0",
       "_view_name": "LayoutView",
       "align_content": null,
       "align_items": null,
       "align_self": null,
       "border": null,
       "bottom": null,
       "display": null,
       "flex": null,
       "flex_flow": null,
       "grid_area": null,
       "grid_auto_columns": null,
       "grid_auto_flow": null,
       "grid_auto_rows": null,
       "grid_column": null,
       "grid_gap": null,
       "grid_row": null,
       "grid_template_areas": null,
       "grid_template_columns": null,
       "grid_template_rows": null,
       "height": null,
       "justify_content": null,
       "justify_items": null,
       "left": null,
       "margin": null,
       "max_height": null,
       "max_width": null,
       "min_height": null,
       "min_width": null,
       "object_fit": null,
       "object_position": null,
       "order": null,
       "overflow": null,
       "overflow_x": null,
       "overflow_y": null,
       "padding": null,
       "right": null,
       "top": null,
       "visibility": null,
       "width": null
      }
     },
     "82318afbc53d44059d8acf158fd0485b": {
      "model_module": "@jupyter-widgets/controls",
      "model_module_version": "1.5.0",
      "model_name": "HTMLModel",
      "state": {
       "_dom_classes": [],
       "_model_module": "@jupyter-widgets/controls",
       "_model_module_version": "1.5.0",
       "_model_name": "HTMLModel",
       "_view_count": null,
       "_view_module": "@jupyter-widgets/controls",
       "_view_module_version": "1.5.0",
       "_view_name": "HTMLView",
       "description": "",
       "description_tooltip": null,
       "layout": "IPY_MODEL_b2486d4c37084f1fbb024cc315626929",
       "placeholder": "​",
       "style": "IPY_MODEL_67f83302a0624b629770916975917498",
       "value": " 33486/33486 [00:00&lt;00:00, 243480.50it/s]"
      }
     },
     "87151c5b8e8540d181913f08de4524e4": {
      "model_module": "@jupyter-widgets/base",
      "model_module_version": "1.2.0",
      "model_name": "LayoutModel",
      "state": {
       "_model_module": "@jupyter-widgets/base",
       "_model_module_version": "1.2.0",
       "_model_name": "LayoutModel",
       "_view_count": null,
       "_view_module": "@jupyter-widgets/base",
       "_view_module_version": "1.2.0",
       "_view_name": "LayoutView",
       "align_content": null,
       "align_items": null,
       "align_self": null,
       "border": null,
       "bottom": null,
       "display": null,
       "flex": null,
       "flex_flow": null,
       "grid_area": null,
       "grid_auto_columns": null,
       "grid_auto_flow": null,
       "grid_auto_rows": null,
       "grid_column": null,
       "grid_gap": null,
       "grid_row": null,
       "grid_template_areas": null,
       "grid_template_columns": null,
       "grid_template_rows": null,
       "height": null,
       "justify_content": null,
       "justify_items": null,
       "left": null,
       "margin": null,
       "max_height": null,
       "max_width": null,
       "min_height": null,
       "min_width": null,
       "object_fit": null,
       "object_position": null,
       "order": null,
       "overflow": null,
       "overflow_x": null,
       "overflow_y": null,
       "padding": null,
       "right": null,
       "top": null,
       "visibility": null,
       "width": null
      }
     },
     "9f27191ea89f48c1af1329bd57f52222": {
      "model_module": "@jupyter-widgets/controls",
      "model_module_version": "1.5.0",
      "model_name": "FloatProgressModel",
      "state": {
       "_dom_classes": [],
       "_model_module": "@jupyter-widgets/controls",
       "_model_module_version": "1.5.0",
       "_model_name": "FloatProgressModel",
       "_view_count": null,
       "_view_module": "@jupyter-widgets/controls",
       "_view_module_version": "1.5.0",
       "_view_name": "ProgressView",
       "bar_style": "success",
       "description": "",
       "description_tooltip": null,
       "layout": "IPY_MODEL_79cfb0aa7942491d836991d13a17d04f",
       "max": 234400,
       "min": 0,
       "orientation": "horizontal",
       "style": "IPY_MODEL_e5c07cc4b91b457d8c304ab9cc7144ad",
       "value": 234400
      }
     },
     "a2744a01bd5242f99fd80732df9c627c": {
      "model_module": "@jupyter-widgets/controls",
      "model_module_version": "1.5.0",
      "model_name": "HBoxModel",
      "state": {
       "_dom_classes": [],
       "_model_module": "@jupyter-widgets/controls",
       "_model_module_version": "1.5.0",
       "_model_name": "HBoxModel",
       "_view_count": null,
       "_view_module": "@jupyter-widgets/controls",
       "_view_module_version": "1.5.0",
       "_view_name": "HBoxView",
       "box_style": "",
       "children": [
        "IPY_MODEL_4a7911701e944950b8eef4e88389b43e",
        "IPY_MODEL_9f27191ea89f48c1af1329bd57f52222",
        "IPY_MODEL_4bc664c6fac142559c4a31de2f16fad9"
       ],
       "layout": "IPY_MODEL_d78404ca24b74f958c0df5fd4c332bd9"
      }
     },
     "b2486d4c37084f1fbb024cc315626929": {
      "model_module": "@jupyter-widgets/base",
      "model_module_version": "1.2.0",
      "model_name": "LayoutModel",
      "state": {
       "_model_module": "@jupyter-widgets/base",
       "_model_module_version": "1.2.0",
       "_model_name": "LayoutModel",
       "_view_count": null,
       "_view_module": "@jupyter-widgets/base",
       "_view_module_version": "1.2.0",
       "_view_name": "LayoutView",
       "align_content": null,
       "align_items": null,
       "align_self": null,
       "border": null,
       "bottom": null,
       "display": null,
       "flex": null,
       "flex_flow": null,
       "grid_area": null,
       "grid_auto_columns": null,
       "grid_auto_flow": null,
       "grid_auto_rows": null,
       "grid_column": null,
       "grid_gap": null,
       "grid_row": null,
       "grid_template_areas": null,
       "grid_template_columns": null,
       "grid_template_rows": null,
       "height": null,
       "justify_content": null,
       "justify_items": null,
       "left": null,
       "margin": null,
       "max_height": null,
       "max_width": null,
       "min_height": null,
       "min_width": null,
       "object_fit": null,
       "object_position": null,
       "order": null,
       "overflow": null,
       "overflow_x": null,
       "overflow_y": null,
       "padding": null,
       "right": null,
       "top": null,
       "visibility": null,
       "width": null
      }
     },
     "bc252c651e754b05bae1080229d6e3f9": {
      "model_module": "@jupyter-widgets/controls",
      "model_module_version": "1.5.0",
      "model_name": "DescriptionStyleModel",
      "state": {
       "_model_module": "@jupyter-widgets/controls",
       "_model_module_version": "1.5.0",
       "_model_name": "DescriptionStyleModel",
       "_view_count": null,
       "_view_module": "@jupyter-widgets/base",
       "_view_module_version": "1.2.0",
       "_view_name": "StyleView",
       "description_width": ""
      }
     },
     "c80ea116a5354ea6be44a0531c914f87": {
      "model_module": "@jupyter-widgets/base",
      "model_module_version": "1.2.0",
      "model_name": "LayoutModel",
      "state": {
       "_model_module": "@jupyter-widgets/base",
       "_model_module_version": "1.2.0",
       "_model_name": "LayoutModel",
       "_view_count": null,
       "_view_module": "@jupyter-widgets/base",
       "_view_module_version": "1.2.0",
       "_view_name": "LayoutView",
       "align_content": null,
       "align_items": null,
       "align_self": null,
       "border": null,
       "bottom": null,
       "display": null,
       "flex": null,
       "flex_flow": null,
       "grid_area": null,
       "grid_auto_columns": null,
       "grid_auto_flow": null,
       "grid_auto_rows": null,
       "grid_column": null,
       "grid_gap": null,
       "grid_row": null,
       "grid_template_areas": null,
       "grid_template_columns": null,
       "grid_template_rows": null,
       "height": null,
       "justify_content": null,
       "justify_items": null,
       "left": null,
       "margin": null,
       "max_height": null,
       "max_width": null,
       "min_height": null,
       "min_width": null,
       "object_fit": null,
       "object_position": null,
       "order": null,
       "overflow": null,
       "overflow_x": null,
       "overflow_y": null,
       "padding": null,
       "right": null,
       "top": null,
       "visibility": null,
       "width": null
      }
     },
     "d78404ca24b74f958c0df5fd4c332bd9": {
      "model_module": "@jupyter-widgets/base",
      "model_module_version": "1.2.0",
      "model_name": "LayoutModel",
      "state": {
       "_model_module": "@jupyter-widgets/base",
       "_model_module_version": "1.2.0",
       "_model_name": "LayoutModel",
       "_view_count": null,
       "_view_module": "@jupyter-widgets/base",
       "_view_module_version": "1.2.0",
       "_view_name": "LayoutView",
       "align_content": null,
       "align_items": null,
       "align_self": null,
       "border": null,
       "bottom": null,
       "display": null,
       "flex": null,
       "flex_flow": null,
       "grid_area": null,
       "grid_auto_columns": null,
       "grid_auto_flow": null,
       "grid_auto_rows": null,
       "grid_column": null,
       "grid_gap": null,
       "grid_row": null,
       "grid_template_areas": null,
       "grid_template_columns": null,
       "grid_template_rows": null,
       "height": null,
       "justify_content": null,
       "justify_items": null,
       "left": null,
       "margin": null,
       "max_height": null,
       "max_width": null,
       "min_height": null,
       "min_width": null,
       "object_fit": null,
       "object_position": null,
       "order": null,
       "overflow": null,
       "overflow_x": null,
       "overflow_y": null,
       "padding": null,
       "right": null,
       "top": null,
       "visibility": null,
       "width": null
      }
     },
     "d86d1e6bd87c45b69f6e9546fd87c474": {
      "model_module": "@jupyter-widgets/controls",
      "model_module_version": "1.5.0",
      "model_name": "FloatProgressModel",
      "state": {
       "_dom_classes": [],
       "_model_module": "@jupyter-widgets/controls",
       "_model_module_version": "1.5.0",
       "_model_name": "FloatProgressModel",
       "_view_count": null,
       "_view_module": "@jupyter-widgets/controls",
       "_view_module_version": "1.5.0",
       "_view_name": "ProgressView",
       "bar_style": "success",
       "description": "",
       "description_tooltip": null,
       "layout": "IPY_MODEL_c80ea116a5354ea6be44a0531c914f87",
       "max": 33486,
       "min": 0,
       "orientation": "horizontal",
       "style": "IPY_MODEL_5e67af1788d74eff93e1afedf36eaefc",
       "value": 33486
      }
     },
     "ddbf495ed67c4a00978a37c1c388e228": {
      "model_module": "@jupyter-widgets/controls",
      "model_module_version": "1.5.0",
      "model_name": "HBoxModel",
      "state": {
       "_dom_classes": [],
       "_model_module": "@jupyter-widgets/controls",
       "_model_module_version": "1.5.0",
       "_model_name": "HBoxModel",
       "_view_count": null,
       "_view_module": "@jupyter-widgets/controls",
       "_view_module_version": "1.5.0",
       "_view_name": "HBoxView",
       "box_style": "",
       "children": [
        "IPY_MODEL_468d6b80367f41c3a227f698b19bf257",
        "IPY_MODEL_d86d1e6bd87c45b69f6e9546fd87c474",
        "IPY_MODEL_82318afbc53d44059d8acf158fd0485b"
       ],
       "layout": "IPY_MODEL_87151c5b8e8540d181913f08de4524e4"
      }
     },
     "e5c07cc4b91b457d8c304ab9cc7144ad": {
      "model_module": "@jupyter-widgets/controls",
      "model_module_version": "1.5.0",
      "model_name": "ProgressStyleModel",
      "state": {
       "_model_module": "@jupyter-widgets/controls",
       "_model_module_version": "1.5.0",
       "_model_name": "ProgressStyleModel",
       "_view_count": null,
       "_view_module": "@jupyter-widgets/base",
       "_view_module_version": "1.2.0",
       "_view_name": "StyleView",
       "bar_color": null,
       "description_width": ""
      }
     },
     "f7f423d856d74cc9a1f04691e7b9621e": {
      "model_module": "@jupyter-widgets/base",
      "model_module_version": "1.2.0",
      "model_name": "LayoutModel",
      "state": {
       "_model_module": "@jupyter-widgets/base",
       "_model_module_version": "1.2.0",
       "_model_name": "LayoutModel",
       "_view_count": null,
       "_view_module": "@jupyter-widgets/base",
       "_view_module_version": "1.2.0",
       "_view_name": "LayoutView",
       "align_content": null,
       "align_items": null,
       "align_self": null,
       "border": null,
       "bottom": null,
       "display": null,
       "flex": null,
       "flex_flow": null,
       "grid_area": null,
       "grid_auto_columns": null,
       "grid_auto_flow": null,
       "grid_auto_rows": null,
       "grid_column": null,
       "grid_gap": null,
       "grid_row": null,
       "grid_template_areas": null,
       "grid_template_columns": null,
       "grid_template_rows": null,
       "height": null,
       "justify_content": null,
       "justify_items": null,
       "left": null,
       "margin": null,
       "max_height": null,
       "max_width": null,
       "min_height": null,
       "min_width": null,
       "object_fit": null,
       "object_position": null,
       "order": null,
       "overflow": null,
       "overflow_x": null,
       "overflow_y": null,
       "padding": null,
       "right": null,
       "top": null,
       "visibility": null,
       "width": null
      }
     }
    },
    "version_major": 2,
    "version_minor": 0
   }
  }
 },
 "nbformat": 4,
 "nbformat_minor": 5
}
