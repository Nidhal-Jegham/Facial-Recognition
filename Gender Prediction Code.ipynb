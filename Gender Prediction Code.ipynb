{
 "cells": [
  {
   "cell_type": "code",
   "execution_count": null,
   "metadata": {
    "execution": {
     "iopub.execute_input": "2024-04-05T02:36:22.655499Z",
     "iopub.status.busy": "2024-04-05T02:36:22.655141Z",
     "iopub.status.idle": "2024-04-05T02:36:22.66272Z",
     "shell.execute_reply": "2024-04-05T02:36:22.661657Z",
     "shell.execute_reply.started": "2024-04-05T02:36:22.65547Z"
    },
    "papermill": {
     "duration": 15.188201,
     "end_time": "2024-03-28T05:22:44.230169",
     "exception": false,
     "start_time": "2024-03-28T05:22:29.041968",
     "status": "completed"
    },
    "tags": []
   },
   "outputs": [],
   "source": [
    "import os\n",
    "import tensorflow as tf\n",
    "import pandas as pd\n",
    "import numpy as np\n",
    "import seaborn as sns\n",
    "import matplotlib.pyplot as plt\n",
    "import cv2\n",
    "from tensorflow.keras.preprocessing.image import ImageDataGenerator\n",
    "from tensorflow.keras.preprocessing import image\n",
    "from sklearn.model_selection import train_test_split\n",
    "from keras import regularizers\n",
    "\n",
    "\n",
    "from keras.optimizers import Adam\n",
    "from sklearn.metrics import classification_report, confusion_matrix,ConfusionMatrixDisplay\n",
    "from keras.callbacks import ModelCheckpoint,EarlyStopping\n",
    "from tensorflow.keras.utils import load_img\n",
    "\n",
    "from tqdm.notebook import tqdm\n",
    "from keras.models import Model\n",
    "from sklearn.utils.class_weight import compute_class_weight\n",
    "from PIL import Image\n",
    "\n",
    "\n",
    "\n",
    "from tensorflow.keras.models import Sequential\n",
    "from tensorflow.keras import layers"
   ]
  },
  {
   "cell_type": "markdown",
   "metadata": {
    "papermill": {
     "duration": 0.01556,
     "end_time": "2024-03-28T05:22:44.294592",
     "exception": false,
     "start_time": "2024-03-28T05:22:44.279032",
     "status": "completed"
    },
    "tags": []
   },
   "source": [
    "# Gender Classification Convolutional Neural Network\n",
    "\n",
    "## Overview\n",
    "We will build two neural networks to classify age, gender.\n",
    "\n",
    "### Gender Classification\n",
    "The first neural network will classify gender into the following bins:\n",
    "\n",
    "- <span style=\"color:blue\">Male</span>\n",
    "- <span style=\"color:red\">Female</span>\n",
    "\n",
    "\n"
   ]
  },
  {
   "cell_type": "markdown",
   "metadata": {},
   "source": [
    "# Data Import\n",
    "\n",
    "## Dataset Selection\n",
    "We will use the augmented open-source dataset called <span style=\"color:blue\">\"UTKFace\"</span>. This dataset comprises over <span style=\"color:green\">200,000 images</span> of individuals ranging from <span style=\"color:orange\">1 to 100 years</span> of age.\n"
   ]
  },
  {
   "cell_type": "markdown",
   "metadata": {
    "papermill": {
     "duration": 0.015379,
     "end_time": "2024-03-28T05:22:44.32579",
     "exception": false,
     "start_time": "2024-03-28T05:22:44.310411",
     "status": "completed"
    },
    "tags": []
   },
   "source": [
    "e.\r\n"
   ]
  },
  {
   "cell_type": "code",
   "execution_count": null,
   "metadata": {
    "execution": {
     "iopub.execute_input": "2024-04-05T02:36:26.095271Z",
     "iopub.status.busy": "2024-04-05T02:36:26.094347Z",
     "iopub.status.idle": "2024-04-05T02:36:26.099369Z",
     "shell.execute_reply": "2024-04-05T02:36:26.098491Z",
     "shell.execute_reply.started": "2024-04-05T02:36:26.095237Z"
    },
    "papermill": {
     "duration": 0.022434,
     "end_time": "2024-03-28T05:22:44.363947",
     "exception": false,
     "start_time": "2024-03-28T05:22:44.341513",
     "status": "completed"
    },
    "tags": []
   },
   "outputs": [],
   "source": [
    "BASE_DIR_train_male =\"/kaggle/input/gender-recognition-200k-images-celeba/Dataset/Train/Male\"\n",
    "BASE_DIR_train_female =\"/kaggle/input/gender-recognition-200k-images-celeba/Dataset/Train/Female\"\n",
    "\n",
    "BASE_DIR_val_male =\"/kaggle/input/gender-recognition-200k-images-celeba/Dataset/Validation/Male\"\n",
    "BASE_DIR_val_female =\"/kaggle/input/gender-recognition-200k-images-celeba/Dataset/Validation/Female\"\n",
    "\n",
    "BASE_DIR_test_male =\"/kaggle/input/gender-recognition-200k-images-celeba/Dataset/Test/Male\"\n",
    "BASE_DIR_test_female =\"/kaggle/input/gender-recognition-200k-images-celeba/Dataset/Test/Female\""
   ]
  },
  {
   "cell_type": "code",
   "execution_count": null,
   "metadata": {
    "execution": {
     "iopub.execute_input": "2024-04-05T02:36:26.303201Z",
     "iopub.status.busy": "2024-04-05T02:36:26.302492Z",
     "iopub.status.idle": "2024-04-05T02:36:26.306605Z",
     "shell.execute_reply": "2024-04-05T02:36:26.305666Z",
     "shell.execute_reply.started": "2024-04-05T02:36:26.303175Z"
    },
    "papermill": {
     "duration": 0.021901,
     "end_time": "2024-03-28T05:22:44.401563",
     "exception": false,
     "start_time": "2024-03-28T05:22:44.379662",
     "status": "completed"
    },
    "tags": []
   },
   "outputs": [],
   "source": [
    "gender_classes=[\"Male\", \"Female\"]\n",
    "\n"
   ]
  },
  {
   "cell_type": "code",
   "execution_count": null,
   "metadata": {
    "papermill": {
     "duration": 0.558709,
     "end_time": "2024-03-28T05:22:44.975889",
     "exception": false,
     "start_time": "2024-03-28T05:22:44.41718",
     "status": "completed"
    },
    "tags": []
   },
   "outputs": [],
   "source": []
  },
  {
   "cell_type": "code",
   "execution_count": null,
   "metadata": {
    "execution": {
     "iopub.execute_input": "2024-04-05T02:36:26.760134Z",
     "iopub.status.busy": "2024-04-05T02:36:26.759855Z",
     "iopub.status.idle": "2024-04-05T02:36:27.926478Z",
     "shell.execute_reply": "2024-04-05T02:36:27.92559Z",
     "shell.execute_reply.started": "2024-04-05T02:36:26.760111Z"
    }
   },
   "outputs": [],
   "source": [
    "image_paths_train = []\n",
    "gender_labels_train = []\n",
    "\n",
    "for filename in tqdm(os.listdir(BASE_DIR_train_male)):\n",
    "    image_path = os.path.join(BASE_DIR_train_male, filename)\n",
    "    image_paths_train.append(image_path)\n",
    "    gender_labels_train.append(\"Male\")\n"
   ]
  },
  {
   "cell_type": "code",
   "execution_count": null,
   "metadata": {
    "execution": {
     "iopub.execute_input": "2024-04-05T02:36:27.929005Z",
     "iopub.status.busy": "2024-04-05T02:36:27.928322Z",
     "iopub.status.idle": "2024-04-05T02:36:29.367878Z",
     "shell.execute_reply": "2024-04-05T02:36:29.367023Z",
     "shell.execute_reply.started": "2024-04-05T02:36:27.928949Z"
    }
   },
   "outputs": [],
   "source": [
    "\n",
    "\n",
    "for filename in tqdm(os.listdir(BASE_DIR_train_female)):\n",
    "    image_path = os.path.join(BASE_DIR_train_female, filename)\n",
    "    image_paths_train.append(image_path)\n",
    "    gender_labels_train.append(\"Female\")\n"
   ]
  },
  {
   "cell_type": "code",
   "execution_count": null,
   "metadata": {},
   "outputs": [],
   "source": []
  },
  {
   "cell_type": "code",
   "execution_count": null,
   "metadata": {
    "execution": {
     "iopub.execute_input": "2024-04-05T02:36:29.369335Z",
     "iopub.status.busy": "2024-04-05T02:36:29.369055Z",
     "iopub.status.idle": "2024-04-05T02:36:29.725621Z",
     "shell.execute_reply": "2024-04-05T02:36:29.724799Z",
     "shell.execute_reply.started": "2024-04-05T02:36:29.369311Z"
    }
   },
   "outputs": [],
   "source": [
    "\n",
    "for filename in tqdm(os.listdir(BASE_DIR_val_male)):\n",
    "    image_path = os.path.join(BASE_DIR_val_male, filename)\n",
    "    image_paths_train.append(image_path)\n",
    "    gender_labels_train.append(\"Male\")\n"
   ]
  },
  {
   "cell_type": "code",
   "execution_count": null,
   "metadata": {
    "execution": {
     "iopub.execute_input": "2024-04-05T02:36:30.114651Z",
     "iopub.status.busy": "2024-04-05T02:36:30.114363Z",
     "iopub.status.idle": "2024-04-05T02:36:30.500535Z",
     "shell.execute_reply": "2024-04-05T02:36:30.499646Z",
     "shell.execute_reply.started": "2024-04-05T02:36:30.114628Z"
    }
   },
   "outputs": [],
   "source": [
    "\n",
    "\n",
    "for filename in tqdm(os.listdir(BASE_DIR_val_female)):\n",
    "    image_path = os.path.join(BASE_DIR_val_female, filename)\n",
    "    image_paths_train.append(image_path)\n",
    "    gender_labels_train.append(\"Female\")\n"
   ]
  },
  {
   "cell_type": "code",
   "execution_count": null,
   "metadata": {},
   "outputs": [],
   "source": []
  },
  {
   "cell_type": "code",
   "execution_count": null,
   "metadata": {
    "execution": {
     "iopub.execute_input": "2024-04-05T02:36:30.652725Z",
     "iopub.status.busy": "2024-04-05T02:36:30.652458Z",
     "iopub.status.idle": "2024-04-05T02:36:30.990093Z",
     "shell.execute_reply": "2024-04-05T02:36:30.989257Z",
     "shell.execute_reply.started": "2024-04-05T02:36:30.652703Z"
    }
   },
   "outputs": [],
   "source": [
    "image_paths_test = []\n",
    "gender_labels_test = []\n",
    "\n",
    "for filename in tqdm(os.listdir(BASE_DIR_test_male)):\n",
    "    image_path = os.path.join(BASE_DIR_test_male, filename)\n",
    "    image_paths_test.append(image_path)\n",
    "    gender_labels_test.append(\"Male\")\n"
   ]
  },
  {
   "cell_type": "code",
   "execution_count": null,
   "metadata": {
    "execution": {
     "iopub.execute_input": "2024-04-05T02:36:30.991727Z",
     "iopub.status.busy": "2024-04-05T02:36:30.991459Z",
     "iopub.status.idle": "2024-04-05T02:36:31.345274Z",
     "shell.execute_reply": "2024-04-05T02:36:31.344359Z",
     "shell.execute_reply.started": "2024-04-05T02:36:30.991704Z"
    }
   },
   "outputs": [],
   "source": [
    "\n",
    "\n",
    "for filename in tqdm(os.listdir(BASE_DIR_test_female)):\n",
    "    image_path = os.path.join(BASE_DIR_test_female, filename)\n",
    "    image_paths_test.append(image_path)\n",
    "    gender_labels_test.append(\"Female\")\n"
   ]
  },
  {
   "cell_type": "code",
   "execution_count": null,
   "metadata": {},
   "outputs": [],
   "source": []
  },
  {
   "cell_type": "code",
   "execution_count": null,
   "metadata": {
    "execution": {
     "iopub.execute_input": "2024-04-05T02:36:31.455178Z",
     "iopub.status.busy": "2024-04-05T02:36:31.454899Z",
     "iopub.status.idle": "2024-04-05T02:36:31.519797Z",
     "shell.execute_reply": "2024-04-05T02:36:31.518919Z",
     "shell.execute_reply.started": "2024-04-05T02:36:31.455156Z"
    },
    "papermill": {
     "duration": 0.06528,
     "end_time": "2024-03-28T05:22:45.05739",
     "exception": false,
     "start_time": "2024-03-28T05:22:44.99211",
     "status": "completed"
    },
    "tags": []
   },
   "outputs": [],
   "source": [
    "df_gender_train = pd.DataFrame()\n",
    "df_gender_train['image'], df_gender_train['gender'] = image_paths_train, gender_labels_train\n",
    "df_gender_train.head()"
   ]
  },
  {
   "cell_type": "code",
   "execution_count": null,
   "metadata": {
    "execution": {
     "iopub.execute_input": "2024-04-05T02:36:31.711064Z",
     "iopub.status.busy": "2024-04-05T02:36:31.71076Z",
     "iopub.status.idle": "2024-04-05T02:36:31.725883Z",
     "shell.execute_reply": "2024-04-05T02:36:31.725206Z",
     "shell.execute_reply.started": "2024-04-05T02:36:31.71104Z"
    }
   },
   "outputs": [],
   "source": [
    "df_gender_test = pd.DataFrame()\n",
    "df_gender_test['image'], df_gender_test['gender'] = image_paths_test, gender_labels_test\n",
    "df_gender_test.head()"
   ]
  },
  {
   "cell_type": "code",
   "execution_count": null,
   "metadata": {
    "execution": {
     "iopub.execute_input": "2024-04-05T02:36:31.971229Z",
     "iopub.status.busy": "2024-04-05T02:36:31.97069Z",
     "iopub.status.idle": "2024-04-05T02:36:31.982751Z",
     "shell.execute_reply": "2024-04-05T02:36:31.981852Z",
     "shell.execute_reply.started": "2024-04-05T02:36:31.971205Z"
    }
   },
   "outputs": [],
   "source": [
    "df_gender_test=df_gender_test.sample(frac=1)"
   ]
  },
  {
   "cell_type": "code",
   "execution_count": null,
   "metadata": {
    "execution": {
     "iopub.execute_input": "2024-04-05T02:36:32.265186Z",
     "iopub.status.busy": "2024-04-05T02:36:32.2649Z",
     "iopub.status.idle": "2024-04-05T02:36:32.294422Z",
     "shell.execute_reply": "2024-04-05T02:36:32.293775Z",
     "shell.execute_reply.started": "2024-04-05T02:36:32.265162Z"
    }
   },
   "outputs": [],
   "source": [
    "df_gender_train=df_gender_train.sample(frac=1)"
   ]
  },
  {
   "cell_type": "code",
   "execution_count": null,
   "metadata": {
    "execution": {
     "iopub.execute_input": "2024-04-05T02:36:32.530811Z",
     "iopub.status.busy": "2024-04-05T02:36:32.530544Z",
     "iopub.status.idle": "2024-04-05T02:36:32.548434Z",
     "shell.execute_reply": "2024-04-05T02:36:32.547486Z",
     "shell.execute_reply.started": "2024-04-05T02:36:32.530789Z"
    }
   },
   "outputs": [],
   "source": [
    "df_gender_train.head()"
   ]
  },
  {
   "cell_type": "markdown",
   "metadata": {},
   "source": [
    "\n",
    "# Gender Classification\n",
    "We will transform the gender column from <span style=\"color:red\">Classes</span>  into <span style=\"color:blue\">Binary</span> for better classification.\n",
    "\n",
    "## Data Validation\n",
    "\n",
    "### Results\n",
    "The results were successful. We managed to import our data and store it into our variables.\n",
    "riables.\n"
   ]
  },
  {
   "cell_type": "markdown",
   "metadata": {
    "papermill": {
     "duration": 0.015632,
     "end_time": "2024-03-28T05:22:45.089008",
     "exception": false,
     "start_time": "2024-03-28T05:22:45.073376",
     "status": "completed"
    },
    "tags": []
   },
   "source": [
    "\n"
   ]
  },
  {
   "cell_type": "code",
   "execution_count": null,
   "metadata": {
    "papermill": {
     "duration": 0.015758,
     "end_time": "2024-03-28T05:22:45.120626",
     "exception": false,
     "start_time": "2024-03-28T05:22:45.104868",
     "status": "completed"
    },
    "tags": []
   },
   "outputs": [],
   "source": []
  },
  {
   "cell_type": "code",
   "execution_count": null,
   "metadata": {
    "execution": {
     "iopub.execute_input": "2024-04-05T02:36:33.609167Z",
     "iopub.status.busy": "2024-04-05T02:36:33.608841Z",
     "iopub.status.idle": "2024-04-05T02:36:34.022469Z",
     "shell.execute_reply": "2024-04-05T02:36:34.021194Z",
     "shell.execute_reply.started": "2024-04-05T02:36:33.609141Z"
    },
    "papermill": {
     "duration": 0.406037,
     "end_time": "2024-03-28T05:22:45.542361",
     "exception": false,
     "start_time": "2024-03-28T05:22:45.136324",
     "status": "completed"
    },
    "tags": []
   },
   "outputs": [],
   "source": [
    "img = Image.open(df_gender_train['image'][0])\n",
    "plt.axis('off')\n",
    "plt.imshow(img);"
   ]
  },
  {
   "cell_type": "code",
   "execution_count": null,
   "metadata": {
    "execution": {
     "iopub.execute_input": "2024-04-05T02:37:05.14591Z",
     "iopub.status.busy": "2024-04-05T02:37:05.145562Z",
     "iopub.status.idle": "2024-04-05T02:37:05.158171Z",
     "shell.execute_reply": "2024-04-05T02:37:05.157344Z",
     "shell.execute_reply.started": "2024-04-05T02:37:05.145881Z"
    },
    "papermill": {
     "duration": 0.025924,
     "end_time": "2024-03-28T05:22:45.586521",
     "exception": false,
     "start_time": "2024-03-28T05:22:45.560597",
     "status": "completed"
    },
    "tags": []
   },
   "outputs": [],
   "source": [
    "img=cv2.imread(df_gender_train['image'][288])\n",
    "img.shape"
   ]
  },
  {
   "cell_type": "code",
   "execution_count": null,
   "metadata": {
    "execution": {
     "iopub.execute_input": "2024-04-05T02:37:05.492799Z",
     "iopub.status.busy": "2024-04-05T02:37:05.492526Z",
     "iopub.status.idle": "2024-04-05T02:37:05.497066Z",
     "shell.execute_reply": "2024-04-05T02:37:05.496206Z",
     "shell.execute_reply.started": "2024-04-05T02:37:05.492776Z"
    },
    "papermill": {
     "duration": 0.025208,
     "end_time": "2024-03-28T05:22:45.629595",
     "exception": false,
     "start_time": "2024-03-28T05:22:45.604387",
     "status": "completed"
    },
    "tags": []
   },
   "outputs": [],
   "source": [
    "def gender_bin(gender):\n",
    "\n",
    "    if gender=='Male':\n",
    "        return 0\n",
    "    else:\n",
    "        return 1"
   ]
  },
  {
   "cell_type": "code",
   "execution_count": null,
   "metadata": {
    "papermill": {
     "duration": 0.027583,
     "end_time": "2024-03-28T05:22:45.675104",
     "exception": false,
     "start_time": "2024-03-28T05:22:45.647521",
     "status": "completed"
    },
    "tags": []
   },
   "outputs": [],
   "source": []
  },
  {
   "cell_type": "code",
   "execution_count": null,
   "metadata": {
    "execution": {
     "iopub.execute_input": "2024-04-05T02:37:06.023126Z",
     "iopub.status.busy": "2024-04-05T02:37:06.02264Z",
     "iopub.status.idle": "2024-04-05T02:37:06.165684Z",
     "shell.execute_reply": "2024-04-05T02:37:06.164842Z",
     "shell.execute_reply.started": "2024-04-05T02:37:06.023084Z"
    },
    "papermill": {
     "duration": 0.03592,
     "end_time": "2024-03-28T05:22:45.729545",
     "exception": false,
     "start_time": "2024-03-28T05:22:45.693625",
     "status": "completed"
    },
    "tags": []
   },
   "outputs": [],
   "source": [
    "df_gender_train['gender_bin']=df_gender_train['gender'].apply(gender_bin)\n",
    "df_gender_test['gender_bin']=df_gender_test['gender'].apply(gender_bin)"
   ]
  },
  {
   "cell_type": "code",
   "execution_count": null,
   "metadata": {},
   "outputs": [],
   "source": []
  },
  {
   "cell_type": "code",
   "execution_count": null,
   "metadata": {
    "papermill": {
     "duration": 0.032285,
     "end_time": "2024-03-28T05:22:45.779728",
     "exception": false,
     "start_time": "2024-03-28T05:22:45.747443",
     "status": "completed"
    },
    "tags": []
   },
   "outputs": [],
   "source": []
  },
  {
   "cell_type": "code",
   "execution_count": null,
   "metadata": {
    "execution": {
     "iopub.execute_input": "2024-04-05T02:37:06.596796Z",
     "iopub.status.busy": "2024-04-05T02:37:06.596545Z",
     "iopub.status.idle": "2024-04-05T02:37:06.610119Z",
     "shell.execute_reply": "2024-04-05T02:37:06.609123Z",
     "shell.execute_reply.started": "2024-04-05T02:37:06.596775Z"
    }
   },
   "outputs": [],
   "source": [
    "df_gender_train"
   ]
  },
  {
   "cell_type": "code",
   "execution_count": null,
   "metadata": {
    "execution": {
     "iopub.execute_input": "2024-04-05T02:37:06.63625Z",
     "iopub.status.busy": "2024-04-05T02:37:06.635752Z",
     "iopub.status.idle": "2024-04-05T02:37:06.64584Z",
     "shell.execute_reply": "2024-04-05T02:37:06.644979Z",
     "shell.execute_reply.started": "2024-04-05T02:37:06.636225Z"
    }
   },
   "outputs": [],
   "source": [
    "df_gender_test"
   ]
  },
  {
   "cell_type": "markdown",
   "metadata": {
    "papermill": {
     "duration": 0.018404,
     "end_time": "2024-03-28T05:22:45.874577",
     "exception": false,
     "start_time": "2024-03-28T05:22:45.856173",
     "status": "completed"
    },
    "tags": []
   },
   "source": []
  },
  {
   "cell_type": "markdown",
   "metadata": {
    "papermill": {
     "duration": 0.018237,
     "end_time": "2024-03-28T05:22:45.961131",
     "exception": false,
     "start_time": "2024-03-28T05:22:45.942894",
     "status": "completed"
    },
    "tags": []
   },
   "source": [
    "# Data Visualization\n",
    "\n",
    "### File Information Extraction\n",
    "To kickstart our data visualization process, we'll import the filenames into a dataframe.Extracting the details encapsulated within the filenames, including <span style=\"color:blue\">filename</span> and <span style=\"color:green\">gender</span>.\n",
    "\n"
   ]
  },
  {
   "cell_type": "markdown",
   "metadata": {
    "papermill": {
     "duration": 0.018815,
     "end_time": "2024-03-28T05:22:46.03665",
     "exception": false,
     "start_time": "2024-03-28T05:22:46.017835",
     "status": "completed"
    },
    "tags": []
   },
   "source": [
    "\r\n"
   ]
  },
  {
   "cell_type": "code",
   "execution_count": null,
   "metadata": {
    "papermill": {
     "duration": 0.018569,
     "end_time": "2024-03-28T05:22:46.073892",
     "exception": false,
     "start_time": "2024-03-28T05:22:46.055323",
     "status": "completed"
    },
    "tags": []
   },
   "outputs": [],
   "source": []
  },
  {
   "cell_type": "markdown",
   "metadata": {
    "papermill": {
     "duration": 0.018358,
     "end_time": "2024-03-28T05:22:46.110564",
     "exception": false,
     "start_time": "2024-03-28T05:22:46.092206",
     "status": "completed"
    },
    "tags": []
   },
   "source": [
    "## Gender Distribution\n",
    "\n",
    "### Training Dataset\n",
    "- **Female**: <span style=\"color:blue\">106,623</span> instances\n",
    "- **Male**: <span style=\"color:red\">75,975</span> instances\n",
    "\n",
    "### Test Dataset\n",
    "- **Female**: <span style=\"color:blue\">11,542</span> instances\n",
    "- **Male**: <span style=\"color:red\">8,459</span> instances\n",
    "\n",
    "### Histogram\n",
    "The training dataset showcases a notable gender distribution, with a higher representation of females compared to males. This pattern is also reflected in the test dataset, albeit with smaller counts. The discrepancy in gender representation between training and test datasets may influence model performance and generalization, necessitating careful consideration during model development and evaluation.\n"
   ]
  },
  {
   "cell_type": "code",
   "execution_count": null,
   "metadata": {
    "execution": {
     "iopub.execute_input": "2024-04-05T02:37:06.806725Z",
     "iopub.status.busy": "2024-04-05T02:37:06.806488Z",
     "iopub.status.idle": "2024-04-05T02:37:06.839791Z",
     "shell.execute_reply": "2024-04-05T02:37:06.838799Z",
     "shell.execute_reply.started": "2024-04-05T02:37:06.806705Z"
    },
    "papermill": {
     "duration": 0.03119,
     "end_time": "2024-03-28T05:22:46.214312",
     "exception": false,
     "start_time": "2024-03-28T05:22:46.183122",
     "status": "completed"
    },
    "tags": []
   },
   "outputs": [],
   "source": [
    "df_gender_train['gender'].value_counts()"
   ]
  },
  {
   "cell_type": "code",
   "execution_count": null,
   "metadata": {
    "execution": {
     "iopub.execute_input": "2024-04-05T02:37:06.842601Z",
     "iopub.status.busy": "2024-04-05T02:37:06.841961Z",
     "iopub.status.idle": "2024-04-05T02:37:06.852154Z",
     "shell.execute_reply": "2024-04-05T02:37:06.851231Z",
     "shell.execute_reply.started": "2024-04-05T02:37:06.84257Z"
    }
   },
   "outputs": [],
   "source": [
    "df_gender_test['gender'].value_counts()"
   ]
  },
  {
   "cell_type": "code",
   "execution_count": null,
   "metadata": {
    "execution": {
     "iopub.execute_input": "2024-04-05T02:37:06.876812Z",
     "iopub.status.busy": "2024-04-05T02:37:06.876285Z",
     "iopub.status.idle": "2024-04-05T02:37:07.845726Z",
     "shell.execute_reply": "2024-04-05T02:37:07.844827Z",
     "shell.execute_reply.started": "2024-04-05T02:37:06.876789Z"
    },
    "papermill": {
     "duration": 0.453256,
     "end_time": "2024-03-28T05:22:46.92561",
     "exception": false,
     "start_time": "2024-03-28T05:22:46.472354",
     "status": "completed"
    },
    "tags": []
   },
   "outputs": [],
   "source": [
    "import warnings\n",
    "warnings.filterwarnings(\"ignore\")\n",
    "\n",
    "sns.histplot(x=df_gender_train['gender'], hue='gender', data=df_gender_train)\n",
    "plt.title('Gender Distribution Histogram in Training Dataset')\n",
    "plt.xlabel('Gender Categories')\n",
    "plt.show(),"
   ]
  },
  {
   "cell_type": "code",
   "execution_count": null,
   "metadata": {
    "execution": {
     "iopub.execute_input": "2024-04-05T02:37:07.847548Z",
     "iopub.status.busy": "2024-04-05T02:37:07.847271Z",
     "iopub.status.idle": "2024-04-05T02:37:08.188792Z",
     "shell.execute_reply": "2024-04-05T02:37:08.187966Z",
     "shell.execute_reply.started": "2024-04-05T02:37:07.847524Z"
    },
    "papermill": {
     "duration": 0.405314,
     "end_time": "2024-03-28T05:22:47.351027",
     "exception": false,
     "start_time": "2024-03-28T05:22:46.945713",
     "status": "completed"
    },
    "tags": []
   },
   "outputs": [],
   "source": [
    "\n",
    "\n",
    "sns.histplot(x=df_gender_test['gender'], hue='gender', data=df_gender_test)\n",
    "plt.title('Gender Distribution Histogram in Testing Dataset')\n",
    "plt.xlabel('Gender Categories')\n",
    "plt.show(),"
   ]
  },
  {
   "cell_type": "markdown",
   "metadata": {
    "papermill": {
     "duration": 0.020348,
     "end_time": "2024-03-28T05:22:47.39217",
     "exception": false,
     "start_time": "2024-03-28T05:22:47.371822",
     "status": "completed"
    },
    "tags": []
   },
   "source": [
    "## Data Preparation and Dataframe Creation\n",
    "\n",
    "### Loading and Preprocessing\n",
    "- **train_image_list**: <span style=\"color:blue\">Training</span> image file paths.\n",
    "- **train_labels_list**: <span style=\"color:blue\">Training</span> gender labels.\n",
    "- **test_image_list**: <span style=\"color:orange\">Test</span> image file paths.\n",
    "- **test_labels_list**: <span style=\"color:orange\">Test</span> gender labels.\n",
    "- **train_image_list_tf**: <span style=\"color:blue\">Training</span> image file paths (TensorFlow constant).\n",
    "- **train_labels_list_tf**: <span style=\"color:blue\">Training</span> gender labels (TensorFlow constant).\n",
    "- **test_image_list_tf**: <span style=\"color:orange\">Test</span> image file paths (TensorFlow constant).\n",
    "- **test_labels_list_tf**: <span style=\"color:orange\">Test</span> gender labels (TensorFlow constant).\n",
    "- **num_classes**: <span style=\"color:green\">Number</span> of gender categories (2).\n",
    "\n",
    "### Parsing Function\n",
    "- **_parse_function(filename, label)**: Parses images and labels.\n",
    "    - Reads image files.\n",
    "    - Decodes JPEG images.\n",
    "    - Converts labels to one-hot encoded vectors.\n"
   ]
  },
  {
   "cell_type": "code",
   "execution_count": null,
   "metadata": {
    "execution": {
     "iopub.execute_input": "2024-04-05T02:37:08.190302Z",
     "iopub.status.busy": "2024-04-05T02:37:08.189954Z",
     "iopub.status.idle": "2024-04-05T02:37:08.267274Z",
     "shell.execute_reply": "2024-04-05T02:37:08.266314Z",
     "shell.execute_reply.started": "2024-04-05T02:37:08.190266Z"
    },
    "papermill": {
     "duration": 0.032139,
     "end_time": "2024-03-28T05:22:47.444633",
     "exception": false,
     "start_time": "2024-03-28T05:22:47.412494",
     "status": "completed"
    },
    "tags": []
   },
   "outputs": [],
   "source": [
    "train_image_list = list(df_gender_train['image'])\n",
    "train_labels_list = list(df_gender_train['gender_bin'])\n",
    "\n",
    "test_image_list = list(df_gender_test['image'])\n",
    "test_labels_list = list(df_gender_test['gender_bin'])"
   ]
  },
  {
   "cell_type": "code",
   "execution_count": null,
   "metadata": {
    "execution": {
     "iopub.execute_input": "2024-04-05T02:37:08.270313Z",
     "iopub.status.busy": "2024-04-05T02:37:08.26954Z",
     "iopub.status.idle": "2024-04-05T02:37:09.31099Z",
     "shell.execute_reply": "2024-04-05T02:37:09.3101Z",
     "shell.execute_reply.started": "2024-04-05T02:37:08.270279Z"
    },
    "papermill": {
     "duration": 139.162034,
     "end_time": "2024-03-28T05:25:06.627895",
     "exception": false,
     "start_time": "2024-03-28T05:22:47.465861",
     "status": "completed"
    },
    "tags": []
   },
   "outputs": [],
   "source": [
    "train_image_list_tf = tf.constant(train_image_list)\n",
    "train_labels_list_tf = tf.constant(train_labels_list)\n",
    "\n",
    "test_image_list_tf = tf.constant(test_image_list)\n",
    "test_labels_list_tf = tf.constant(test_labels_list)"
   ]
  },
  {
   "cell_type": "code",
   "execution_count": null,
   "metadata": {
    "execution": {
     "iopub.execute_input": "2024-04-05T02:37:09.312364Z",
     "iopub.status.busy": "2024-04-05T02:37:09.312094Z",
     "iopub.status.idle": "2024-04-05T02:37:09.325894Z",
     "shell.execute_reply": "2024-04-05T02:37:09.325039Z",
     "shell.execute_reply.started": "2024-04-05T02:37:09.312341Z"
    },
    "papermill": {
     "duration": 0.028501,
     "end_time": "2024-03-28T05:25:06.678171",
     "exception": false,
     "start_time": "2024-03-28T05:25:06.64967",
     "status": "completed"
    },
    "tags": []
   },
   "outputs": [],
   "source": [
    "num_classes = 2\n",
    "def _parse_function(filename, label):\n",
    "    image_string = tf.io.read_file(filename)\n",
    "    image_decoded = tf.io.decode_jpeg(image_string, channels=3)  \n",
    "    \n",
    "    image_resized = tf.image.resize(image_decoded, [218, 178])\n",
    "    \n",
    "    image_normalized = image_resized / 255.0\n",
    "\n",
    "    \n",
    "    label = tf.one_hot(label, num_classes)\n",
    "\n",
    "    return image_normalized, label"
   ]
  },
  {
   "cell_type": "code",
   "execution_count": null,
   "metadata": {
    "execution": {
     "iopub.execute_input": "2024-04-05T02:37:09.327865Z",
     "iopub.status.busy": "2024-04-05T02:37:09.327601Z",
     "iopub.status.idle": "2024-04-05T02:37:09.454998Z",
     "shell.execute_reply": "2024-04-05T02:37:09.454139Z",
     "shell.execute_reply.started": "2024-04-05T02:37:09.327842Z"
    }
   },
   "outputs": [],
   "source": [
    "\n",
    "train_image_dataset = tf.data.Dataset.from_tensor_slices((train_image_list_tf, train_labels_list_tf))\n",
    "train_image_dataset = train_image_dataset.map(_parse_function)\n",
    "train_image_dataset = train_image_dataset.batch(128) \n",
    "\n",
    "\n",
    "test_image_dataset = tf.data.Dataset.from_tensor_slices((test_image_list_tf, test_labels_list_tf))\n",
    "test_image_dataset = test_image_dataset.map(_parse_function)\n",
    "test_image_dataset = test_image_dataset.batch(128) "
   ]
  },
  {
   "cell_type": "code",
   "execution_count": null,
   "metadata": {
    "papermill": {
     "duration": 0.027527,
     "end_time": "2024-03-28T05:25:06.83702",
     "exception": false,
     "start_time": "2024-03-28T05:25:06.809493",
     "status": "completed"
    },
    "tags": []
   },
   "outputs": [],
   "source": []
  },
  {
   "cell_type": "code",
   "execution_count": null,
   "metadata": {
    "execution": {
     "iopub.execute_input": "2024-04-05T02:37:09.70896Z",
     "iopub.status.busy": "2024-04-05T02:37:09.708689Z",
     "iopub.status.idle": "2024-04-05T02:37:09.715141Z",
     "shell.execute_reply": "2024-04-05T02:37:09.714297Z",
     "shell.execute_reply.started": "2024-04-05T02:37:09.708936Z"
    },
    "papermill": {
     "duration": 0.028914,
     "end_time": "2024-03-28T05:25:06.886972",
     "exception": false,
     "start_time": "2024-03-28T05:25:06.858058",
     "status": "completed"
    },
    "tags": []
   },
   "outputs": [],
   "source": [
    "train_image_dataset"
   ]
  },
  {
   "cell_type": "markdown",
   "metadata": {
    "papermill": {
     "duration": 0.024109,
     "end_time": "2024-03-28T05:25:10.012525",
     "exception": false,
     "start_time": "2024-03-28T05:25:09.988416",
     "status": "completed"
    },
    "tags": []
   },
   "source": [
    "# Gender Classification Model\n",
    "\n",
    "## Model Architecture\n",
    "\n",
    "The gender classification model is a Convolutional Neural Network (CNN) with several convolutional layers followed by max-pooling layers for feature extraction. Batch normalization is applied after each convolutional layer for normalization and faster training. Dropout regularization is also used to prevent overfitting.\n",
    "\n",
    "After the convolutional layers, a Global Average Pooling layer is added to reduce the spatial dimensions of the feature maps. Two dense layers with ReLU activation functions are then applied for further feature processing.\n",
    "\n",
    "The output layer employs a <span style=\"color:orange\">sigmoid activation function</span> to predict the probability distribution across the gender categories.\n",
    "\n",
    "Model Summary:\n",
    "- Input Shape: (Image Height, Image Width, 3)\n",
    "- Convolutional Layers: <span style=\"color:blue\">64, 128, 256, and 512 filters</span> with a kernel size of (3, 3)\n",
    "- Max Pooling Layers: Applied after each convolutional layer\n",
    "- Dropout Layer: Applied with a dropout rate of <span style=\"color:green\">0.3</span> after the last convolutional layer\n",
    "- Global Average Pooling Layer\n",
    "- Dense Layers: <span style=\"color:blue\">256 and 128 units</span> with ReLU activation function\n",
    "- Batch Normalization: Applied after dense layers\n",
    "- Output Layer: Dense layer with <span style=\"color:blue\">7 units</span> and softmax activation function for gender classification\n",
    "\n",
    "The model architecture effectively extracts features from input images and classifies them into different gender categories.\n",
    "\n",
    "\n",
    "## Compilation\n",
    "The model is compiled using the <span style=\"color:blue\">Adam</span> with a learning rate of <span style=\"color:green\">0.001</span>. <span style=\"color:orange\">Categorical cross-entropy loss</span> is utilized as the loss function, which is suitable for multi-class classification tasks.\n",
    "\n",
    "## Model Training\n",
    "Training is conducted using a batch size of <span style=\"color:green\">128</span> over <span style=\"color:green\">5</span> epochs. <span style=\"color:orange\">Early stopping</span> with a patience of <span style=\"color:green\">5</span> is employed to prevent overfitting, and the best model weights are restored. The training and validation data are evaluated for accuracy metrics.\n",
    "\n",
    "## Results\n",
    "\n",
    "The training process for the gender classification model spanned 5 epochs, revealing notable observations:\n",
    "\n",
    "- **Initial Epoch:**\n",
    "  - The model commenced with a promising accuracy of <span style=\"color:orange\">93.52%</span> and a relatively low loss of <span style=\"color:orange\">0.1545</span>.\n",
    "\n",
    "- **Progressive Improvement:**\n",
    "  - Subsequent epochs showcased consistent enhancements in both accuracy and loss metrics.\n",
    "\n",
    "- **Final Epoch:**\n",
    "  - The model achieved a commendable accuracy of <span style=\"color:green\">96.45%</span> with a diminished loss of <span style=\"color:green\">0.0965</span>.\n",
    "\n",
    "- **Validation Performance:**\n",
    "  - The validation metrics also portrayed favorable results, with an accuracy of <span style=\"color:green\">84.96%</span> and a loss of <span style=\"color:green\">0.6362</span>.\n",
    "\n",
    "These findings suggest that the model effectively learned from the training data, demonstrating improved accuracy and reduced loss over the training epochs. Furthermore, the model exhibited reasonable generalization capabilities, as evidenced by its performance on the validation dataset.\n",
    "\n"
   ]
  },
  {
   "cell_type": "code",
   "execution_count": null,
   "metadata": {
    "papermill": {
     "duration": 0.023601,
     "end_time": "2024-03-28T05:25:10.060136",
     "exception": false,
     "start_time": "2024-03-28T05:25:10.036535",
     "status": "completed"
    },
    "tags": []
   },
   "outputs": [],
   "source": []
  },
  {
   "cell_type": "code",
   "execution_count": null,
   "metadata": {
    "_kg_hide-input": false,
    "_kg_hide-output": true,
    "execution": {
     "iopub.execute_input": "2024-04-05T02:37:12.780502Z",
     "iopub.status.busy": "2024-04-05T02:37:12.780184Z",
     "iopub.status.idle": "2024-04-05T02:37:13.091089Z",
     "shell.execute_reply": "2024-04-05T02:37:13.090212Z",
     "shell.execute_reply.started": "2024-04-05T02:37:12.780478Z"
    },
    "papermill": {
     "duration": 1.831357,
     "end_time": "2024-03-28T05:25:11.915068",
     "exception": false,
     "start_time": "2024-03-28T05:25:10.083711",
     "status": "completed"
    },
    "tags": []
   },
   "outputs": [],
   "source": [
    "\n",
    "\n",
    "\n",
    "model = tf.keras.models.Sequential()\n",
    "\n",
    "\n",
    "model.add(layers.Conv2D(64, (3, 3), activation='relu', input_shape=(218, 178,3)))\n",
    "model.add(layers.BatchNormalization())\n",
    "model.add(layers.MaxPooling2D((2, 2)))\n",
    "\n",
    "model.add(layers.Conv2D(128, (3, 3), activation='relu'))\n",
    "model.add(layers.BatchNormalization())\n",
    "model.add(layers.MaxPooling2D((2, 2)))\n",
    "\n",
    "model.add(layers.Conv2D(256, (3, 3), activation='relu'))\n",
    "model.add(layers.BatchNormalization())\n",
    "model.add(layers.MaxPooling2D((2, 2)))\n",
    "\n",
    "model.add(layers.Conv2D(512, (3, 3), activation='relu'))\n",
    "model.add(layers.BatchNormalization())\n",
    "model.add(layers.MaxPooling2D((2, 2)))\n",
    "model.add(layers.Dropout(0.3))\n",
    "\n",
    "\n",
    "model.add(layers.GlobalAveragePooling2D())\n",
    "\n",
    "model.add(layers.Dense(256, activation='relu'))\n",
    "model.add(layers.Dense(128, activation='relu'))\n",
    "model.add(layers.BatchNormalization())\n",
    "\n",
    "\n",
    "model.add(layers.Dense(2, activation='sigmoid'))  \n",
    "\n",
    "\n",
    "model.summary()"
   ]
  },
  {
   "cell_type": "code",
   "execution_count": null,
   "metadata": {
    "papermill": {
     "duration": 0.029877,
     "end_time": "2024-03-28T05:25:11.982919",
     "exception": false,
     "start_time": "2024-03-28T05:25:11.953042",
     "status": "completed"
    },
    "tags": []
   },
   "outputs": [],
   "source": []
  },
  {
   "cell_type": "code",
   "execution_count": null,
   "metadata": {
    "execution": {
     "iopub.execute_input": "2024-04-05T02:37:13.945112Z",
     "iopub.status.busy": "2024-04-05T02:37:13.944787Z",
     "iopub.status.idle": "2024-04-05T02:37:13.958367Z",
     "shell.execute_reply": "2024-04-05T02:37:13.9575Z",
     "shell.execute_reply.started": "2024-04-05T02:37:13.945086Z"
    },
    "papermill": {
     "duration": 0.042471,
     "end_time": "2024-03-28T05:25:12.052408",
     "exception": false,
     "start_time": "2024-03-28T05:25:12.009937",
     "status": "completed"
    },
    "tags": []
   },
   "outputs": [],
   "source": [
    "\n",
    "\n",
    "early_stopping_callback = EarlyStopping(monitor = 'val_loss', patience = 5, mode = 'min', restore_best_weights = True)\n",
    "\n",
    "\n",
    "callbacks_list=[early_stopping_callback]\n",
    "\n",
    "model.compile(optimizer=\"adam\", loss=['binary_crossentropy'], metrics=['binary_accuracy'])\n",
    "\n",
    "\n",
    "                "
   ]
  },
  {
   "cell_type": "code",
   "execution_count": null,
   "metadata": {
    "papermill": {
     "duration": 0.025143,
     "end_time": "2024-03-28T05:25:12.102765",
     "exception": false,
     "start_time": "2024-03-28T05:25:12.077622",
     "status": "completed"
    },
    "tags": []
   },
   "outputs": [],
   "source": []
  },
  {
   "cell_type": "code",
   "execution_count": null,
   "metadata": {
    "execution": {
     "iopub.execute_input": "2024-04-05T02:37:14.60021Z",
     "iopub.status.busy": "2024-04-05T02:37:14.599919Z",
     "iopub.status.idle": "2024-04-05T02:38:32.096098Z",
     "shell.execute_reply": "2024-04-05T02:38:32.094689Z",
     "shell.execute_reply.started": "2024-04-05T02:37:14.600188Z"
    },
    "papermill": {
     "duration": 528.119591,
     "end_time": "2024-03-28T05:34:00.247685",
     "exception": false,
     "start_time": "2024-03-28T05:25:12.128094",
     "status": "completed"
    },
    "tags": []
   },
   "outputs": [],
   "source": [
    "\n",
    "history=model.fit(\n",
    "    train_image_dataset,\n",
    "    batch_size=128,    \n",
    "    epochs=5,\n",
    "    callbacks=callbacks_list,\n",
    "    validation_data=test_image_dataset,\n",
    "    verbose=2,\n",
    "    shuffle=False\n",
    "\n",
    "\n",
    ")\n"
   ]
  },
  {
   "cell_type": "markdown",
   "metadata": {
    "papermill": {
     "duration": 0.447162,
     "end_time": "2024-03-28T05:34:01.17679",
     "exception": false,
     "start_time": "2024-03-28T05:34:00.729628",
     "status": "completed"
    },
    "tags": []
   },
   "source": [
    "# Results Visualization"
   ]
  },
  {
   "cell_type": "code",
   "execution_count": null,
   "metadata": {
    "execution": {
     "iopub.execute_input": "2024-04-05T00:40:07.064869Z",
     "iopub.status.busy": "2024-04-05T00:40:07.06395Z",
     "iopub.status.idle": "2024-04-05T00:40:07.72261Z",
     "shell.execute_reply": "2024-04-05T00:40:07.721543Z",
     "shell.execute_reply.started": "2024-04-05T00:40:07.064835Z"
    },
    "papermill": {
     "duration": 0.432526,
     "end_time": "2024-03-28T05:34:02.049956",
     "exception": false,
     "start_time": "2024-03-28T05:34:01.61743",
     "status": "completed"
    },
    "tags": []
   },
   "outputs": [],
   "source": []
  },
  {
   "cell_type": "code",
   "execution_count": null,
   "metadata": {
    "execution": {
     "iopub.execute_input": "2024-04-05T02:17:48.338764Z",
     "iopub.status.busy": "2024-04-05T02:17:48.337987Z",
     "iopub.status.idle": "2024-04-05T02:17:55.808763Z",
     "shell.execute_reply": "2024-04-05T02:17:55.807746Z",
     "shell.execute_reply.started": "2024-04-05T02:17:48.33873Z"
    },
    "papermill": {
     "duration": 17.660251,
     "end_time": "2024-03-28T05:34:20.188487",
     "exception": false,
     "start_time": "2024-03-28T05:34:02.528236",
     "status": "completed"
    },
    "tags": []
   },
   "outputs": [],
   "source": [
    "y_predict = model.predict(test_image_dataset)\n"
   ]
  },
  {
   "cell_type": "code",
   "execution_count": null,
   "metadata": {
    "execution": {
     "iopub.execute_input": "2024-04-05T02:17:55.811162Z",
     "iopub.status.busy": "2024-04-05T02:17:55.810777Z",
     "iopub.status.idle": "2024-04-05T02:18:03.061317Z",
     "shell.execute_reply": "2024-04-05T02:18:03.060393Z",
     "shell.execute_reply.started": "2024-04-05T02:17:55.811128Z"
    },
    "papermill": {
     "duration": 0.442211,
     "end_time": "2024-03-28T05:34:21.062067",
     "exception": false,
     "start_time": "2024-03-28T05:34:20.619856",
     "status": "completed"
    },
    "tags": []
   },
   "outputs": [],
   "source": [
    "model.evaluate(test_image_dataset)"
   ]
  },
  {
   "cell_type": "code",
   "execution_count": null,
   "metadata": {
    "execution": {
     "iopub.execute_input": "2024-04-05T02:18:03.063217Z",
     "iopub.status.busy": "2024-04-05T02:18:03.062896Z",
     "iopub.status.idle": "2024-04-05T02:18:03.068274Z",
     "shell.execute_reply": "2024-04-05T02:18:03.067241Z",
     "shell.execute_reply.started": "2024-04-05T02:18:03.063192Z"
    },
    "papermill": {
     "duration": 0.488766,
     "end_time": "2024-03-28T05:34:21.984733",
     "exception": false,
     "start_time": "2024-03-28T05:34:21.495967",
     "status": "completed"
    },
    "tags": []
   },
   "outputs": [],
   "source": [
    "def argmax_fun(array):\n",
    "    array_1=[]\n",
    "    for i in array:\n",
    "        if i == array.max():\n",
    "            i=1\n",
    "        else:\n",
    "            i=0\n",
    "        array_1.append(i)\n",
    "    return array_1"
   ]
  },
  {
   "cell_type": "code",
   "execution_count": null,
   "metadata": {
    "execution": {
     "iopub.execute_input": "2024-04-05T02:18:03.069778Z",
     "iopub.status.busy": "2024-04-05T02:18:03.069504Z",
     "iopub.status.idle": "2024-04-05T02:18:03.268933Z",
     "shell.execute_reply": "2024-04-05T02:18:03.268119Z",
     "shell.execute_reply.started": "2024-04-05T02:18:03.069755Z"
    },
    "papermill": {
     "duration": 0.507885,
     "end_time": "2024-03-28T05:34:22.929638",
     "exception": false,
     "start_time": "2024-03-28T05:34:22.421753",
     "status": "completed"
    },
    "tags": []
   },
   "outputs": [],
   "source": [
    "y_predict_argmax= y_predict.copy()\n",
    "for i in range(len(y_predict)):\n",
    "    y_predict_argmax[i]= argmax_fun(y_predict[i])"
   ]
  },
  {
   "cell_type": "code",
   "execution_count": null,
   "metadata": {
    "execution": {
     "iopub.execute_input": "2024-04-05T02:18:05.269955Z",
     "iopub.status.busy": "2024-04-05T02:18:05.269578Z",
     "iopub.status.idle": "2024-04-05T02:18:05.2774Z",
     "shell.execute_reply": "2024-04-05T02:18:05.276355Z",
     "shell.execute_reply.started": "2024-04-05T02:18:05.269927Z"
    },
    "papermill": {
     "duration": 0.44399,
     "end_time": "2024-03-28T05:34:23.81061",
     "exception": false,
     "start_time": "2024-03-28T05:34:23.36662",
     "status": "completed"
    },
    "tags": []
   },
   "outputs": [],
   "source": [
    "y_predict_argmax"
   ]
  },
  {
   "cell_type": "code",
   "execution_count": null,
   "metadata": {},
   "outputs": [],
   "source": []
  },
  {
   "cell_type": "code",
   "execution_count": null,
   "metadata": {
    "execution": {
     "iopub.execute_input": "2024-04-05T02:18:07.57375Z",
     "iopub.status.busy": "2024-04-05T02:18:07.572822Z",
     "iopub.status.idle": "2024-04-05T02:18:07.603175Z",
     "shell.execute_reply": "2024-04-05T02:18:07.602297Z",
     "shell.execute_reply.started": "2024-04-05T02:18:07.573712Z"
    },
    "papermill": {
     "duration": 0.443125,
     "end_time": "2024-03-28T05:34:25.621992",
     "exception": false,
     "start_time": "2024-03-28T05:34:25.178867",
     "status": "completed"
    },
    "tags": []
   },
   "outputs": [],
   "source": [
    "y_pred_list=[]\n",
    "for i in y_predict_argmax:\n",
    "    y_pred_list.append(i.argmax())"
   ]
  },
  {
   "cell_type": "raw",
   "metadata": {},
   "source": [
    "y_pred_list"
   ]
  },
  {
   "cell_type": "markdown",
   "metadata": {},
   "source": [
    "## Interpretation of Confusion Matrix\n",
    "\n",
    "The confusion matrix provides insights into the model's performance in classifying gender categories. Here's an interpretation of the results:\n",
    "\n",
    "- **<span style=\"color:green\">High Correct Classifications (True Positives)</span>**: The diagonal elements of the matrix indicate the number of instances correctly classified for each gender category. For instance, there were <span style=\"color:green\">8,267</span> instances correctly classified as belonging to the male category.\n",
    "\n",
    "- **<span style=\"color:red\">Misclassifications (False Positives)</span>**: Off-diagonal elements represent instances that were incorrectly classified as belonging to a different gender category. For example, there were <span style=\"color:red\">192</span> instances classified as male where they are females.\n",
    "\n",
    "\n"
   ]
  },
  {
   "cell_type": "code",
   "execution_count": null,
   "metadata": {
    "execution": {
     "iopub.execute_input": "2024-04-05T02:18:27.138616Z",
     "iopub.status.busy": "2024-04-05T02:18:27.137702Z",
     "iopub.status.idle": "2024-04-05T02:18:27.383539Z",
     "shell.execute_reply": "2024-04-05T02:18:27.382545Z",
     "shell.execute_reply.started": "2024-04-05T02:18:27.13858Z"
    },
    "papermill": {
     "duration": 0.801199,
     "end_time": "2024-03-28T05:34:26.85671",
     "exception": false,
     "start_time": "2024-03-28T05:34:26.055511",
     "status": "completed"
    },
    "tags": []
   },
   "outputs": [],
   "source": [
    "cm_age = tf.math.confusion_matrix(labels=test_labels_list, predictions=y_pred_list, num_classes=2)\n",
    "conf_matrix_result = cm_age.numpy()\n",
    "cm_age= sns.heatmap(cm_age, annot=True, fmt=\".1f\")\n",
    "tick_positions = np.arange(2) + 0.5\n",
    "cm_age.set_yticks(tick_positions, gender_classes)\n",
    "\n",
    "cm_age.set_xticks(tick_positions, gender_classes)\n",
    "\n"
   ]
  },
  {
   "cell_type": "code",
   "execution_count": null,
   "metadata": {
    "execution": {
     "iopub.execute_input": "2024-04-05T02:18:31.551507Z",
     "iopub.status.busy": "2024-04-05T02:18:31.551094Z",
     "iopub.status.idle": "2024-04-05T02:18:31.558187Z",
     "shell.execute_reply": "2024-04-05T02:18:31.557248Z",
     "shell.execute_reply.started": "2024-04-05T02:18:31.551475Z"
    },
    "papermill": {
     "duration": 0.443591,
     "end_time": "2024-03-28T05:34:28.665718",
     "exception": false,
     "start_time": "2024-03-28T05:34:28.222127",
     "status": "completed"
    },
    "tags": []
   },
   "outputs": [],
   "source": [
    "conf_matrix_result\n"
   ]
  },
  {
   "cell_type": "markdown",
   "metadata": {
    "papermill": {
     "duration": 0.442554,
     "end_time": "2024-03-28T05:34:29.549139",
     "exception": false,
     "start_time": "2024-03-28T05:34:29.106585",
     "status": "completed"
    },
    "tags": []
   },
   "source": [
    "### Interpretation of Training and Validation Metrics\n",
    "\n",
    "#### Loss Plot:\n",
    "- The training loss initially starts at a relatively low value of <span style=\"color:green\">0.1545</span> and gradually decreases over epochs.\n",
    "- Validation loss also decreases over epochs, starting from <span style=\"color:green\">0.1244</span> and converging to a slightly higher value of <span style=\"color:green\">0.2403</span>.\n",
    "- Both training and validation loss converge to stable values, indicating effective learning and generalization.\n",
    "\n",
    "#### Accuracy Plot:\n",
    "- The training accuracy starts at <span style=\"color:orange\">93.52%</span> and steadily increases over epochs.\n",
    "- Validation accuracy starts at <span style=\"color:orange\">95.41%</span> and fluctuates slightly but remains relatively high, reaching <span style=\"color:green\">91.69%</span>.\n",
    "- Both training and validation accuracies converge to stable values, demonstrating the model's ability to accurately classify gender categories.\n",
    "\n",
    "These trends suggest that the model effectively learns from the training data and generalizes well to unseen validation data, resulting in improved accuracy and reduced loss over the training epochs.\n"
   ]
  },
  {
   "cell_type": "code",
   "execution_count": null,
   "metadata": {
    "execution": {
     "iopub.execute_input": "2024-04-05T02:18:35.588705Z",
     "iopub.status.busy": "2024-04-05T02:18:35.587998Z",
     "iopub.status.idle": "2024-04-05T02:18:35.872235Z",
     "shell.execute_reply": "2024-04-05T02:18:35.871282Z",
     "shell.execute_reply.started": "2024-04-05T02:18:35.588673Z"
    },
    "papermill": {
     "duration": 0.765879,
     "end_time": "2024-03-28T05:34:30.807746",
     "exception": false,
     "start_time": "2024-03-28T05:34:30.041867",
     "status": "completed"
    },
    "tags": []
   },
   "outputs": [],
   "source": [
    "epochs = range(len(history.history[\"loss\"]))\n",
    "plt.plot(epochs, history.history[\"loss\"], 'blue', label = \"loss\")\n",
    "plt.plot(epochs, history.history[\"val_loss\"], 'red', label =\"val_loss\")\n",
    "plt.title(\"Total Loss and Total Validation Loss\")\n",
    "plt.legend()"
   ]
  },
  {
   "cell_type": "code",
   "execution_count": null,
   "metadata": {
    "execution": {
     "iopub.execute_input": "2024-04-05T02:20:12.132477Z",
     "iopub.status.busy": "2024-04-05T02:20:12.132058Z",
     "iopub.status.idle": "2024-04-05T02:20:12.532236Z",
     "shell.execute_reply": "2024-04-05T02:20:12.531296Z",
     "shell.execute_reply.started": "2024-04-05T02:20:12.132443Z"
    },
    "papermill": {
     "duration": 0.769103,
     "end_time": "2024-03-28T05:34:32.023737",
     "exception": false,
     "start_time": "2024-03-28T05:34:31.254634",
     "status": "completed"
    },
    "tags": []
   },
   "outputs": [],
   "source": [
    "epochs = range(len(history.history[\"loss\"]))\n",
    "plt.plot(epochs, history.history[\"binary_accuracy\"], 'blue', label = \"accuracy\")\n",
    "plt.plot(epochs, history.history[\"val_binary_accuracy\"], 'red', label =\"val_accuracy\")\n",
    "plt.title(\"Total Accuracy and Total Validation Accuracy\")\n",
    "plt.legend()"
   ]
  },
  {
   "cell_type": "code",
   "execution_count": null,
   "metadata": {
    "papermill": {
     "duration": 0.456451,
     "end_time": "2024-03-28T05:34:32.963722",
     "exception": false,
     "start_time": "2024-03-28T05:34:32.507271",
     "status": "completed"
    },
    "tags": []
   },
   "outputs": [],
   "source": []
  },
  {
   "cell_type": "code",
   "execution_count": null,
   "metadata": {
    "execution": {
     "iopub.status.busy": "2024-04-01T17:23:55.320446Z",
     "iopub.status.idle": "2024-04-01T17:23:55.32087Z",
     "shell.execute_reply": "2024-04-01T17:23:55.320698Z",
     "shell.execute_reply.started": "2024-04-01T17:23:55.320681Z"
    },
    "papermill": {
     "duration": 0.711489,
     "end_time": "2024-03-28T05:34:34.142525",
     "exception": false,
     "start_time": "2024-03-28T05:34:33.431036",
     "status": "completed"
    },
    "tags": []
   },
   "outputs": [],
   "source": [
    "model.save('gender_model.h5')\n"
   ]
  },
  {
   "cell_type": "code",
   "execution_count": null,
   "metadata": {
    "papermill": {
     "duration": 0.445613,
     "end_time": "2024-03-28T05:34:35.022104",
     "exception": false,
     "start_time": "2024-03-28T05:34:34.576491",
     "status": "completed"
    },
    "tags": []
   },
   "outputs": [],
   "source": []
  },
  {
   "cell_type": "code",
   "execution_count": null,
   "metadata": {
    "papermill": {
     "duration": 0.434138,
     "end_time": "2024-03-28T05:34:35.947004",
     "exception": false,
     "start_time": "2024-03-28T05:34:35.512866",
     "status": "completed"
    },
    "tags": []
   },
   "outputs": [],
   "source": []
  }
 ],
 "metadata": {
  "kaggle": {
   "accelerator": "none",
   "dataSources": [
    {
     "datasetId": 669126,
     "sourceId": 1178231,
     "sourceType": "datasetVersion"
    }
   ],
   "dockerImageVersionId": 30674,
   "isGpuEnabled": false,
   "isInternetEnabled": true,
   "language": "python",
   "sourceType": "notebook"
  },
  "kernelspec": {
   "display_name": "Python 3 (ipykernel)",
   "language": "python",
   "name": "python3"
  },
  "language_info": {
   "codemirror_mode": {
    "name": "ipython",
    "version": 3
   },
   "file_extension": ".py",
   "mimetype": "text/x-python",
   "name": "python",
   "nbconvert_exporter": "python",
   "pygments_lexer": "ipython3",
   "version": "3.12.2"
  },
  "papermill": {
   "default_parameters": {},
   "duration": 733.840547,
   "end_time": "2024-03-28T05:34:39.942827",
   "environment_variables": {},
   "exception": null,
   "input_path": "__notebook__.ipynb",
   "output_path": "__notebook__.ipynb",
   "parameters": {},
   "start_time": "2024-03-28T05:22:26.10228",
   "version": "2.5.0"
  },
  "widgets": {
   "application/vnd.jupyter.widget-state+json": {
    "state": {
     "17015746d9f1484d82614a7d3c734349": {
      "model_module": "@jupyter-widgets/base",
      "model_module_version": "1.2.0",
      "model_name": "LayoutModel",
      "state": {
       "_model_module": "@jupyter-widgets/base",
       "_model_module_version": "1.2.0",
       "_model_name": "LayoutModel",
       "_view_count": null,
       "_view_module": "@jupyter-widgets/base",
       "_view_module_version": "1.2.0",
       "_view_name": "LayoutView",
       "align_content": null,
       "align_items": null,
       "align_self": null,
       "border": null,
       "bottom": null,
       "display": null,
       "flex": null,
       "flex_flow": null,
       "grid_area": null,
       "grid_auto_columns": null,
       "grid_auto_flow": null,
       "grid_auto_rows": null,
       "grid_column": null,
       "grid_gap": null,
       "grid_row": null,
       "grid_template_areas": null,
       "grid_template_columns": null,
       "grid_template_rows": null,
       "height": null,
       "justify_content": null,
       "justify_items": null,
       "left": null,
       "margin": null,
       "max_height": null,
       "max_width": null,
       "min_height": null,
       "min_width": null,
       "object_fit": null,
       "object_position": null,
       "order": null,
       "overflow": null,
       "overflow_x": null,
       "overflow_y": null,
       "padding": null,
       "right": null,
       "top": null,
       "visibility": null,
       "width": null
      }
     },
     "238862d91a134bdf9a4cfd6da4ec59b6": {
      "model_module": "@jupyter-widgets/controls",
      "model_module_version": "1.5.0",
      "model_name": "HTMLModel",
      "state": {
       "_dom_classes": [],
       "_model_module": "@jupyter-widgets/controls",
       "_model_module_version": "1.5.0",
       "_model_name": "HTMLModel",
       "_view_count": null,
       "_view_module": "@jupyter-widgets/controls",
       "_view_module_version": "1.5.0",
       "_view_name": "HTMLView",
       "description": "",
       "description_tooltip": null,
       "layout": "IPY_MODEL_b2faab10544842e3a4c43e2cf4e7dba6",
       "placeholder": "​",
       "style": "IPY_MODEL_803b43206dcb4143aafe286efb5c99e5",
       "value": "100%"
      }
     },
     "2ba9cf5cfb664cce9d1beee4aa307ab0": {
      "model_module": "@jupyter-widgets/controls",
      "model_module_version": "1.5.0",
      "model_name": "DescriptionStyleModel",
      "state": {
       "_model_module": "@jupyter-widgets/controls",
       "_model_module_version": "1.5.0",
       "_model_name": "DescriptionStyleModel",
       "_view_count": null,
       "_view_module": "@jupyter-widgets/base",
       "_view_module_version": "1.2.0",
       "_view_name": "StyleView",
       "description_width": ""
      }
     },
     "2f592e6d197b4f44abc3b310f7c7527e": {
      "model_module": "@jupyter-widgets/base",
      "model_module_version": "1.2.0",
      "model_name": "LayoutModel",
      "state": {
       "_model_module": "@jupyter-widgets/base",
       "_model_module_version": "1.2.0",
       "_model_name": "LayoutModel",
       "_view_count": null,
       "_view_module": "@jupyter-widgets/base",
       "_view_module_version": "1.2.0",
       "_view_name": "LayoutView",
       "align_content": null,
       "align_items": null,
       "align_self": null,
       "border": null,
       "bottom": null,
       "display": null,
       "flex": null,
       "flex_flow": null,
       "grid_area": null,
       "grid_auto_columns": null,
       "grid_auto_flow": null,
       "grid_auto_rows": null,
       "grid_column": null,
       "grid_gap": null,
       "grid_row": null,
       "grid_template_areas": null,
       "grid_template_columns": null,
       "grid_template_rows": null,
       "height": null,
       "justify_content": null,
       "justify_items": null,
       "left": null,
       "margin": null,
       "max_height": null,
       "max_width": null,
       "min_height": null,
       "min_width": null,
       "object_fit": null,
       "object_position": null,
       "order": null,
       "overflow": null,
       "overflow_x": null,
       "overflow_y": null,
       "padding": null,
       "right": null,
       "top": null,
       "visibility": null,
       "width": null
      }
     },
     "3786d12f8c3b40da9d45ecafb4539dde": {
      "model_module": "@jupyter-widgets/base",
      "model_module_version": "1.2.0",
      "model_name": "LayoutModel",
      "state": {
       "_model_module": "@jupyter-widgets/base",
       "_model_module_version": "1.2.0",
       "_model_name": "LayoutModel",
       "_view_count": null,
       "_view_module": "@jupyter-widgets/base",
       "_view_module_version": "1.2.0",
       "_view_name": "LayoutView",
       "align_content": null,
       "align_items": null,
       "align_self": null,
       "border": null,
       "bottom": null,
       "display": null,
       "flex": null,
       "flex_flow": null,
       "grid_area": null,
       "grid_auto_columns": null,
       "grid_auto_flow": null,
       "grid_auto_rows": null,
       "grid_column": null,
       "grid_gap": null,
       "grid_row": null,
       "grid_template_areas": null,
       "grid_template_columns": null,
       "grid_template_rows": null,
       "height": null,
       "justify_content": null,
       "justify_items": null,
       "left": null,
       "margin": null,
       "max_height": null,
       "max_width": null,
       "min_height": null,
       "min_width": null,
       "object_fit": null,
       "object_position": null,
       "order": null,
       "overflow": null,
       "overflow_x": null,
       "overflow_y": null,
       "padding": null,
       "right": null,
       "top": null,
       "visibility": null,
       "width": null
      }
     },
     "55edb484674f490082f9b15c19217e0b": {
      "model_module": "@jupyter-widgets/controls",
      "model_module_version": "1.5.0",
      "model_name": "HBoxModel",
      "state": {
       "_dom_classes": [],
       "_model_module": "@jupyter-widgets/controls",
       "_model_module_version": "1.5.0",
       "_model_name": "HBoxModel",
       "_view_count": null,
       "_view_module": "@jupyter-widgets/controls",
       "_view_module_version": "1.5.0",
       "_view_name": "HBoxView",
       "box_style": "",
       "children": [
        "IPY_MODEL_d290c648d9964b319737569cb4683525",
        "IPY_MODEL_ec4953eb5a5f410eb9227ac778e50089",
        "IPY_MODEL_89dbac36c77445c9b0592ea556b8cb8c"
       ],
       "layout": "IPY_MODEL_8f275e6b533f4218a1b50c577e5ba85d"
      }
     },
     "588a55283472407ebb51a8f52c83a956": {
      "model_module": "@jupyter-widgets/controls",
      "model_module_version": "1.5.0",
      "model_name": "DescriptionStyleModel",
      "state": {
       "_model_module": "@jupyter-widgets/controls",
       "_model_module_version": "1.5.0",
       "_model_name": "DescriptionStyleModel",
       "_view_count": null,
       "_view_module": "@jupyter-widgets/base",
       "_view_module_version": "1.2.0",
       "_view_name": "StyleView",
       "description_width": ""
      }
     },
     "7808b57c11564a7d854492eba6368fa4": {
      "model_module": "@jupyter-widgets/controls",
      "model_module_version": "1.5.0",
      "model_name": "HBoxModel",
      "state": {
       "_dom_classes": [],
       "_model_module": "@jupyter-widgets/controls",
       "_model_module_version": "1.5.0",
       "_model_name": "HBoxModel",
       "_view_count": null,
       "_view_module": "@jupyter-widgets/controls",
       "_view_module_version": "1.5.0",
       "_view_name": "HBoxView",
       "box_style": "",
       "children": [
        "IPY_MODEL_238862d91a134bdf9a4cfd6da4ec59b6",
        "IPY_MODEL_9db9a6a8bbfd4104b44005e03596d592",
        "IPY_MODEL_d1ee7d9ed7954d9a8716c55be85797b3"
       ],
       "layout": "IPY_MODEL_17015746d9f1484d82614a7d3c734349"
      }
     },
     "7b2dbb9317254e2387bea5c08eb1b1be": {
      "model_module": "@jupyter-widgets/base",
      "model_module_version": "1.2.0",
      "model_name": "LayoutModel",
      "state": {
       "_model_module": "@jupyter-widgets/base",
       "_model_module_version": "1.2.0",
       "_model_name": "LayoutModel",
       "_view_count": null,
       "_view_module": "@jupyter-widgets/base",
       "_view_module_version": "1.2.0",
       "_view_name": "LayoutView",
       "align_content": null,
       "align_items": null,
       "align_self": null,
       "border": null,
       "bottom": null,
       "display": null,
       "flex": null,
       "flex_flow": null,
       "grid_area": null,
       "grid_auto_columns": null,
       "grid_auto_flow": null,
       "grid_auto_rows": null,
       "grid_column": null,
       "grid_gap": null,
       "grid_row": null,
       "grid_template_areas": null,
       "grid_template_columns": null,
       "grid_template_rows": null,
       "height": null,
       "justify_content": null,
       "justify_items": null,
       "left": null,
       "margin": null,
       "max_height": null,
       "max_width": null,
       "min_height": null,
       "min_width": null,
       "object_fit": null,
       "object_position": null,
       "order": null,
       "overflow": null,
       "overflow_x": null,
       "overflow_y": null,
       "padding": null,
       "right": null,
       "top": null,
       "visibility": null,
       "width": null
      }
     },
     "803b43206dcb4143aafe286efb5c99e5": {
      "model_module": "@jupyter-widgets/controls",
      "model_module_version": "1.5.0",
      "model_name": "DescriptionStyleModel",
      "state": {
       "_model_module": "@jupyter-widgets/controls",
       "_model_module_version": "1.5.0",
       "_model_name": "DescriptionStyleModel",
       "_view_count": null,
       "_view_module": "@jupyter-widgets/base",
       "_view_module_version": "1.2.0",
       "_view_name": "StyleView",
       "description_width": ""
      }
     },
     "89dbac36c77445c9b0592ea556b8cb8c": {
      "model_module": "@jupyter-widgets/controls",
      "model_module_version": "1.5.0",
      "model_name": "HTMLModel",
      "state": {
       "_dom_classes": [],
       "_model_module": "@jupyter-widgets/controls",
       "_model_module_version": "1.5.0",
       "_model_name": "HTMLModel",
       "_view_count": null,
       "_view_module": "@jupyter-widgets/controls",
       "_view_module_version": "1.5.0",
       "_view_name": "HTMLView",
       "description": "",
       "description_tooltip": null,
       "layout": "IPY_MODEL_aa40173d14764582b7add599f86643a7",
       "placeholder": "​",
       "style": "IPY_MODEL_588a55283472407ebb51a8f52c83a956",
       "value": " 23708/23708 [00:00&lt;00:00, 212083.91it/s]"
      }
     },
     "8f275e6b533f4218a1b50c577e5ba85d": {
      "model_module": "@jupyter-widgets/base",
      "model_module_version": "1.2.0",
      "model_name": "LayoutModel",
      "state": {
       "_model_module": "@jupyter-widgets/base",
       "_model_module_version": "1.2.0",
       "_model_name": "LayoutModel",
       "_view_count": null,
       "_view_module": "@jupyter-widgets/base",
       "_view_module_version": "1.2.0",
       "_view_name": "LayoutView",
       "align_content": null,
       "align_items": null,
       "align_self": null,
       "border": null,
       "bottom": null,
       "display": null,
       "flex": null,
       "flex_flow": null,
       "grid_area": null,
       "grid_auto_columns": null,
       "grid_auto_flow": null,
       "grid_auto_rows": null,
       "grid_column": null,
       "grid_gap": null,
       "grid_row": null,
       "grid_template_areas": null,
       "grid_template_columns": null,
       "grid_template_rows": null,
       "height": null,
       "justify_content": null,
       "justify_items": null,
       "left": null,
       "margin": null,
       "max_height": null,
       "max_width": null,
       "min_height": null,
       "min_width": null,
       "object_fit": null,
       "object_position": null,
       "order": null,
       "overflow": null,
       "overflow_x": null,
       "overflow_y": null,
       "padding": null,
       "right": null,
       "top": null,
       "visibility": null,
       "width": null
      }
     },
     "9db9a6a8bbfd4104b44005e03596d592": {
      "model_module": "@jupyter-widgets/controls",
      "model_module_version": "1.5.0",
      "model_name": "FloatProgressModel",
      "state": {
       "_dom_classes": [],
       "_model_module": "@jupyter-widgets/controls",
       "_model_module_version": "1.5.0",
       "_model_name": "FloatProgressModel",
       "_view_count": null,
       "_view_module": "@jupyter-widgets/controls",
       "_view_module_version": "1.5.0",
       "_view_name": "ProgressView",
       "bar_style": "success",
       "description": "",
       "description_tooltip": null,
       "layout": "IPY_MODEL_3786d12f8c3b40da9d45ecafb4539dde",
       "max": 20000,
       "min": 0,
       "orientation": "horizontal",
       "style": "IPY_MODEL_c6d1419dde854d0096171606ddb8f261",
       "value": 20000
      }
     },
     "aa40173d14764582b7add599f86643a7": {
      "model_module": "@jupyter-widgets/base",
      "model_module_version": "1.2.0",
      "model_name": "LayoutModel",
      "state": {
       "_model_module": "@jupyter-widgets/base",
       "_model_module_version": "1.2.0",
       "_model_name": "LayoutModel",
       "_view_count": null,
       "_view_module": "@jupyter-widgets/base",
       "_view_module_version": "1.2.0",
       "_view_name": "LayoutView",
       "align_content": null,
       "align_items": null,
       "align_self": null,
       "border": null,
       "bottom": null,
       "display": null,
       "flex": null,
       "flex_flow": null,
       "grid_area": null,
       "grid_auto_columns": null,
       "grid_auto_flow": null,
       "grid_auto_rows": null,
       "grid_column": null,
       "grid_gap": null,
       "grid_row": null,
       "grid_template_areas": null,
       "grid_template_columns": null,
       "grid_template_rows": null,
       "height": null,
       "justify_content": null,
       "justify_items": null,
       "left": null,
       "margin": null,
       "max_height": null,
       "max_width": null,
       "min_height": null,
       "min_width": null,
       "object_fit": null,
       "object_position": null,
       "order": null,
       "overflow": null,
       "overflow_x": null,
       "overflow_y": null,
       "padding": null,
       "right": null,
       "top": null,
       "visibility": null,
       "width": null
      }
     },
     "b2faab10544842e3a4c43e2cf4e7dba6": {
      "model_module": "@jupyter-widgets/base",
      "model_module_version": "1.2.0",
      "model_name": "LayoutModel",
      "state": {
       "_model_module": "@jupyter-widgets/base",
       "_model_module_version": "1.2.0",
       "_model_name": "LayoutModel",
       "_view_count": null,
       "_view_module": "@jupyter-widgets/base",
       "_view_module_version": "1.2.0",
       "_view_name": "LayoutView",
       "align_content": null,
       "align_items": null,
       "align_self": null,
       "border": null,
       "bottom": null,
       "display": null,
       "flex": null,
       "flex_flow": null,
       "grid_area": null,
       "grid_auto_columns": null,
       "grid_auto_flow": null,
       "grid_auto_rows": null,
       "grid_column": null,
       "grid_gap": null,
       "grid_row": null,
       "grid_template_areas": null,
       "grid_template_columns": null,
       "grid_template_rows": null,
       "height": null,
       "justify_content": null,
       "justify_items": null,
       "left": null,
       "margin": null,
       "max_height": null,
       "max_width": null,
       "min_height": null,
       "min_width": null,
       "object_fit": null,
       "object_position": null,
       "order": null,
       "overflow": null,
       "overflow_x": null,
       "overflow_y": null,
       "padding": null,
       "right": null,
       "top": null,
       "visibility": null,
       "width": null
      }
     },
     "c6d1419dde854d0096171606ddb8f261": {
      "model_module": "@jupyter-widgets/controls",
      "model_module_version": "1.5.0",
      "model_name": "ProgressStyleModel",
      "state": {
       "_model_module": "@jupyter-widgets/controls",
       "_model_module_version": "1.5.0",
       "_model_name": "ProgressStyleModel",
       "_view_count": null,
       "_view_module": "@jupyter-widgets/base",
       "_view_module_version": "1.2.0",
       "_view_name": "StyleView",
       "bar_color": null,
       "description_width": ""
      }
     },
     "d1ee7d9ed7954d9a8716c55be85797b3": {
      "model_module": "@jupyter-widgets/controls",
      "model_module_version": "1.5.0",
      "model_name": "HTMLModel",
      "state": {
       "_dom_classes": [],
       "_model_module": "@jupyter-widgets/controls",
       "_model_module_version": "1.5.0",
       "_model_name": "HTMLModel",
       "_view_count": null,
       "_view_module": "@jupyter-widgets/controls",
       "_view_module_version": "1.5.0",
       "_view_name": "HTMLView",
       "description": "",
       "description_tooltip": null,
       "layout": "IPY_MODEL_2f592e6d197b4f44abc3b310f7c7527e",
       "placeholder": "​",
       "style": "IPY_MODEL_2ba9cf5cfb664cce9d1beee4aa307ab0",
       "value": " 20000/20000 [02:16&lt;00:00, 146.07it/s]"
      }
     },
     "d290c648d9964b319737569cb4683525": {
      "model_module": "@jupyter-widgets/controls",
      "model_module_version": "1.5.0",
      "model_name": "HTMLModel",
      "state": {
       "_dom_classes": [],
       "_model_module": "@jupyter-widgets/controls",
       "_model_module_version": "1.5.0",
       "_model_name": "HTMLModel",
       "_view_count": null,
       "_view_module": "@jupyter-widgets/controls",
       "_view_module_version": "1.5.0",
       "_view_name": "HTMLView",
       "description": "",
       "description_tooltip": null,
       "layout": "IPY_MODEL_f1819d8e04194b54abe557b683115a18",
       "placeholder": "​",
       "style": "IPY_MODEL_eb6d0296195c4cdab22df73127a57556",
       "value": "100%"
      }
     },
     "dfb2abd4cde544268373c2964fd39da7": {
      "model_module": "@jupyter-widgets/controls",
      "model_module_version": "1.5.0",
      "model_name": "ProgressStyleModel",
      "state": {
       "_model_module": "@jupyter-widgets/controls",
       "_model_module_version": "1.5.0",
       "_model_name": "ProgressStyleModel",
       "_view_count": null,
       "_view_module": "@jupyter-widgets/base",
       "_view_module_version": "1.2.0",
       "_view_name": "StyleView",
       "bar_color": null,
       "description_width": ""
      }
     },
     "eb6d0296195c4cdab22df73127a57556": {
      "model_module": "@jupyter-widgets/controls",
      "model_module_version": "1.5.0",
      "model_name": "DescriptionStyleModel",
      "state": {
       "_model_module": "@jupyter-widgets/controls",
       "_model_module_version": "1.5.0",
       "_model_name": "DescriptionStyleModel",
       "_view_count": null,
       "_view_module": "@jupyter-widgets/base",
       "_view_module_version": "1.2.0",
       "_view_name": "StyleView",
       "description_width": ""
      }
     },
     "ec4953eb5a5f410eb9227ac778e50089": {
      "model_module": "@jupyter-widgets/controls",
      "model_module_version": "1.5.0",
      "model_name": "FloatProgressModel",
      "state": {
       "_dom_classes": [],
       "_model_module": "@jupyter-widgets/controls",
       "_model_module_version": "1.5.0",
       "_model_name": "FloatProgressModel",
       "_view_count": null,
       "_view_module": "@jupyter-widgets/controls",
       "_view_module_version": "1.5.0",
       "_view_name": "ProgressView",
       "bar_style": "success",
       "description": "",
       "description_tooltip": null,
       "layout": "IPY_MODEL_7b2dbb9317254e2387bea5c08eb1b1be",
       "max": 23708,
       "min": 0,
       "orientation": "horizontal",
       "style": "IPY_MODEL_dfb2abd4cde544268373c2964fd39da7",
       "value": 23708
      }
     },
     "f1819d8e04194b54abe557b683115a18": {
      "model_module": "@jupyter-widgets/base",
      "model_module_version": "1.2.0",
      "model_name": "LayoutModel",
      "state": {
       "_model_module": "@jupyter-widgets/base",
       "_model_module_version": "1.2.0",
       "_model_name": "LayoutModel",
       "_view_count": null,
       "_view_module": "@jupyter-widgets/base",
       "_view_module_version": "1.2.0",
       "_view_name": "LayoutView",
       "align_content": null,
       "align_items": null,
       "align_self": null,
       "border": null,
       "bottom": null,
       "display": null,
       "flex": null,
       "flex_flow": null,
       "grid_area": null,
       "grid_auto_columns": null,
       "grid_auto_flow": null,
       "grid_auto_rows": null,
       "grid_column": null,
       "grid_gap": null,
       "grid_row": null,
       "grid_template_areas": null,
       "grid_template_columns": null,
       "grid_template_rows": null,
       "height": null,
       "justify_content": null,
       "justify_items": null,
       "left": null,
       "margin": null,
       "max_height": null,
       "max_width": null,
       "min_height": null,
       "min_width": null,
       "object_fit": null,
       "object_position": null,
       "order": null,
       "overflow": null,
       "overflow_x": null,
       "overflow_y": null,
       "padding": null,
       "right": null,
       "top": null,
       "visibility": null,
       "width": null
      }
     }
    },
    "version_major": 2,
    "version_minor": 0
   }
  }
 },
 "nbformat": 4,
 "nbformat_minor": 4
}
